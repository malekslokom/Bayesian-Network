{
  "nbformat": 4,
  "nbformat_minor": 0,
  "metadata": {
    "colab": {
      "name": "LateSchool.ipynb",
      "provenance": [],
      "authorship_tag": "ABX9TyO0raxS+0vMFT6bjCdGT1Hl",
      "include_colab_link": true
    },
    "kernelspec": {
      "name": "python3",
      "display_name": "Python 3"
    },
    "language_info": {
      "name": "python"
    },
    "widgets": {
      "application/vnd.jupyter.widget-state+json": {
        "c1a4d0f983ef497a8f5567a887868d9b": {
          "model_module": "@jupyter-widgets/controls",
          "model_name": "HBoxModel",
          "model_module_version": "1.5.0",
          "state": {
            "_dom_classes": [],
            "_model_module": "@jupyter-widgets/controls",
            "_model_module_version": "1.5.0",
            "_model_name": "HBoxModel",
            "_view_count": null,
            "_view_module": "@jupyter-widgets/controls",
            "_view_module_version": "1.5.0",
            "_view_name": "HBoxView",
            "box_style": "",
            "children": [
              "IPY_MODEL_a0ab7b119ef3486cb7bcdd29b2644e39",
              "IPY_MODEL_b49e666f70e946349c8e7dbf9f15bcfd",
              "IPY_MODEL_1bcb263d48b840c49367e4788d2264c2"
            ],
            "layout": "IPY_MODEL_a41b7a7d4a7243d28859f5431fc47f32"
          }
        },
        "a0ab7b119ef3486cb7bcdd29b2644e39": {
          "model_module": "@jupyter-widgets/controls",
          "model_name": "HTMLModel",
          "model_module_version": "1.5.0",
          "state": {
            "_dom_classes": [],
            "_model_module": "@jupyter-widgets/controls",
            "_model_module_version": "1.5.0",
            "_model_name": "HTMLModel",
            "_view_count": null,
            "_view_module": "@jupyter-widgets/controls",
            "_view_module_version": "1.5.0",
            "_view_name": "HTMLView",
            "description": "",
            "description_tooltip": null,
            "layout": "IPY_MODEL_2a0ede494f50456e8ae4a20a744616a2",
            "placeholder": "​",
            "style": "IPY_MODEL_3a949fc4f73f45739f52b4ac12c06c62",
            "value": "Finding Elimination Order: :   0%"
          }
        },
        "b49e666f70e946349c8e7dbf9f15bcfd": {
          "model_module": "@jupyter-widgets/controls",
          "model_name": "FloatProgressModel",
          "model_module_version": "1.5.0",
          "state": {
            "_dom_classes": [],
            "_model_module": "@jupyter-widgets/controls",
            "_model_module_version": "1.5.0",
            "_model_name": "FloatProgressModel",
            "_view_count": null,
            "_view_module": "@jupyter-widgets/controls",
            "_view_module_version": "1.5.0",
            "_view_name": "ProgressView",
            "bar_style": "",
            "description": "",
            "description_tooltip": null,
            "layout": "IPY_MODEL_8c125c0fed8343dfa25ad9165f6fc6c4",
            "max": 2,
            "min": 0,
            "orientation": "horizontal",
            "style": "IPY_MODEL_0834569e41a9409e80d25b7a2fe928ea",
            "value": 0
          }
        },
        "1bcb263d48b840c49367e4788d2264c2": {
          "model_module": "@jupyter-widgets/controls",
          "model_name": "HTMLModel",
          "model_module_version": "1.5.0",
          "state": {
            "_dom_classes": [],
            "_model_module": "@jupyter-widgets/controls",
            "_model_module_version": "1.5.0",
            "_model_name": "HTMLModel",
            "_view_count": null,
            "_view_module": "@jupyter-widgets/controls",
            "_view_module_version": "1.5.0",
            "_view_name": "HTMLView",
            "description": "",
            "description_tooltip": null,
            "layout": "IPY_MODEL_bc95454c9c5c4997bf1de6936a5bef72",
            "placeholder": "​",
            "style": "IPY_MODEL_3084a6c2090b49fb939e7254e5bf9593",
            "value": " 0/2 [00:00&lt;?, ?it/s]"
          }
        },
        "a41b7a7d4a7243d28859f5431fc47f32": {
          "model_module": "@jupyter-widgets/base",
          "model_name": "LayoutModel",
          "model_module_version": "1.2.0",
          "state": {
            "_model_module": "@jupyter-widgets/base",
            "_model_module_version": "1.2.0",
            "_model_name": "LayoutModel",
            "_view_count": null,
            "_view_module": "@jupyter-widgets/base",
            "_view_module_version": "1.2.0",
            "_view_name": "LayoutView",
            "align_content": null,
            "align_items": null,
            "align_self": null,
            "border": null,
            "bottom": null,
            "display": null,
            "flex": null,
            "flex_flow": null,
            "grid_area": null,
            "grid_auto_columns": null,
            "grid_auto_flow": null,
            "grid_auto_rows": null,
            "grid_column": null,
            "grid_gap": null,
            "grid_row": null,
            "grid_template_areas": null,
            "grid_template_columns": null,
            "grid_template_rows": null,
            "height": null,
            "justify_content": null,
            "justify_items": null,
            "left": null,
            "margin": null,
            "max_height": null,
            "max_width": null,
            "min_height": null,
            "min_width": null,
            "object_fit": null,
            "object_position": null,
            "order": null,
            "overflow": null,
            "overflow_x": null,
            "overflow_y": null,
            "padding": null,
            "right": null,
            "top": null,
            "visibility": null,
            "width": null
          }
        },
        "2a0ede494f50456e8ae4a20a744616a2": {
          "model_module": "@jupyter-widgets/base",
          "model_name": "LayoutModel",
          "model_module_version": "1.2.0",
          "state": {
            "_model_module": "@jupyter-widgets/base",
            "_model_module_version": "1.2.0",
            "_model_name": "LayoutModel",
            "_view_count": null,
            "_view_module": "@jupyter-widgets/base",
            "_view_module_version": "1.2.0",
            "_view_name": "LayoutView",
            "align_content": null,
            "align_items": null,
            "align_self": null,
            "border": null,
            "bottom": null,
            "display": null,
            "flex": null,
            "flex_flow": null,
            "grid_area": null,
            "grid_auto_columns": null,
            "grid_auto_flow": null,
            "grid_auto_rows": null,
            "grid_column": null,
            "grid_gap": null,
            "grid_row": null,
            "grid_template_areas": null,
            "grid_template_columns": null,
            "grid_template_rows": null,
            "height": null,
            "justify_content": null,
            "justify_items": null,
            "left": null,
            "margin": null,
            "max_height": null,
            "max_width": null,
            "min_height": null,
            "min_width": null,
            "object_fit": null,
            "object_position": null,
            "order": null,
            "overflow": null,
            "overflow_x": null,
            "overflow_y": null,
            "padding": null,
            "right": null,
            "top": null,
            "visibility": null,
            "width": null
          }
        },
        "3a949fc4f73f45739f52b4ac12c06c62": {
          "model_module": "@jupyter-widgets/controls",
          "model_name": "DescriptionStyleModel",
          "model_module_version": "1.5.0",
          "state": {
            "_model_module": "@jupyter-widgets/controls",
            "_model_module_version": "1.5.0",
            "_model_name": "DescriptionStyleModel",
            "_view_count": null,
            "_view_module": "@jupyter-widgets/base",
            "_view_module_version": "1.2.0",
            "_view_name": "StyleView",
            "description_width": ""
          }
        },
        "8c125c0fed8343dfa25ad9165f6fc6c4": {
          "model_module": "@jupyter-widgets/base",
          "model_name": "LayoutModel",
          "model_module_version": "1.2.0",
          "state": {
            "_model_module": "@jupyter-widgets/base",
            "_model_module_version": "1.2.0",
            "_model_name": "LayoutModel",
            "_view_count": null,
            "_view_module": "@jupyter-widgets/base",
            "_view_module_version": "1.2.0",
            "_view_name": "LayoutView",
            "align_content": null,
            "align_items": null,
            "align_self": null,
            "border": null,
            "bottom": null,
            "display": null,
            "flex": null,
            "flex_flow": null,
            "grid_area": null,
            "grid_auto_columns": null,
            "grid_auto_flow": null,
            "grid_auto_rows": null,
            "grid_column": null,
            "grid_gap": null,
            "grid_row": null,
            "grid_template_areas": null,
            "grid_template_columns": null,
            "grid_template_rows": null,
            "height": null,
            "justify_content": null,
            "justify_items": null,
            "left": null,
            "margin": null,
            "max_height": null,
            "max_width": null,
            "min_height": null,
            "min_width": null,
            "object_fit": null,
            "object_position": null,
            "order": null,
            "overflow": null,
            "overflow_x": null,
            "overflow_y": null,
            "padding": null,
            "right": null,
            "top": null,
            "visibility": null,
            "width": null
          }
        },
        "0834569e41a9409e80d25b7a2fe928ea": {
          "model_module": "@jupyter-widgets/controls",
          "model_name": "ProgressStyleModel",
          "model_module_version": "1.5.0",
          "state": {
            "_model_module": "@jupyter-widgets/controls",
            "_model_module_version": "1.5.0",
            "_model_name": "ProgressStyleModel",
            "_view_count": null,
            "_view_module": "@jupyter-widgets/base",
            "_view_module_version": "1.2.0",
            "_view_name": "StyleView",
            "bar_color": null,
            "description_width": ""
          }
        },
        "bc95454c9c5c4997bf1de6936a5bef72": {
          "model_module": "@jupyter-widgets/base",
          "model_name": "LayoutModel",
          "model_module_version": "1.2.0",
          "state": {
            "_model_module": "@jupyter-widgets/base",
            "_model_module_version": "1.2.0",
            "_model_name": "LayoutModel",
            "_view_count": null,
            "_view_module": "@jupyter-widgets/base",
            "_view_module_version": "1.2.0",
            "_view_name": "LayoutView",
            "align_content": null,
            "align_items": null,
            "align_self": null,
            "border": null,
            "bottom": null,
            "display": null,
            "flex": null,
            "flex_flow": null,
            "grid_area": null,
            "grid_auto_columns": null,
            "grid_auto_flow": null,
            "grid_auto_rows": null,
            "grid_column": null,
            "grid_gap": null,
            "grid_row": null,
            "grid_template_areas": null,
            "grid_template_columns": null,
            "grid_template_rows": null,
            "height": null,
            "justify_content": null,
            "justify_items": null,
            "left": null,
            "margin": null,
            "max_height": null,
            "max_width": null,
            "min_height": null,
            "min_width": null,
            "object_fit": null,
            "object_position": null,
            "order": null,
            "overflow": null,
            "overflow_x": null,
            "overflow_y": null,
            "padding": null,
            "right": null,
            "top": null,
            "visibility": null,
            "width": null
          }
        },
        "3084a6c2090b49fb939e7254e5bf9593": {
          "model_module": "@jupyter-widgets/controls",
          "model_name": "DescriptionStyleModel",
          "model_module_version": "1.5.0",
          "state": {
            "_model_module": "@jupyter-widgets/controls",
            "_model_module_version": "1.5.0",
            "_model_name": "DescriptionStyleModel",
            "_view_count": null,
            "_view_module": "@jupyter-widgets/base",
            "_view_module_version": "1.2.0",
            "_view_name": "StyleView",
            "description_width": ""
          }
        },
        "73d9a42092d343c4a60a88044a745d92": {
          "model_module": "@jupyter-widgets/controls",
          "model_name": "HBoxModel",
          "model_module_version": "1.5.0",
          "state": {
            "_dom_classes": [],
            "_model_module": "@jupyter-widgets/controls",
            "_model_module_version": "1.5.0",
            "_model_name": "HBoxModel",
            "_view_count": null,
            "_view_module": "@jupyter-widgets/controls",
            "_view_module_version": "1.5.0",
            "_view_name": "HBoxView",
            "box_style": "",
            "children": [
              "IPY_MODEL_9bb33b5f1d4b4acb96b999579dc2fa10",
              "IPY_MODEL_b90eef2b51b74696b1cb3206b259372d",
              "IPY_MODEL_52c75996382c48db8ff4982138a95878"
            ],
            "layout": "IPY_MODEL_38c5def0fabf4143bfd83c2deffadd02"
          }
        },
        "9bb33b5f1d4b4acb96b999579dc2fa10": {
          "model_module": "@jupyter-widgets/controls",
          "model_name": "HTMLModel",
          "model_module_version": "1.5.0",
          "state": {
            "_dom_classes": [],
            "_model_module": "@jupyter-widgets/controls",
            "_model_module_version": "1.5.0",
            "_model_name": "HTMLModel",
            "_view_count": null,
            "_view_module": "@jupyter-widgets/controls",
            "_view_module_version": "1.5.0",
            "_view_name": "HTMLView",
            "description": "",
            "description_tooltip": null,
            "layout": "IPY_MODEL_be754458e95a4a00a8139684d64b4c74",
            "placeholder": "​",
            "style": "IPY_MODEL_b4dc3131a43f4416a75d28bd763f0319",
            "value": "Eliminating: accident: 100%"
          }
        },
        "b90eef2b51b74696b1cb3206b259372d": {
          "model_module": "@jupyter-widgets/controls",
          "model_name": "FloatProgressModel",
          "model_module_version": "1.5.0",
          "state": {
            "_dom_classes": [],
            "_model_module": "@jupyter-widgets/controls",
            "_model_module_version": "1.5.0",
            "_model_name": "FloatProgressModel",
            "_view_count": null,
            "_view_module": "@jupyter-widgets/controls",
            "_view_module_version": "1.5.0",
            "_view_name": "ProgressView",
            "bar_style": "success",
            "description": "",
            "description_tooltip": null,
            "layout": "IPY_MODEL_d392f27b595b4c8c9dc8f4b5d26b06f4",
            "max": 2,
            "min": 0,
            "orientation": "horizontal",
            "style": "IPY_MODEL_fa1a07313c93490e8ab3e4c7f2ee848d",
            "value": 2
          }
        },
        "52c75996382c48db8ff4982138a95878": {
          "model_module": "@jupyter-widgets/controls",
          "model_name": "HTMLModel",
          "model_module_version": "1.5.0",
          "state": {
            "_dom_classes": [],
            "_model_module": "@jupyter-widgets/controls",
            "_model_module_version": "1.5.0",
            "_model_name": "HTMLModel",
            "_view_count": null,
            "_view_module": "@jupyter-widgets/controls",
            "_view_module_version": "1.5.0",
            "_view_name": "HTMLView",
            "description": "",
            "description_tooltip": null,
            "layout": "IPY_MODEL_e02fd99735144592b2a25db77fc9e01a",
            "placeholder": "​",
            "style": "IPY_MODEL_0d0e3a65661843628390e60acf90b356",
            "value": " 2/2 [00:00&lt;00:00, 27.15it/s]"
          }
        },
        "38c5def0fabf4143bfd83c2deffadd02": {
          "model_module": "@jupyter-widgets/base",
          "model_name": "LayoutModel",
          "model_module_version": "1.2.0",
          "state": {
            "_model_module": "@jupyter-widgets/base",
            "_model_module_version": "1.2.0",
            "_model_name": "LayoutModel",
            "_view_count": null,
            "_view_module": "@jupyter-widgets/base",
            "_view_module_version": "1.2.0",
            "_view_name": "LayoutView",
            "align_content": null,
            "align_items": null,
            "align_self": null,
            "border": null,
            "bottom": null,
            "display": null,
            "flex": null,
            "flex_flow": null,
            "grid_area": null,
            "grid_auto_columns": null,
            "grid_auto_flow": null,
            "grid_auto_rows": null,
            "grid_column": null,
            "grid_gap": null,
            "grid_row": null,
            "grid_template_areas": null,
            "grid_template_columns": null,
            "grid_template_rows": null,
            "height": null,
            "justify_content": null,
            "justify_items": null,
            "left": null,
            "margin": null,
            "max_height": null,
            "max_width": null,
            "min_height": null,
            "min_width": null,
            "object_fit": null,
            "object_position": null,
            "order": null,
            "overflow": null,
            "overflow_x": null,
            "overflow_y": null,
            "padding": null,
            "right": null,
            "top": null,
            "visibility": null,
            "width": null
          }
        },
        "be754458e95a4a00a8139684d64b4c74": {
          "model_module": "@jupyter-widgets/base",
          "model_name": "LayoutModel",
          "model_module_version": "1.2.0",
          "state": {
            "_model_module": "@jupyter-widgets/base",
            "_model_module_version": "1.2.0",
            "_model_name": "LayoutModel",
            "_view_count": null,
            "_view_module": "@jupyter-widgets/base",
            "_view_module_version": "1.2.0",
            "_view_name": "LayoutView",
            "align_content": null,
            "align_items": null,
            "align_self": null,
            "border": null,
            "bottom": null,
            "display": null,
            "flex": null,
            "flex_flow": null,
            "grid_area": null,
            "grid_auto_columns": null,
            "grid_auto_flow": null,
            "grid_auto_rows": null,
            "grid_column": null,
            "grid_gap": null,
            "grid_row": null,
            "grid_template_areas": null,
            "grid_template_columns": null,
            "grid_template_rows": null,
            "height": null,
            "justify_content": null,
            "justify_items": null,
            "left": null,
            "margin": null,
            "max_height": null,
            "max_width": null,
            "min_height": null,
            "min_width": null,
            "object_fit": null,
            "object_position": null,
            "order": null,
            "overflow": null,
            "overflow_x": null,
            "overflow_y": null,
            "padding": null,
            "right": null,
            "top": null,
            "visibility": null,
            "width": null
          }
        },
        "b4dc3131a43f4416a75d28bd763f0319": {
          "model_module": "@jupyter-widgets/controls",
          "model_name": "DescriptionStyleModel",
          "model_module_version": "1.5.0",
          "state": {
            "_model_module": "@jupyter-widgets/controls",
            "_model_module_version": "1.5.0",
            "_model_name": "DescriptionStyleModel",
            "_view_count": null,
            "_view_module": "@jupyter-widgets/base",
            "_view_module_version": "1.2.0",
            "_view_name": "StyleView",
            "description_width": ""
          }
        },
        "d392f27b595b4c8c9dc8f4b5d26b06f4": {
          "model_module": "@jupyter-widgets/base",
          "model_name": "LayoutModel",
          "model_module_version": "1.2.0",
          "state": {
            "_model_module": "@jupyter-widgets/base",
            "_model_module_version": "1.2.0",
            "_model_name": "LayoutModel",
            "_view_count": null,
            "_view_module": "@jupyter-widgets/base",
            "_view_module_version": "1.2.0",
            "_view_name": "LayoutView",
            "align_content": null,
            "align_items": null,
            "align_self": null,
            "border": null,
            "bottom": null,
            "display": null,
            "flex": null,
            "flex_flow": null,
            "grid_area": null,
            "grid_auto_columns": null,
            "grid_auto_flow": null,
            "grid_auto_rows": null,
            "grid_column": null,
            "grid_gap": null,
            "grid_row": null,
            "grid_template_areas": null,
            "grid_template_columns": null,
            "grid_template_rows": null,
            "height": null,
            "justify_content": null,
            "justify_items": null,
            "left": null,
            "margin": null,
            "max_height": null,
            "max_width": null,
            "min_height": null,
            "min_width": null,
            "object_fit": null,
            "object_position": null,
            "order": null,
            "overflow": null,
            "overflow_x": null,
            "overflow_y": null,
            "padding": null,
            "right": null,
            "top": null,
            "visibility": null,
            "width": null
          }
        },
        "fa1a07313c93490e8ab3e4c7f2ee848d": {
          "model_module": "@jupyter-widgets/controls",
          "model_name": "ProgressStyleModel",
          "model_module_version": "1.5.0",
          "state": {
            "_model_module": "@jupyter-widgets/controls",
            "_model_module_version": "1.5.0",
            "_model_name": "ProgressStyleModel",
            "_view_count": null,
            "_view_module": "@jupyter-widgets/base",
            "_view_module_version": "1.2.0",
            "_view_name": "StyleView",
            "bar_color": null,
            "description_width": ""
          }
        },
        "e02fd99735144592b2a25db77fc9e01a": {
          "model_module": "@jupyter-widgets/base",
          "model_name": "LayoutModel",
          "model_module_version": "1.2.0",
          "state": {
            "_model_module": "@jupyter-widgets/base",
            "_model_module_version": "1.2.0",
            "_model_name": "LayoutModel",
            "_view_count": null,
            "_view_module": "@jupyter-widgets/base",
            "_view_module_version": "1.2.0",
            "_view_name": "LayoutView",
            "align_content": null,
            "align_items": null,
            "align_self": null,
            "border": null,
            "bottom": null,
            "display": null,
            "flex": null,
            "flex_flow": null,
            "grid_area": null,
            "grid_auto_columns": null,
            "grid_auto_flow": null,
            "grid_auto_rows": null,
            "grid_column": null,
            "grid_gap": null,
            "grid_row": null,
            "grid_template_areas": null,
            "grid_template_columns": null,
            "grid_template_rows": null,
            "height": null,
            "justify_content": null,
            "justify_items": null,
            "left": null,
            "margin": null,
            "max_height": null,
            "max_width": null,
            "min_height": null,
            "min_width": null,
            "object_fit": null,
            "object_position": null,
            "order": null,
            "overflow": null,
            "overflow_x": null,
            "overflow_y": null,
            "padding": null,
            "right": null,
            "top": null,
            "visibility": null,
            "width": null
          }
        },
        "0d0e3a65661843628390e60acf90b356": {
          "model_module": "@jupyter-widgets/controls",
          "model_name": "DescriptionStyleModel",
          "model_module_version": "1.5.0",
          "state": {
            "_model_module": "@jupyter-widgets/controls",
            "_model_module_version": "1.5.0",
            "_model_name": "DescriptionStyleModel",
            "_view_count": null,
            "_view_module": "@jupyter-widgets/base",
            "_view_module_version": "1.2.0",
            "_view_name": "StyleView",
            "description_width": ""
          }
        },
        "374bbb3e593c4332a6ba3b861a88cd62": {
          "model_module": "@jupyter-widgets/controls",
          "model_name": "HBoxModel",
          "model_module_version": "1.5.0",
          "state": {
            "_dom_classes": [],
            "_model_module": "@jupyter-widgets/controls",
            "_model_module_version": "1.5.0",
            "_model_name": "HBoxModel",
            "_view_count": null,
            "_view_module": "@jupyter-widgets/controls",
            "_view_module_version": "1.5.0",
            "_view_name": "HBoxView",
            "box_style": "",
            "children": [
              "IPY_MODEL_82d770aed7d04ac888d92551cbc139b2",
              "IPY_MODEL_1625e9b1a35f43198e8d4a4aa686f2ad",
              "IPY_MODEL_3062e135719c485fac42ac7529493c60"
            ],
            "layout": "IPY_MODEL_d1fbb5b86abc4cf7b9c4667a0c933aae"
          }
        },
        "82d770aed7d04ac888d92551cbc139b2": {
          "model_module": "@jupyter-widgets/controls",
          "model_name": "HTMLModel",
          "model_module_version": "1.5.0",
          "state": {
            "_dom_classes": [],
            "_model_module": "@jupyter-widgets/controls",
            "_model_module_version": "1.5.0",
            "_model_name": "HTMLModel",
            "_view_count": null,
            "_view_module": "@jupyter-widgets/controls",
            "_view_module_version": "1.5.0",
            "_view_name": "HTMLView",
            "description": "",
            "description_tooltip": null,
            "layout": "IPY_MODEL_88f9d80003d04931a5490ba7dff7ee35",
            "placeholder": "​",
            "style": "IPY_MODEL_5f1db81bf330487aa274f6dae9d3a17f",
            "value": "Finding Elimination Order: :   0%"
          }
        },
        "1625e9b1a35f43198e8d4a4aa686f2ad": {
          "model_module": "@jupyter-widgets/controls",
          "model_name": "FloatProgressModel",
          "model_module_version": "1.5.0",
          "state": {
            "_dom_classes": [],
            "_model_module": "@jupyter-widgets/controls",
            "_model_module_version": "1.5.0",
            "_model_name": "FloatProgressModel",
            "_view_count": null,
            "_view_module": "@jupyter-widgets/controls",
            "_view_module_version": "1.5.0",
            "_view_name": "ProgressView",
            "bar_style": "",
            "description": "",
            "description_tooltip": null,
            "layout": "IPY_MODEL_509011eb25fc482bae15f96bbc814d65",
            "max": 1,
            "min": 0,
            "orientation": "horizontal",
            "style": "IPY_MODEL_3778c36385ff48f89768d49d0a881e28",
            "value": 0
          }
        },
        "3062e135719c485fac42ac7529493c60": {
          "model_module": "@jupyter-widgets/controls",
          "model_name": "HTMLModel",
          "model_module_version": "1.5.0",
          "state": {
            "_dom_classes": [],
            "_model_module": "@jupyter-widgets/controls",
            "_model_module_version": "1.5.0",
            "_model_name": "HTMLModel",
            "_view_count": null,
            "_view_module": "@jupyter-widgets/controls",
            "_view_module_version": "1.5.0",
            "_view_name": "HTMLView",
            "description": "",
            "description_tooltip": null,
            "layout": "IPY_MODEL_99091ff9c3844def82c99c6cd405e819",
            "placeholder": "​",
            "style": "IPY_MODEL_9c23cd66489e4c2da792c7de40e31f41",
            "value": " 0/1 [00:00&lt;?, ?it/s]"
          }
        },
        "d1fbb5b86abc4cf7b9c4667a0c933aae": {
          "model_module": "@jupyter-widgets/base",
          "model_name": "LayoutModel",
          "model_module_version": "1.2.0",
          "state": {
            "_model_module": "@jupyter-widgets/base",
            "_model_module_version": "1.2.0",
            "_model_name": "LayoutModel",
            "_view_count": null,
            "_view_module": "@jupyter-widgets/base",
            "_view_module_version": "1.2.0",
            "_view_name": "LayoutView",
            "align_content": null,
            "align_items": null,
            "align_self": null,
            "border": null,
            "bottom": null,
            "display": null,
            "flex": null,
            "flex_flow": null,
            "grid_area": null,
            "grid_auto_columns": null,
            "grid_auto_flow": null,
            "grid_auto_rows": null,
            "grid_column": null,
            "grid_gap": null,
            "grid_row": null,
            "grid_template_areas": null,
            "grid_template_columns": null,
            "grid_template_rows": null,
            "height": null,
            "justify_content": null,
            "justify_items": null,
            "left": null,
            "margin": null,
            "max_height": null,
            "max_width": null,
            "min_height": null,
            "min_width": null,
            "object_fit": null,
            "object_position": null,
            "order": null,
            "overflow": null,
            "overflow_x": null,
            "overflow_y": null,
            "padding": null,
            "right": null,
            "top": null,
            "visibility": null,
            "width": null
          }
        },
        "88f9d80003d04931a5490ba7dff7ee35": {
          "model_module": "@jupyter-widgets/base",
          "model_name": "LayoutModel",
          "model_module_version": "1.2.0",
          "state": {
            "_model_module": "@jupyter-widgets/base",
            "_model_module_version": "1.2.0",
            "_model_name": "LayoutModel",
            "_view_count": null,
            "_view_module": "@jupyter-widgets/base",
            "_view_module_version": "1.2.0",
            "_view_name": "LayoutView",
            "align_content": null,
            "align_items": null,
            "align_self": null,
            "border": null,
            "bottom": null,
            "display": null,
            "flex": null,
            "flex_flow": null,
            "grid_area": null,
            "grid_auto_columns": null,
            "grid_auto_flow": null,
            "grid_auto_rows": null,
            "grid_column": null,
            "grid_gap": null,
            "grid_row": null,
            "grid_template_areas": null,
            "grid_template_columns": null,
            "grid_template_rows": null,
            "height": null,
            "justify_content": null,
            "justify_items": null,
            "left": null,
            "margin": null,
            "max_height": null,
            "max_width": null,
            "min_height": null,
            "min_width": null,
            "object_fit": null,
            "object_position": null,
            "order": null,
            "overflow": null,
            "overflow_x": null,
            "overflow_y": null,
            "padding": null,
            "right": null,
            "top": null,
            "visibility": null,
            "width": null
          }
        },
        "5f1db81bf330487aa274f6dae9d3a17f": {
          "model_module": "@jupyter-widgets/controls",
          "model_name": "DescriptionStyleModel",
          "model_module_version": "1.5.0",
          "state": {
            "_model_module": "@jupyter-widgets/controls",
            "_model_module_version": "1.5.0",
            "_model_name": "DescriptionStyleModel",
            "_view_count": null,
            "_view_module": "@jupyter-widgets/base",
            "_view_module_version": "1.2.0",
            "_view_name": "StyleView",
            "description_width": ""
          }
        },
        "509011eb25fc482bae15f96bbc814d65": {
          "model_module": "@jupyter-widgets/base",
          "model_name": "LayoutModel",
          "model_module_version": "1.2.0",
          "state": {
            "_model_module": "@jupyter-widgets/base",
            "_model_module_version": "1.2.0",
            "_model_name": "LayoutModel",
            "_view_count": null,
            "_view_module": "@jupyter-widgets/base",
            "_view_module_version": "1.2.0",
            "_view_name": "LayoutView",
            "align_content": null,
            "align_items": null,
            "align_self": null,
            "border": null,
            "bottom": null,
            "display": null,
            "flex": null,
            "flex_flow": null,
            "grid_area": null,
            "grid_auto_columns": null,
            "grid_auto_flow": null,
            "grid_auto_rows": null,
            "grid_column": null,
            "grid_gap": null,
            "grid_row": null,
            "grid_template_areas": null,
            "grid_template_columns": null,
            "grid_template_rows": null,
            "height": null,
            "justify_content": null,
            "justify_items": null,
            "left": null,
            "margin": null,
            "max_height": null,
            "max_width": null,
            "min_height": null,
            "min_width": null,
            "object_fit": null,
            "object_position": null,
            "order": null,
            "overflow": null,
            "overflow_x": null,
            "overflow_y": null,
            "padding": null,
            "right": null,
            "top": null,
            "visibility": null,
            "width": null
          }
        },
        "3778c36385ff48f89768d49d0a881e28": {
          "model_module": "@jupyter-widgets/controls",
          "model_name": "ProgressStyleModel",
          "model_module_version": "1.5.0",
          "state": {
            "_model_module": "@jupyter-widgets/controls",
            "_model_module_version": "1.5.0",
            "_model_name": "ProgressStyleModel",
            "_view_count": null,
            "_view_module": "@jupyter-widgets/base",
            "_view_module_version": "1.2.0",
            "_view_name": "StyleView",
            "bar_color": null,
            "description_width": ""
          }
        },
        "99091ff9c3844def82c99c6cd405e819": {
          "model_module": "@jupyter-widgets/base",
          "model_name": "LayoutModel",
          "model_module_version": "1.2.0",
          "state": {
            "_model_module": "@jupyter-widgets/base",
            "_model_module_version": "1.2.0",
            "_model_name": "LayoutModel",
            "_view_count": null,
            "_view_module": "@jupyter-widgets/base",
            "_view_module_version": "1.2.0",
            "_view_name": "LayoutView",
            "align_content": null,
            "align_items": null,
            "align_self": null,
            "border": null,
            "bottom": null,
            "display": null,
            "flex": null,
            "flex_flow": null,
            "grid_area": null,
            "grid_auto_columns": null,
            "grid_auto_flow": null,
            "grid_auto_rows": null,
            "grid_column": null,
            "grid_gap": null,
            "grid_row": null,
            "grid_template_areas": null,
            "grid_template_columns": null,
            "grid_template_rows": null,
            "height": null,
            "justify_content": null,
            "justify_items": null,
            "left": null,
            "margin": null,
            "max_height": null,
            "max_width": null,
            "min_height": null,
            "min_width": null,
            "object_fit": null,
            "object_position": null,
            "order": null,
            "overflow": null,
            "overflow_x": null,
            "overflow_y": null,
            "padding": null,
            "right": null,
            "top": null,
            "visibility": null,
            "width": null
          }
        },
        "9c23cd66489e4c2da792c7de40e31f41": {
          "model_module": "@jupyter-widgets/controls",
          "model_name": "DescriptionStyleModel",
          "model_module_version": "1.5.0",
          "state": {
            "_model_module": "@jupyter-widgets/controls",
            "_model_module_version": "1.5.0",
            "_model_name": "DescriptionStyleModel",
            "_view_count": null,
            "_view_module": "@jupyter-widgets/base",
            "_view_module_version": "1.2.0",
            "_view_name": "StyleView",
            "description_width": ""
          }
        },
        "0a1f40ba9edf40548c93f3ab3520550c": {
          "model_module": "@jupyter-widgets/controls",
          "model_name": "HBoxModel",
          "model_module_version": "1.5.0",
          "state": {
            "_dom_classes": [],
            "_model_module": "@jupyter-widgets/controls",
            "_model_module_version": "1.5.0",
            "_model_name": "HBoxModel",
            "_view_count": null,
            "_view_module": "@jupyter-widgets/controls",
            "_view_module_version": "1.5.0",
            "_view_name": "HBoxView",
            "box_style": "",
            "children": [
              "IPY_MODEL_c494a237d6254b578117de774eebb91f",
              "IPY_MODEL_17a3cac8282540d69f014c8d0b00d988",
              "IPY_MODEL_3c5f737661334d90971b3b999e31e85a"
            ],
            "layout": "IPY_MODEL_5ee7fc077dee446593c0d43b24838bfa"
          }
        },
        "c494a237d6254b578117de774eebb91f": {
          "model_module": "@jupyter-widgets/controls",
          "model_name": "HTMLModel",
          "model_module_version": "1.5.0",
          "state": {
            "_dom_classes": [],
            "_model_module": "@jupyter-widgets/controls",
            "_model_module_version": "1.5.0",
            "_model_name": "HTMLModel",
            "_view_count": null,
            "_view_module": "@jupyter-widgets/controls",
            "_view_module_version": "1.5.0",
            "_view_name": "HTMLView",
            "description": "",
            "description_tooltip": null,
            "layout": "IPY_MODEL_792d32be1572403cbc62635d2eb9d584",
            "placeholder": "​",
            "style": "IPY_MODEL_ee6daab694ec44ab8bc6383dc64a2d3c",
            "value": "Eliminating: rain: 100%"
          }
        },
        "17a3cac8282540d69f014c8d0b00d988": {
          "model_module": "@jupyter-widgets/controls",
          "model_name": "FloatProgressModel",
          "model_module_version": "1.5.0",
          "state": {
            "_dom_classes": [],
            "_model_module": "@jupyter-widgets/controls",
            "_model_module_version": "1.5.0",
            "_model_name": "FloatProgressModel",
            "_view_count": null,
            "_view_module": "@jupyter-widgets/controls",
            "_view_module_version": "1.5.0",
            "_view_name": "ProgressView",
            "bar_style": "success",
            "description": "",
            "description_tooltip": null,
            "layout": "IPY_MODEL_17fc529194474c3bb4ca5ec9d4a5d424",
            "max": 1,
            "min": 0,
            "orientation": "horizontal",
            "style": "IPY_MODEL_90c92236247e41f7886288b4e2c2d6ea",
            "value": 1
          }
        },
        "3c5f737661334d90971b3b999e31e85a": {
          "model_module": "@jupyter-widgets/controls",
          "model_name": "HTMLModel",
          "model_module_version": "1.5.0",
          "state": {
            "_dom_classes": [],
            "_model_module": "@jupyter-widgets/controls",
            "_model_module_version": "1.5.0",
            "_model_name": "HTMLModel",
            "_view_count": null,
            "_view_module": "@jupyter-widgets/controls",
            "_view_module_version": "1.5.0",
            "_view_name": "HTMLView",
            "description": "",
            "description_tooltip": null,
            "layout": "IPY_MODEL_7a9794ae30874628ba21b14b0244b273",
            "placeholder": "​",
            "style": "IPY_MODEL_9c060012401e4e538b2160065a6d42d7",
            "value": " 1/1 [00:00&lt;00:00, 15.06it/s]"
          }
        },
        "5ee7fc077dee446593c0d43b24838bfa": {
          "model_module": "@jupyter-widgets/base",
          "model_name": "LayoutModel",
          "model_module_version": "1.2.0",
          "state": {
            "_model_module": "@jupyter-widgets/base",
            "_model_module_version": "1.2.0",
            "_model_name": "LayoutModel",
            "_view_count": null,
            "_view_module": "@jupyter-widgets/base",
            "_view_module_version": "1.2.0",
            "_view_name": "LayoutView",
            "align_content": null,
            "align_items": null,
            "align_self": null,
            "border": null,
            "bottom": null,
            "display": null,
            "flex": null,
            "flex_flow": null,
            "grid_area": null,
            "grid_auto_columns": null,
            "grid_auto_flow": null,
            "grid_auto_rows": null,
            "grid_column": null,
            "grid_gap": null,
            "grid_row": null,
            "grid_template_areas": null,
            "grid_template_columns": null,
            "grid_template_rows": null,
            "height": null,
            "justify_content": null,
            "justify_items": null,
            "left": null,
            "margin": null,
            "max_height": null,
            "max_width": null,
            "min_height": null,
            "min_width": null,
            "object_fit": null,
            "object_position": null,
            "order": null,
            "overflow": null,
            "overflow_x": null,
            "overflow_y": null,
            "padding": null,
            "right": null,
            "top": null,
            "visibility": null,
            "width": null
          }
        },
        "792d32be1572403cbc62635d2eb9d584": {
          "model_module": "@jupyter-widgets/base",
          "model_name": "LayoutModel",
          "model_module_version": "1.2.0",
          "state": {
            "_model_module": "@jupyter-widgets/base",
            "_model_module_version": "1.2.0",
            "_model_name": "LayoutModel",
            "_view_count": null,
            "_view_module": "@jupyter-widgets/base",
            "_view_module_version": "1.2.0",
            "_view_name": "LayoutView",
            "align_content": null,
            "align_items": null,
            "align_self": null,
            "border": null,
            "bottom": null,
            "display": null,
            "flex": null,
            "flex_flow": null,
            "grid_area": null,
            "grid_auto_columns": null,
            "grid_auto_flow": null,
            "grid_auto_rows": null,
            "grid_column": null,
            "grid_gap": null,
            "grid_row": null,
            "grid_template_areas": null,
            "grid_template_columns": null,
            "grid_template_rows": null,
            "height": null,
            "justify_content": null,
            "justify_items": null,
            "left": null,
            "margin": null,
            "max_height": null,
            "max_width": null,
            "min_height": null,
            "min_width": null,
            "object_fit": null,
            "object_position": null,
            "order": null,
            "overflow": null,
            "overflow_x": null,
            "overflow_y": null,
            "padding": null,
            "right": null,
            "top": null,
            "visibility": null,
            "width": null
          }
        },
        "ee6daab694ec44ab8bc6383dc64a2d3c": {
          "model_module": "@jupyter-widgets/controls",
          "model_name": "DescriptionStyleModel",
          "model_module_version": "1.5.0",
          "state": {
            "_model_module": "@jupyter-widgets/controls",
            "_model_module_version": "1.5.0",
            "_model_name": "DescriptionStyleModel",
            "_view_count": null,
            "_view_module": "@jupyter-widgets/base",
            "_view_module_version": "1.2.0",
            "_view_name": "StyleView",
            "description_width": ""
          }
        },
        "17fc529194474c3bb4ca5ec9d4a5d424": {
          "model_module": "@jupyter-widgets/base",
          "model_name": "LayoutModel",
          "model_module_version": "1.2.0",
          "state": {
            "_model_module": "@jupyter-widgets/base",
            "_model_module_version": "1.2.0",
            "_model_name": "LayoutModel",
            "_view_count": null,
            "_view_module": "@jupyter-widgets/base",
            "_view_module_version": "1.2.0",
            "_view_name": "LayoutView",
            "align_content": null,
            "align_items": null,
            "align_self": null,
            "border": null,
            "bottom": null,
            "display": null,
            "flex": null,
            "flex_flow": null,
            "grid_area": null,
            "grid_auto_columns": null,
            "grid_auto_flow": null,
            "grid_auto_rows": null,
            "grid_column": null,
            "grid_gap": null,
            "grid_row": null,
            "grid_template_areas": null,
            "grid_template_columns": null,
            "grid_template_rows": null,
            "height": null,
            "justify_content": null,
            "justify_items": null,
            "left": null,
            "margin": null,
            "max_height": null,
            "max_width": null,
            "min_height": null,
            "min_width": null,
            "object_fit": null,
            "object_position": null,
            "order": null,
            "overflow": null,
            "overflow_x": null,
            "overflow_y": null,
            "padding": null,
            "right": null,
            "top": null,
            "visibility": null,
            "width": null
          }
        },
        "90c92236247e41f7886288b4e2c2d6ea": {
          "model_module": "@jupyter-widgets/controls",
          "model_name": "ProgressStyleModel",
          "model_module_version": "1.5.0",
          "state": {
            "_model_module": "@jupyter-widgets/controls",
            "_model_module_version": "1.5.0",
            "_model_name": "ProgressStyleModel",
            "_view_count": null,
            "_view_module": "@jupyter-widgets/base",
            "_view_module_version": "1.2.0",
            "_view_name": "StyleView",
            "bar_color": null,
            "description_width": ""
          }
        },
        "7a9794ae30874628ba21b14b0244b273": {
          "model_module": "@jupyter-widgets/base",
          "model_name": "LayoutModel",
          "model_module_version": "1.2.0",
          "state": {
            "_model_module": "@jupyter-widgets/base",
            "_model_module_version": "1.2.0",
            "_model_name": "LayoutModel",
            "_view_count": null,
            "_view_module": "@jupyter-widgets/base",
            "_view_module_version": "1.2.0",
            "_view_name": "LayoutView",
            "align_content": null,
            "align_items": null,
            "align_self": null,
            "border": null,
            "bottom": null,
            "display": null,
            "flex": null,
            "flex_flow": null,
            "grid_area": null,
            "grid_auto_columns": null,
            "grid_auto_flow": null,
            "grid_auto_rows": null,
            "grid_column": null,
            "grid_gap": null,
            "grid_row": null,
            "grid_template_areas": null,
            "grid_template_columns": null,
            "grid_template_rows": null,
            "height": null,
            "justify_content": null,
            "justify_items": null,
            "left": null,
            "margin": null,
            "max_height": null,
            "max_width": null,
            "min_height": null,
            "min_width": null,
            "object_fit": null,
            "object_position": null,
            "order": null,
            "overflow": null,
            "overflow_x": null,
            "overflow_y": null,
            "padding": null,
            "right": null,
            "top": null,
            "visibility": null,
            "width": null
          }
        },
        "9c060012401e4e538b2160065a6d42d7": {
          "model_module": "@jupyter-widgets/controls",
          "model_name": "DescriptionStyleModel",
          "model_module_version": "1.5.0",
          "state": {
            "_model_module": "@jupyter-widgets/controls",
            "_model_module_version": "1.5.0",
            "_model_name": "DescriptionStyleModel",
            "_view_count": null,
            "_view_module": "@jupyter-widgets/base",
            "_view_module_version": "1.2.0",
            "_view_name": "StyleView",
            "description_width": ""
          }
        },
        "7d05f4d52d694a738900a3d8265ec487": {
          "model_module": "@jupyter-widgets/controls",
          "model_name": "HBoxModel",
          "model_module_version": "1.5.0",
          "state": {
            "_dom_classes": [],
            "_model_module": "@jupyter-widgets/controls",
            "_model_module_version": "1.5.0",
            "_model_name": "HBoxModel",
            "_view_count": null,
            "_view_module": "@jupyter-widgets/controls",
            "_view_module_version": "1.5.0",
            "_view_name": "HBoxView",
            "box_style": "",
            "children": [
              "IPY_MODEL_be34603d92b54f128eb1706bd8586cb1",
              "IPY_MODEL_67d7ff108a0e4c2c96192314aafc15bf",
              "IPY_MODEL_e8311ca3576a42a6bd04d604e0187747"
            ],
            "layout": "IPY_MODEL_8279e8cce71d4aabb707e710681112fa"
          }
        },
        "be34603d92b54f128eb1706bd8586cb1": {
          "model_module": "@jupyter-widgets/controls",
          "model_name": "HTMLModel",
          "model_module_version": "1.5.0",
          "state": {
            "_dom_classes": [],
            "_model_module": "@jupyter-widgets/controls",
            "_model_module_version": "1.5.0",
            "_model_name": "HTMLModel",
            "_view_count": null,
            "_view_module": "@jupyter-widgets/controls",
            "_view_module_version": "1.5.0",
            "_view_name": "HTMLView",
            "description": "",
            "description_tooltip": null,
            "layout": "IPY_MODEL_63024535a50e45b292b33773414c2ef0",
            "placeholder": "​",
            "style": "IPY_MODEL_9754d72e0fd140f0b53d4f0b67ba62c3",
            "value": "Finding Elimination Order: : 100%"
          }
        },
        "67d7ff108a0e4c2c96192314aafc15bf": {
          "model_module": "@jupyter-widgets/controls",
          "model_name": "FloatProgressModel",
          "model_module_version": "1.5.0",
          "state": {
            "_dom_classes": [],
            "_model_module": "@jupyter-widgets/controls",
            "_model_module_version": "1.5.0",
            "_model_name": "FloatProgressModel",
            "_view_count": null,
            "_view_module": "@jupyter-widgets/controls",
            "_view_module_version": "1.5.0",
            "_view_name": "ProgressView",
            "bar_style": "success",
            "description": "",
            "description_tooltip": null,
            "layout": "IPY_MODEL_0cc26413cbff4281ab74d7bd0d9164ac",
            "max": 1,
            "min": 0,
            "orientation": "horizontal",
            "style": "IPY_MODEL_6eaaeb84cf1e4339bace0ac4d6025076",
            "value": 1
          }
        },
        "e8311ca3576a42a6bd04d604e0187747": {
          "model_module": "@jupyter-widgets/controls",
          "model_name": "HTMLModel",
          "model_module_version": "1.5.0",
          "state": {
            "_dom_classes": [],
            "_model_module": "@jupyter-widgets/controls",
            "_model_module_version": "1.5.0",
            "_model_name": "HTMLModel",
            "_view_count": null,
            "_view_module": "@jupyter-widgets/controls",
            "_view_module_version": "1.5.0",
            "_view_name": "HTMLView",
            "description": "",
            "description_tooltip": null,
            "layout": "IPY_MODEL_e042c5a2cf6f4208ae2baaf0bc83e114",
            "placeholder": "​",
            "style": "IPY_MODEL_70c44cb1d3874851adf20c2907f1fc30",
            "value": " 1/1 [00:00&lt;00:00, 14.08it/s]"
          }
        },
        "8279e8cce71d4aabb707e710681112fa": {
          "model_module": "@jupyter-widgets/base",
          "model_name": "LayoutModel",
          "model_module_version": "1.2.0",
          "state": {
            "_model_module": "@jupyter-widgets/base",
            "_model_module_version": "1.2.0",
            "_model_name": "LayoutModel",
            "_view_count": null,
            "_view_module": "@jupyter-widgets/base",
            "_view_module_version": "1.2.0",
            "_view_name": "LayoutView",
            "align_content": null,
            "align_items": null,
            "align_self": null,
            "border": null,
            "bottom": null,
            "display": null,
            "flex": null,
            "flex_flow": null,
            "grid_area": null,
            "grid_auto_columns": null,
            "grid_auto_flow": null,
            "grid_auto_rows": null,
            "grid_column": null,
            "grid_gap": null,
            "grid_row": null,
            "grid_template_areas": null,
            "grid_template_columns": null,
            "grid_template_rows": null,
            "height": null,
            "justify_content": null,
            "justify_items": null,
            "left": null,
            "margin": null,
            "max_height": null,
            "max_width": null,
            "min_height": null,
            "min_width": null,
            "object_fit": null,
            "object_position": null,
            "order": null,
            "overflow": null,
            "overflow_x": null,
            "overflow_y": null,
            "padding": null,
            "right": null,
            "top": null,
            "visibility": null,
            "width": null
          }
        },
        "63024535a50e45b292b33773414c2ef0": {
          "model_module": "@jupyter-widgets/base",
          "model_name": "LayoutModel",
          "model_module_version": "1.2.0",
          "state": {
            "_model_module": "@jupyter-widgets/base",
            "_model_module_version": "1.2.0",
            "_model_name": "LayoutModel",
            "_view_count": null,
            "_view_module": "@jupyter-widgets/base",
            "_view_module_version": "1.2.0",
            "_view_name": "LayoutView",
            "align_content": null,
            "align_items": null,
            "align_self": null,
            "border": null,
            "bottom": null,
            "display": null,
            "flex": null,
            "flex_flow": null,
            "grid_area": null,
            "grid_auto_columns": null,
            "grid_auto_flow": null,
            "grid_auto_rows": null,
            "grid_column": null,
            "grid_gap": null,
            "grid_row": null,
            "grid_template_areas": null,
            "grid_template_columns": null,
            "grid_template_rows": null,
            "height": null,
            "justify_content": null,
            "justify_items": null,
            "left": null,
            "margin": null,
            "max_height": null,
            "max_width": null,
            "min_height": null,
            "min_width": null,
            "object_fit": null,
            "object_position": null,
            "order": null,
            "overflow": null,
            "overflow_x": null,
            "overflow_y": null,
            "padding": null,
            "right": null,
            "top": null,
            "visibility": null,
            "width": null
          }
        },
        "9754d72e0fd140f0b53d4f0b67ba62c3": {
          "model_module": "@jupyter-widgets/controls",
          "model_name": "DescriptionStyleModel",
          "model_module_version": "1.5.0",
          "state": {
            "_model_module": "@jupyter-widgets/controls",
            "_model_module_version": "1.5.0",
            "_model_name": "DescriptionStyleModel",
            "_view_count": null,
            "_view_module": "@jupyter-widgets/base",
            "_view_module_version": "1.2.0",
            "_view_name": "StyleView",
            "description_width": ""
          }
        },
        "0cc26413cbff4281ab74d7bd0d9164ac": {
          "model_module": "@jupyter-widgets/base",
          "model_name": "LayoutModel",
          "model_module_version": "1.2.0",
          "state": {
            "_model_module": "@jupyter-widgets/base",
            "_model_module_version": "1.2.0",
            "_model_name": "LayoutModel",
            "_view_count": null,
            "_view_module": "@jupyter-widgets/base",
            "_view_module_version": "1.2.0",
            "_view_name": "LayoutView",
            "align_content": null,
            "align_items": null,
            "align_self": null,
            "border": null,
            "bottom": null,
            "display": null,
            "flex": null,
            "flex_flow": null,
            "grid_area": null,
            "grid_auto_columns": null,
            "grid_auto_flow": null,
            "grid_auto_rows": null,
            "grid_column": null,
            "grid_gap": null,
            "grid_row": null,
            "grid_template_areas": null,
            "grid_template_columns": null,
            "grid_template_rows": null,
            "height": null,
            "justify_content": null,
            "justify_items": null,
            "left": null,
            "margin": null,
            "max_height": null,
            "max_width": null,
            "min_height": null,
            "min_width": null,
            "object_fit": null,
            "object_position": null,
            "order": null,
            "overflow": null,
            "overflow_x": null,
            "overflow_y": null,
            "padding": null,
            "right": null,
            "top": null,
            "visibility": null,
            "width": null
          }
        },
        "6eaaeb84cf1e4339bace0ac4d6025076": {
          "model_module": "@jupyter-widgets/controls",
          "model_name": "ProgressStyleModel",
          "model_module_version": "1.5.0",
          "state": {
            "_model_module": "@jupyter-widgets/controls",
            "_model_module_version": "1.5.0",
            "_model_name": "ProgressStyleModel",
            "_view_count": null,
            "_view_module": "@jupyter-widgets/base",
            "_view_module_version": "1.2.0",
            "_view_name": "StyleView",
            "bar_color": null,
            "description_width": ""
          }
        },
        "e042c5a2cf6f4208ae2baaf0bc83e114": {
          "model_module": "@jupyter-widgets/base",
          "model_name": "LayoutModel",
          "model_module_version": "1.2.0",
          "state": {
            "_model_module": "@jupyter-widgets/base",
            "_model_module_version": "1.2.0",
            "_model_name": "LayoutModel",
            "_view_count": null,
            "_view_module": "@jupyter-widgets/base",
            "_view_module_version": "1.2.0",
            "_view_name": "LayoutView",
            "align_content": null,
            "align_items": null,
            "align_self": null,
            "border": null,
            "bottom": null,
            "display": null,
            "flex": null,
            "flex_flow": null,
            "grid_area": null,
            "grid_auto_columns": null,
            "grid_auto_flow": null,
            "grid_auto_rows": null,
            "grid_column": null,
            "grid_gap": null,
            "grid_row": null,
            "grid_template_areas": null,
            "grid_template_columns": null,
            "grid_template_rows": null,
            "height": null,
            "justify_content": null,
            "justify_items": null,
            "left": null,
            "margin": null,
            "max_height": null,
            "max_width": null,
            "min_height": null,
            "min_width": null,
            "object_fit": null,
            "object_position": null,
            "order": null,
            "overflow": null,
            "overflow_x": null,
            "overflow_y": null,
            "padding": null,
            "right": null,
            "top": null,
            "visibility": null,
            "width": null
          }
        },
        "70c44cb1d3874851adf20c2907f1fc30": {
          "model_module": "@jupyter-widgets/controls",
          "model_name": "DescriptionStyleModel",
          "model_module_version": "1.5.0",
          "state": {
            "_model_module": "@jupyter-widgets/controls",
            "_model_module_version": "1.5.0",
            "_model_name": "DescriptionStyleModel",
            "_view_count": null,
            "_view_module": "@jupyter-widgets/base",
            "_view_module_version": "1.2.0",
            "_view_name": "StyleView",
            "description_width": ""
          }
        },
        "97cd2e8dd3794090ad0305c899a9b75a": {
          "model_module": "@jupyter-widgets/controls",
          "model_name": "HBoxModel",
          "model_module_version": "1.5.0",
          "state": {
            "_dom_classes": [],
            "_model_module": "@jupyter-widgets/controls",
            "_model_module_version": "1.5.0",
            "_model_name": "HBoxModel",
            "_view_count": null,
            "_view_module": "@jupyter-widgets/controls",
            "_view_module_version": "1.5.0",
            "_view_name": "HBoxView",
            "box_style": "",
            "children": [
              "IPY_MODEL_528d0ea6986641d9b9123ed9a9a01351",
              "IPY_MODEL_221027d6421b453bb62c58c46439e24b",
              "IPY_MODEL_357a38c1517e4ad585b4d37870eef448"
            ],
            "layout": "IPY_MODEL_a0c7fdf832b0462c918c3569c1c9205e"
          }
        },
        "528d0ea6986641d9b9123ed9a9a01351": {
          "model_module": "@jupyter-widgets/controls",
          "model_name": "HTMLModel",
          "model_module_version": "1.5.0",
          "state": {
            "_dom_classes": [],
            "_model_module": "@jupyter-widgets/controls",
            "_model_module_version": "1.5.0",
            "_model_name": "HTMLModel",
            "_view_count": null,
            "_view_module": "@jupyter-widgets/controls",
            "_view_module_version": "1.5.0",
            "_view_name": "HTMLView",
            "description": "",
            "description_tooltip": null,
            "layout": "IPY_MODEL_f239b743b9fd4c01a5ef323bf85f3f2c",
            "placeholder": "​",
            "style": "IPY_MODEL_29380e31362b40a2bf9845794856e321",
            "value": "Eliminating: accident: 100%"
          }
        },
        "221027d6421b453bb62c58c46439e24b": {
          "model_module": "@jupyter-widgets/controls",
          "model_name": "FloatProgressModel",
          "model_module_version": "1.5.0",
          "state": {
            "_dom_classes": [],
            "_model_module": "@jupyter-widgets/controls",
            "_model_module_version": "1.5.0",
            "_model_name": "FloatProgressModel",
            "_view_count": null,
            "_view_module": "@jupyter-widgets/controls",
            "_view_module_version": "1.5.0",
            "_view_name": "ProgressView",
            "bar_style": "success",
            "description": "",
            "description_tooltip": null,
            "layout": "IPY_MODEL_a27393bccc124ec089b07a9d80378b5e",
            "max": 1,
            "min": 0,
            "orientation": "horizontal",
            "style": "IPY_MODEL_db914d258d774ea08f2e46666460d316",
            "value": 1
          }
        },
        "357a38c1517e4ad585b4d37870eef448": {
          "model_module": "@jupyter-widgets/controls",
          "model_name": "HTMLModel",
          "model_module_version": "1.5.0",
          "state": {
            "_dom_classes": [],
            "_model_module": "@jupyter-widgets/controls",
            "_model_module_version": "1.5.0",
            "_model_name": "HTMLModel",
            "_view_count": null,
            "_view_module": "@jupyter-widgets/controls",
            "_view_module_version": "1.5.0",
            "_view_name": "HTMLView",
            "description": "",
            "description_tooltip": null,
            "layout": "IPY_MODEL_17e88b219939438099899356f07f9736",
            "placeholder": "​",
            "style": "IPY_MODEL_81ca95c35c6d457f8f0d3d745f2c54e4",
            "value": " 1/1 [00:00&lt;00:00, 12.51it/s]"
          }
        },
        "a0c7fdf832b0462c918c3569c1c9205e": {
          "model_module": "@jupyter-widgets/base",
          "model_name": "LayoutModel",
          "model_module_version": "1.2.0",
          "state": {
            "_model_module": "@jupyter-widgets/base",
            "_model_module_version": "1.2.0",
            "_model_name": "LayoutModel",
            "_view_count": null,
            "_view_module": "@jupyter-widgets/base",
            "_view_module_version": "1.2.0",
            "_view_name": "LayoutView",
            "align_content": null,
            "align_items": null,
            "align_self": null,
            "border": null,
            "bottom": null,
            "display": null,
            "flex": null,
            "flex_flow": null,
            "grid_area": null,
            "grid_auto_columns": null,
            "grid_auto_flow": null,
            "grid_auto_rows": null,
            "grid_column": null,
            "grid_gap": null,
            "grid_row": null,
            "grid_template_areas": null,
            "grid_template_columns": null,
            "grid_template_rows": null,
            "height": null,
            "justify_content": null,
            "justify_items": null,
            "left": null,
            "margin": null,
            "max_height": null,
            "max_width": null,
            "min_height": null,
            "min_width": null,
            "object_fit": null,
            "object_position": null,
            "order": null,
            "overflow": null,
            "overflow_x": null,
            "overflow_y": null,
            "padding": null,
            "right": null,
            "top": null,
            "visibility": null,
            "width": null
          }
        },
        "f239b743b9fd4c01a5ef323bf85f3f2c": {
          "model_module": "@jupyter-widgets/base",
          "model_name": "LayoutModel",
          "model_module_version": "1.2.0",
          "state": {
            "_model_module": "@jupyter-widgets/base",
            "_model_module_version": "1.2.0",
            "_model_name": "LayoutModel",
            "_view_count": null,
            "_view_module": "@jupyter-widgets/base",
            "_view_module_version": "1.2.0",
            "_view_name": "LayoutView",
            "align_content": null,
            "align_items": null,
            "align_self": null,
            "border": null,
            "bottom": null,
            "display": null,
            "flex": null,
            "flex_flow": null,
            "grid_area": null,
            "grid_auto_columns": null,
            "grid_auto_flow": null,
            "grid_auto_rows": null,
            "grid_column": null,
            "grid_gap": null,
            "grid_row": null,
            "grid_template_areas": null,
            "grid_template_columns": null,
            "grid_template_rows": null,
            "height": null,
            "justify_content": null,
            "justify_items": null,
            "left": null,
            "margin": null,
            "max_height": null,
            "max_width": null,
            "min_height": null,
            "min_width": null,
            "object_fit": null,
            "object_position": null,
            "order": null,
            "overflow": null,
            "overflow_x": null,
            "overflow_y": null,
            "padding": null,
            "right": null,
            "top": null,
            "visibility": null,
            "width": null
          }
        },
        "29380e31362b40a2bf9845794856e321": {
          "model_module": "@jupyter-widgets/controls",
          "model_name": "DescriptionStyleModel",
          "model_module_version": "1.5.0",
          "state": {
            "_model_module": "@jupyter-widgets/controls",
            "_model_module_version": "1.5.0",
            "_model_name": "DescriptionStyleModel",
            "_view_count": null,
            "_view_module": "@jupyter-widgets/base",
            "_view_module_version": "1.2.0",
            "_view_name": "StyleView",
            "description_width": ""
          }
        },
        "a27393bccc124ec089b07a9d80378b5e": {
          "model_module": "@jupyter-widgets/base",
          "model_name": "LayoutModel",
          "model_module_version": "1.2.0",
          "state": {
            "_model_module": "@jupyter-widgets/base",
            "_model_module_version": "1.2.0",
            "_model_name": "LayoutModel",
            "_view_count": null,
            "_view_module": "@jupyter-widgets/base",
            "_view_module_version": "1.2.0",
            "_view_name": "LayoutView",
            "align_content": null,
            "align_items": null,
            "align_self": null,
            "border": null,
            "bottom": null,
            "display": null,
            "flex": null,
            "flex_flow": null,
            "grid_area": null,
            "grid_auto_columns": null,
            "grid_auto_flow": null,
            "grid_auto_rows": null,
            "grid_column": null,
            "grid_gap": null,
            "grid_row": null,
            "grid_template_areas": null,
            "grid_template_columns": null,
            "grid_template_rows": null,
            "height": null,
            "justify_content": null,
            "justify_items": null,
            "left": null,
            "margin": null,
            "max_height": null,
            "max_width": null,
            "min_height": null,
            "min_width": null,
            "object_fit": null,
            "object_position": null,
            "order": null,
            "overflow": null,
            "overflow_x": null,
            "overflow_y": null,
            "padding": null,
            "right": null,
            "top": null,
            "visibility": null,
            "width": null
          }
        },
        "db914d258d774ea08f2e46666460d316": {
          "model_module": "@jupyter-widgets/controls",
          "model_name": "ProgressStyleModel",
          "model_module_version": "1.5.0",
          "state": {
            "_model_module": "@jupyter-widgets/controls",
            "_model_module_version": "1.5.0",
            "_model_name": "ProgressStyleModel",
            "_view_count": null,
            "_view_module": "@jupyter-widgets/base",
            "_view_module_version": "1.2.0",
            "_view_name": "StyleView",
            "bar_color": null,
            "description_width": ""
          }
        },
        "17e88b219939438099899356f07f9736": {
          "model_module": "@jupyter-widgets/base",
          "model_name": "LayoutModel",
          "model_module_version": "1.2.0",
          "state": {
            "_model_module": "@jupyter-widgets/base",
            "_model_module_version": "1.2.0",
            "_model_name": "LayoutModel",
            "_view_count": null,
            "_view_module": "@jupyter-widgets/base",
            "_view_module_version": "1.2.0",
            "_view_name": "LayoutView",
            "align_content": null,
            "align_items": null,
            "align_self": null,
            "border": null,
            "bottom": null,
            "display": null,
            "flex": null,
            "flex_flow": null,
            "grid_area": null,
            "grid_auto_columns": null,
            "grid_auto_flow": null,
            "grid_auto_rows": null,
            "grid_column": null,
            "grid_gap": null,
            "grid_row": null,
            "grid_template_areas": null,
            "grid_template_columns": null,
            "grid_template_rows": null,
            "height": null,
            "justify_content": null,
            "justify_items": null,
            "left": null,
            "margin": null,
            "max_height": null,
            "max_width": null,
            "min_height": null,
            "min_width": null,
            "object_fit": null,
            "object_position": null,
            "order": null,
            "overflow": null,
            "overflow_x": null,
            "overflow_y": null,
            "padding": null,
            "right": null,
            "top": null,
            "visibility": null,
            "width": null
          }
        },
        "81ca95c35c6d457f8f0d3d745f2c54e4": {
          "model_module": "@jupyter-widgets/controls",
          "model_name": "DescriptionStyleModel",
          "model_module_version": "1.5.0",
          "state": {
            "_model_module": "@jupyter-widgets/controls",
            "_model_module_version": "1.5.0",
            "_model_name": "DescriptionStyleModel",
            "_view_count": null,
            "_view_module": "@jupyter-widgets/base",
            "_view_module_version": "1.2.0",
            "_view_name": "StyleView",
            "description_width": ""
          }
        },
        "4df4f667ab1d46e29f53e14dae0e636c": {
          "model_module": "@jupyter-widgets/controls",
          "model_name": "HBoxModel",
          "model_module_version": "1.5.0",
          "state": {
            "_dom_classes": [],
            "_model_module": "@jupyter-widgets/controls",
            "_model_module_version": "1.5.0",
            "_model_name": "HBoxModel",
            "_view_count": null,
            "_view_module": "@jupyter-widgets/controls",
            "_view_module_version": "1.5.0",
            "_view_name": "HBoxView",
            "box_style": "",
            "children": [
              "IPY_MODEL_62dcab4115fd4fe48c961b972c005730",
              "IPY_MODEL_7948860ff02a4742baa02b06121b4044",
              "IPY_MODEL_682a3d5efa5f4ffb903c4824fac8a359"
            ],
            "layout": "IPY_MODEL_4bd871d403e54d6eb55208c1e4fa486d"
          }
        },
        "62dcab4115fd4fe48c961b972c005730": {
          "model_module": "@jupyter-widgets/controls",
          "model_name": "HTMLModel",
          "model_module_version": "1.5.0",
          "state": {
            "_dom_classes": [],
            "_model_module": "@jupyter-widgets/controls",
            "_model_module_version": "1.5.0",
            "_model_name": "HTMLModel",
            "_view_count": null,
            "_view_module": "@jupyter-widgets/controls",
            "_view_module_version": "1.5.0",
            "_view_name": "HTMLView",
            "description": "",
            "description_tooltip": null,
            "layout": "IPY_MODEL_5dfcbcac01d34ba882c3c60753408d48",
            "placeholder": "​",
            "style": "IPY_MODEL_24881ffabaea4f2c80dd5b6b2944d3b1",
            "value": "Finding Elimination Order: : "
          }
        },
        "7948860ff02a4742baa02b06121b4044": {
          "model_module": "@jupyter-widgets/controls",
          "model_name": "FloatProgressModel",
          "model_module_version": "1.5.0",
          "state": {
            "_dom_classes": [],
            "_model_module": "@jupyter-widgets/controls",
            "_model_module_version": "1.5.0",
            "_model_name": "FloatProgressModel",
            "_view_count": null,
            "_view_module": "@jupyter-widgets/controls",
            "_view_module_version": "1.5.0",
            "_view_name": "ProgressView",
            "bar_style": "success",
            "description": "",
            "description_tooltip": null,
            "layout": "IPY_MODEL_e04bd17714644748bf5f4c84b0ae97fc",
            "max": 1,
            "min": 0,
            "orientation": "horizontal",
            "style": "IPY_MODEL_f5745b04f6b04e609ee55258c3225921",
            "value": 0
          }
        },
        "682a3d5efa5f4ffb903c4824fac8a359": {
          "model_module": "@jupyter-widgets/controls",
          "model_name": "HTMLModel",
          "model_module_version": "1.5.0",
          "state": {
            "_dom_classes": [],
            "_model_module": "@jupyter-widgets/controls",
            "_model_module_version": "1.5.0",
            "_model_name": "HTMLModel",
            "_view_count": null,
            "_view_module": "@jupyter-widgets/controls",
            "_view_module_version": "1.5.0",
            "_view_name": "HTMLView",
            "description": "",
            "description_tooltip": null,
            "layout": "IPY_MODEL_979b6f5026e547d1acaa08e89c4fa49a",
            "placeholder": "​",
            "style": "IPY_MODEL_61236f7084ae437f853c9b9c8240aa5f",
            "value": " 0/0 [00:00&lt;?, ?it/s]"
          }
        },
        "4bd871d403e54d6eb55208c1e4fa486d": {
          "model_module": "@jupyter-widgets/base",
          "model_name": "LayoutModel",
          "model_module_version": "1.2.0",
          "state": {
            "_model_module": "@jupyter-widgets/base",
            "_model_module_version": "1.2.0",
            "_model_name": "LayoutModel",
            "_view_count": null,
            "_view_module": "@jupyter-widgets/base",
            "_view_module_version": "1.2.0",
            "_view_name": "LayoutView",
            "align_content": null,
            "align_items": null,
            "align_self": null,
            "border": null,
            "bottom": null,
            "display": null,
            "flex": null,
            "flex_flow": null,
            "grid_area": null,
            "grid_auto_columns": null,
            "grid_auto_flow": null,
            "grid_auto_rows": null,
            "grid_column": null,
            "grid_gap": null,
            "grid_row": null,
            "grid_template_areas": null,
            "grid_template_columns": null,
            "grid_template_rows": null,
            "height": null,
            "justify_content": null,
            "justify_items": null,
            "left": null,
            "margin": null,
            "max_height": null,
            "max_width": null,
            "min_height": null,
            "min_width": null,
            "object_fit": null,
            "object_position": null,
            "order": null,
            "overflow": null,
            "overflow_x": null,
            "overflow_y": null,
            "padding": null,
            "right": null,
            "top": null,
            "visibility": null,
            "width": null
          }
        },
        "5dfcbcac01d34ba882c3c60753408d48": {
          "model_module": "@jupyter-widgets/base",
          "model_name": "LayoutModel",
          "model_module_version": "1.2.0",
          "state": {
            "_model_module": "@jupyter-widgets/base",
            "_model_module_version": "1.2.0",
            "_model_name": "LayoutModel",
            "_view_count": null,
            "_view_module": "@jupyter-widgets/base",
            "_view_module_version": "1.2.0",
            "_view_name": "LayoutView",
            "align_content": null,
            "align_items": null,
            "align_self": null,
            "border": null,
            "bottom": null,
            "display": null,
            "flex": null,
            "flex_flow": null,
            "grid_area": null,
            "grid_auto_columns": null,
            "grid_auto_flow": null,
            "grid_auto_rows": null,
            "grid_column": null,
            "grid_gap": null,
            "grid_row": null,
            "grid_template_areas": null,
            "grid_template_columns": null,
            "grid_template_rows": null,
            "height": null,
            "justify_content": null,
            "justify_items": null,
            "left": null,
            "margin": null,
            "max_height": null,
            "max_width": null,
            "min_height": null,
            "min_width": null,
            "object_fit": null,
            "object_position": null,
            "order": null,
            "overflow": null,
            "overflow_x": null,
            "overflow_y": null,
            "padding": null,
            "right": null,
            "top": null,
            "visibility": null,
            "width": null
          }
        },
        "24881ffabaea4f2c80dd5b6b2944d3b1": {
          "model_module": "@jupyter-widgets/controls",
          "model_name": "DescriptionStyleModel",
          "model_module_version": "1.5.0",
          "state": {
            "_model_module": "@jupyter-widgets/controls",
            "_model_module_version": "1.5.0",
            "_model_name": "DescriptionStyleModel",
            "_view_count": null,
            "_view_module": "@jupyter-widgets/base",
            "_view_module_version": "1.2.0",
            "_view_name": "StyleView",
            "description_width": ""
          }
        },
        "e04bd17714644748bf5f4c84b0ae97fc": {
          "model_module": "@jupyter-widgets/base",
          "model_name": "LayoutModel",
          "model_module_version": "1.2.0",
          "state": {
            "_model_module": "@jupyter-widgets/base",
            "_model_module_version": "1.2.0",
            "_model_name": "LayoutModel",
            "_view_count": null,
            "_view_module": "@jupyter-widgets/base",
            "_view_module_version": "1.2.0",
            "_view_name": "LayoutView",
            "align_content": null,
            "align_items": null,
            "align_self": null,
            "border": null,
            "bottom": null,
            "display": null,
            "flex": null,
            "flex_flow": null,
            "grid_area": null,
            "grid_auto_columns": null,
            "grid_auto_flow": null,
            "grid_auto_rows": null,
            "grid_column": null,
            "grid_gap": null,
            "grid_row": null,
            "grid_template_areas": null,
            "grid_template_columns": null,
            "grid_template_rows": null,
            "height": null,
            "justify_content": null,
            "justify_items": null,
            "left": null,
            "margin": null,
            "max_height": null,
            "max_width": null,
            "min_height": null,
            "min_width": null,
            "object_fit": null,
            "object_position": null,
            "order": null,
            "overflow": null,
            "overflow_x": null,
            "overflow_y": null,
            "padding": null,
            "right": null,
            "top": null,
            "visibility": null,
            "width": "20px"
          }
        },
        "f5745b04f6b04e609ee55258c3225921": {
          "model_module": "@jupyter-widgets/controls",
          "model_name": "ProgressStyleModel",
          "model_module_version": "1.5.0",
          "state": {
            "_model_module": "@jupyter-widgets/controls",
            "_model_module_version": "1.5.0",
            "_model_name": "ProgressStyleModel",
            "_view_count": null,
            "_view_module": "@jupyter-widgets/base",
            "_view_module_version": "1.2.0",
            "_view_name": "StyleView",
            "bar_color": null,
            "description_width": ""
          }
        },
        "979b6f5026e547d1acaa08e89c4fa49a": {
          "model_module": "@jupyter-widgets/base",
          "model_name": "LayoutModel",
          "model_module_version": "1.2.0",
          "state": {
            "_model_module": "@jupyter-widgets/base",
            "_model_module_version": "1.2.0",
            "_model_name": "LayoutModel",
            "_view_count": null,
            "_view_module": "@jupyter-widgets/base",
            "_view_module_version": "1.2.0",
            "_view_name": "LayoutView",
            "align_content": null,
            "align_items": null,
            "align_self": null,
            "border": null,
            "bottom": null,
            "display": null,
            "flex": null,
            "flex_flow": null,
            "grid_area": null,
            "grid_auto_columns": null,
            "grid_auto_flow": null,
            "grid_auto_rows": null,
            "grid_column": null,
            "grid_gap": null,
            "grid_row": null,
            "grid_template_areas": null,
            "grid_template_columns": null,
            "grid_template_rows": null,
            "height": null,
            "justify_content": null,
            "justify_items": null,
            "left": null,
            "margin": null,
            "max_height": null,
            "max_width": null,
            "min_height": null,
            "min_width": null,
            "object_fit": null,
            "object_position": null,
            "order": null,
            "overflow": null,
            "overflow_x": null,
            "overflow_y": null,
            "padding": null,
            "right": null,
            "top": null,
            "visibility": null,
            "width": null
          }
        },
        "61236f7084ae437f853c9b9c8240aa5f": {
          "model_module": "@jupyter-widgets/controls",
          "model_name": "DescriptionStyleModel",
          "model_module_version": "1.5.0",
          "state": {
            "_model_module": "@jupyter-widgets/controls",
            "_model_module_version": "1.5.0",
            "_model_name": "DescriptionStyleModel",
            "_view_count": null,
            "_view_module": "@jupyter-widgets/base",
            "_view_module_version": "1.2.0",
            "_view_name": "StyleView",
            "description_width": ""
          }
        },
        "749b4f86ea614693b048b05008b05cb1": {
          "model_module": "@jupyter-widgets/controls",
          "model_name": "HBoxModel",
          "model_module_version": "1.5.0",
          "state": {
            "_dom_classes": [],
            "_model_module": "@jupyter-widgets/controls",
            "_model_module_version": "1.5.0",
            "_model_name": "HBoxModel",
            "_view_count": null,
            "_view_module": "@jupyter-widgets/controls",
            "_view_module_version": "1.5.0",
            "_view_name": "HBoxView",
            "box_style": "",
            "children": [
              "IPY_MODEL_d5d3c349e7c04c9b83b1d1a2dc1fbec4",
              "IPY_MODEL_5047bb269f2d44f3b2c51b5a314f1d99",
              "IPY_MODEL_3e6d0aab1c8a49da88f8c9bd221f0554"
            ],
            "layout": "IPY_MODEL_165f7713ff5547b3946fdf3faf4cb75f"
          }
        },
        "d5d3c349e7c04c9b83b1d1a2dc1fbec4": {
          "model_module": "@jupyter-widgets/controls",
          "model_name": "HTMLModel",
          "model_module_version": "1.5.0",
          "state": {
            "_dom_classes": [],
            "_model_module": "@jupyter-widgets/controls",
            "_model_module_version": "1.5.0",
            "_model_name": "HTMLModel",
            "_view_count": null,
            "_view_module": "@jupyter-widgets/controls",
            "_view_module_version": "1.5.0",
            "_view_name": "HTMLView",
            "description": "",
            "description_tooltip": null,
            "layout": "IPY_MODEL_5798432a10c54b88b33c081c56ccf1f2",
            "placeholder": "​",
            "style": "IPY_MODEL_38e4ac7566f34c86bfbe223dde444b20",
            "value": ""
          }
        },
        "5047bb269f2d44f3b2c51b5a314f1d99": {
          "model_module": "@jupyter-widgets/controls",
          "model_name": "FloatProgressModel",
          "model_module_version": "1.5.0",
          "state": {
            "_dom_classes": [],
            "_model_module": "@jupyter-widgets/controls",
            "_model_module_version": "1.5.0",
            "_model_name": "FloatProgressModel",
            "_view_count": null,
            "_view_module": "@jupyter-widgets/controls",
            "_view_module_version": "1.5.0",
            "_view_name": "ProgressView",
            "bar_style": "success",
            "description": "",
            "description_tooltip": null,
            "layout": "IPY_MODEL_7e61bcb6c2ed49228b049a8f1143d017",
            "max": 1,
            "min": 0,
            "orientation": "horizontal",
            "style": "IPY_MODEL_3d4f1ec814c24bf18ab26b18ab164407",
            "value": 0
          }
        },
        "3e6d0aab1c8a49da88f8c9bd221f0554": {
          "model_module": "@jupyter-widgets/controls",
          "model_name": "HTMLModel",
          "model_module_version": "1.5.0",
          "state": {
            "_dom_classes": [],
            "_model_module": "@jupyter-widgets/controls",
            "_model_module_version": "1.5.0",
            "_model_name": "HTMLModel",
            "_view_count": null,
            "_view_module": "@jupyter-widgets/controls",
            "_view_module_version": "1.5.0",
            "_view_name": "HTMLView",
            "description": "",
            "description_tooltip": null,
            "layout": "IPY_MODEL_074626618273468494ea29ad5fd85681",
            "placeholder": "​",
            "style": "IPY_MODEL_db546f1c06a344f8b3dd8ae9acfc1e84",
            "value": " 0/0 [00:00&lt;?, ?it/s]"
          }
        },
        "165f7713ff5547b3946fdf3faf4cb75f": {
          "model_module": "@jupyter-widgets/base",
          "model_name": "LayoutModel",
          "model_module_version": "1.2.0",
          "state": {
            "_model_module": "@jupyter-widgets/base",
            "_model_module_version": "1.2.0",
            "_model_name": "LayoutModel",
            "_view_count": null,
            "_view_module": "@jupyter-widgets/base",
            "_view_module_version": "1.2.0",
            "_view_name": "LayoutView",
            "align_content": null,
            "align_items": null,
            "align_self": null,
            "border": null,
            "bottom": null,
            "display": null,
            "flex": null,
            "flex_flow": null,
            "grid_area": null,
            "grid_auto_columns": null,
            "grid_auto_flow": null,
            "grid_auto_rows": null,
            "grid_column": null,
            "grid_gap": null,
            "grid_row": null,
            "grid_template_areas": null,
            "grid_template_columns": null,
            "grid_template_rows": null,
            "height": null,
            "justify_content": null,
            "justify_items": null,
            "left": null,
            "margin": null,
            "max_height": null,
            "max_width": null,
            "min_height": null,
            "min_width": null,
            "object_fit": null,
            "object_position": null,
            "order": null,
            "overflow": null,
            "overflow_x": null,
            "overflow_y": null,
            "padding": null,
            "right": null,
            "top": null,
            "visibility": null,
            "width": null
          }
        },
        "5798432a10c54b88b33c081c56ccf1f2": {
          "model_module": "@jupyter-widgets/base",
          "model_name": "LayoutModel",
          "model_module_version": "1.2.0",
          "state": {
            "_model_module": "@jupyter-widgets/base",
            "_model_module_version": "1.2.0",
            "_model_name": "LayoutModel",
            "_view_count": null,
            "_view_module": "@jupyter-widgets/base",
            "_view_module_version": "1.2.0",
            "_view_name": "LayoutView",
            "align_content": null,
            "align_items": null,
            "align_self": null,
            "border": null,
            "bottom": null,
            "display": null,
            "flex": null,
            "flex_flow": null,
            "grid_area": null,
            "grid_auto_columns": null,
            "grid_auto_flow": null,
            "grid_auto_rows": null,
            "grid_column": null,
            "grid_gap": null,
            "grid_row": null,
            "grid_template_areas": null,
            "grid_template_columns": null,
            "grid_template_rows": null,
            "height": null,
            "justify_content": null,
            "justify_items": null,
            "left": null,
            "margin": null,
            "max_height": null,
            "max_width": null,
            "min_height": null,
            "min_width": null,
            "object_fit": null,
            "object_position": null,
            "order": null,
            "overflow": null,
            "overflow_x": null,
            "overflow_y": null,
            "padding": null,
            "right": null,
            "top": null,
            "visibility": null,
            "width": null
          }
        },
        "38e4ac7566f34c86bfbe223dde444b20": {
          "model_module": "@jupyter-widgets/controls",
          "model_name": "DescriptionStyleModel",
          "model_module_version": "1.5.0",
          "state": {
            "_model_module": "@jupyter-widgets/controls",
            "_model_module_version": "1.5.0",
            "_model_name": "DescriptionStyleModel",
            "_view_count": null,
            "_view_module": "@jupyter-widgets/base",
            "_view_module_version": "1.2.0",
            "_view_name": "StyleView",
            "description_width": ""
          }
        },
        "7e61bcb6c2ed49228b049a8f1143d017": {
          "model_module": "@jupyter-widgets/base",
          "model_name": "LayoutModel",
          "model_module_version": "1.2.0",
          "state": {
            "_model_module": "@jupyter-widgets/base",
            "_model_module_version": "1.2.0",
            "_model_name": "LayoutModel",
            "_view_count": null,
            "_view_module": "@jupyter-widgets/base",
            "_view_module_version": "1.2.0",
            "_view_name": "LayoutView",
            "align_content": null,
            "align_items": null,
            "align_self": null,
            "border": null,
            "bottom": null,
            "display": null,
            "flex": null,
            "flex_flow": null,
            "grid_area": null,
            "grid_auto_columns": null,
            "grid_auto_flow": null,
            "grid_auto_rows": null,
            "grid_column": null,
            "grid_gap": null,
            "grid_row": null,
            "grid_template_areas": null,
            "grid_template_columns": null,
            "grid_template_rows": null,
            "height": null,
            "justify_content": null,
            "justify_items": null,
            "left": null,
            "margin": null,
            "max_height": null,
            "max_width": null,
            "min_height": null,
            "min_width": null,
            "object_fit": null,
            "object_position": null,
            "order": null,
            "overflow": null,
            "overflow_x": null,
            "overflow_y": null,
            "padding": null,
            "right": null,
            "top": null,
            "visibility": null,
            "width": "20px"
          }
        },
        "3d4f1ec814c24bf18ab26b18ab164407": {
          "model_module": "@jupyter-widgets/controls",
          "model_name": "ProgressStyleModel",
          "model_module_version": "1.5.0",
          "state": {
            "_model_module": "@jupyter-widgets/controls",
            "_model_module_version": "1.5.0",
            "_model_name": "ProgressStyleModel",
            "_view_count": null,
            "_view_module": "@jupyter-widgets/base",
            "_view_module_version": "1.2.0",
            "_view_name": "StyleView",
            "bar_color": null,
            "description_width": ""
          }
        },
        "074626618273468494ea29ad5fd85681": {
          "model_module": "@jupyter-widgets/base",
          "model_name": "LayoutModel",
          "model_module_version": "1.2.0",
          "state": {
            "_model_module": "@jupyter-widgets/base",
            "_model_module_version": "1.2.0",
            "_model_name": "LayoutModel",
            "_view_count": null,
            "_view_module": "@jupyter-widgets/base",
            "_view_module_version": "1.2.0",
            "_view_name": "LayoutView",
            "align_content": null,
            "align_items": null,
            "align_self": null,
            "border": null,
            "bottom": null,
            "display": null,
            "flex": null,
            "flex_flow": null,
            "grid_area": null,
            "grid_auto_columns": null,
            "grid_auto_flow": null,
            "grid_auto_rows": null,
            "grid_column": null,
            "grid_gap": null,
            "grid_row": null,
            "grid_template_areas": null,
            "grid_template_columns": null,
            "grid_template_rows": null,
            "height": null,
            "justify_content": null,
            "justify_items": null,
            "left": null,
            "margin": null,
            "max_height": null,
            "max_width": null,
            "min_height": null,
            "min_width": null,
            "object_fit": null,
            "object_position": null,
            "order": null,
            "overflow": null,
            "overflow_x": null,
            "overflow_y": null,
            "padding": null,
            "right": null,
            "top": null,
            "visibility": null,
            "width": null
          }
        },
        "db546f1c06a344f8b3dd8ae9acfc1e84": {
          "model_module": "@jupyter-widgets/controls",
          "model_name": "DescriptionStyleModel",
          "model_module_version": "1.5.0",
          "state": {
            "_model_module": "@jupyter-widgets/controls",
            "_model_module_version": "1.5.0",
            "_model_name": "DescriptionStyleModel",
            "_view_count": null,
            "_view_module": "@jupyter-widgets/base",
            "_view_module_version": "1.2.0",
            "_view_name": "StyleView",
            "description_width": ""
          }
        }
      }
    }
  },
  "cells": [
    {
      "cell_type": "markdown",
      "metadata": {
        "id": "view-in-github",
        "colab_type": "text"
      },
      "source": [
        "<a href=\"https://colab.research.google.com/github/malekslokom/Bayesian-Network/blob/main/LateSchool.ipynb\" target=\"_parent\"><img src=\"https://colab.research.google.com/assets/colab-badge.svg\" alt=\"Open In Colab\"/></a>"
      ]
    },
    {
      "cell_type": "markdown",
      "source": [
        "*Book*: **Mastering Probabilistic\n",
        "Graphical Models Using Python**\n",
        "\n",
        "\n",
        "\n",
        "\n",
        "\n",
        "\n"
      ],
      "metadata": {
        "id": "fimIWA_X1W5j"
      }
    },
    {
      "cell_type": "markdown",
      "source": [
        "# Libraries"
      ],
      "metadata": {
        "id": "ryaO4JgI8_AG"
      }
    },
    {
      "cell_type": "code",
      "execution_count": 1,
      "metadata": {
        "colab": {
          "base_uri": "https://localhost:8080/"
        },
        "id": "Mo6b9-AQ1UEj",
        "outputId": "2c57c76e-223d-48bc-8f46-f8f67ae643f3"
      },
      "outputs": [
        {
          "output_type": "stream",
          "name": "stdout",
          "text": [
            "Looking in indexes: https://pypi.org/simple, https://us-python.pkg.dev/colab-wheels/public/simple/\n",
            "Collecting pgmpy\n",
            "  Downloading pgmpy-0.1.18-py3-none-any.whl (1.9 MB)\n",
            "\u001b[K     |████████████████████████████████| 1.9 MB 8.7 MB/s \n",
            "\u001b[?25hRequirement already satisfied: scikit-learn in /usr/local/lib/python3.7/dist-packages (from pgmpy) (1.0.2)\n",
            "Requirement already satisfied: tqdm in /usr/local/lib/python3.7/dist-packages (from pgmpy) (4.64.0)\n",
            "Requirement already satisfied: networkx in /usr/local/lib/python3.7/dist-packages (from pgmpy) (2.6.3)\n",
            "Requirement already satisfied: statsmodels in /usr/local/lib/python3.7/dist-packages (from pgmpy) (0.10.2)\n",
            "Requirement already satisfied: numpy in /usr/local/lib/python3.7/dist-packages (from pgmpy) (1.21.6)\n",
            "Requirement already satisfied: pyparsing in /usr/local/lib/python3.7/dist-packages (from pgmpy) (3.0.9)\n",
            "Requirement already satisfied: scipy in /usr/local/lib/python3.7/dist-packages (from pgmpy) (1.4.1)\n",
            "Requirement already satisfied: joblib in /usr/local/lib/python3.7/dist-packages (from pgmpy) (1.1.0)\n",
            "Requirement already satisfied: torch in /usr/local/lib/python3.7/dist-packages (from pgmpy) (1.11.0+cu113)\n",
            "Requirement already satisfied: pandas in /usr/local/lib/python3.7/dist-packages (from pgmpy) (1.3.5)\n",
            "Requirement already satisfied: pytz>=2017.3 in /usr/local/lib/python3.7/dist-packages (from pandas->pgmpy) (2022.1)\n",
            "Requirement already satisfied: python-dateutil>=2.7.3 in /usr/local/lib/python3.7/dist-packages (from pandas->pgmpy) (2.8.2)\n",
            "Requirement already satisfied: six>=1.5 in /usr/local/lib/python3.7/dist-packages (from python-dateutil>=2.7.3->pandas->pgmpy) (1.15.0)\n",
            "Requirement already satisfied: threadpoolctl>=2.0.0 in /usr/local/lib/python3.7/dist-packages (from scikit-learn->pgmpy) (3.1.0)\n",
            "Requirement already satisfied: patsy>=0.4.0 in /usr/local/lib/python3.7/dist-packages (from statsmodels->pgmpy) (0.5.2)\n",
            "Requirement already satisfied: typing-extensions in /usr/local/lib/python3.7/dist-packages (from torch->pgmpy) (4.2.0)\n",
            "Installing collected packages: pgmpy\n",
            "Successfully installed pgmpy-0.1.18\n"
          ]
        }
      ],
      "source": [
        "!pip install pgmpy\n"
      ]
    },
    {
      "cell_type": "code",
      "source": [
        "#Model\n",
        "from pgmpy.factors.discrete.CPD import TabularCPD\n",
        "from pgmpy.models import BayesianModel\n",
        "from pgmpy.independencies import IndependenceAssertion\n",
        "#Inferences\n",
        "from pgmpy.inference import VariableElimination"
      ],
      "metadata": {
        "colab": {
          "base_uri": "https://localhost:8080/"
        },
        "id": "b-U5deN19GpT",
        "outputId": "de209afd-343c-41e0-9486-60e66a0d5f6e"
      },
      "execution_count": 2,
      "outputs": [
        {
          "output_type": "stream",
          "name": "stderr",
          "text": [
            "/usr/local/lib/python3.7/dist-packages/statsmodels/tools/_testing.py:19: FutureWarning: pandas.util.testing is deprecated. Use the functions in the public API at pandas.testing instead.\n",
            "  import pandas.util.testing as tm\n"
          ]
        }
      ]
    },
    {
      "cell_type": "markdown",
      "source": [
        "# Bayesian models"
      ],
      "metadata": {
        "id": "Lk3x5Ap3IusR"
      }
    },
    {
      "cell_type": "markdown",
      "source": [
        "![Capture.PNG](data:image/png;base64,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)"
      ],
      "metadata": {
        "id": "UFNJ4JJ1IwyK"
      }
    },
    {
      "cell_type": "markdown",
      "source": [
        "## Structure"
      ],
      "metadata": {
        "id": "eXtgTRX6N5b6"
      }
    },
    {
      "cell_type": "code",
      "source": [
        "model=BayesianModel()\n",
        "model.add_nodes_from(['rain','traffic_jam'])\n",
        "model.add_edge('rain','traffic_jam')\n",
        "model.add_edge('accident','traffic_jam')\n",
        "model.add_edge('traffic_jam','long_queues')\n",
        "model.add_nodes_from(['getting_up_late','late_for_school'])\n",
        "model.add_edges_from([('getting_up_late', 'late_for_school'),('traffic_jam', 'late_for_school')])"
      ],
      "metadata": {
        "colab": {
          "base_uri": "https://localhost:8080/"
        },
        "id": "k4hEvF0CN84h",
        "outputId": "dab3d7e2-48bd-445b-fea3-bc6aface5910"
      },
      "execution_count": 3,
      "outputs": [
        {
          "output_type": "stream",
          "name": "stderr",
          "text": [
            "/usr/local/lib/python3.7/dist-packages/pgmpy/models/BayesianModel.py:10: FutureWarning: BayesianModel has been renamed to BayesianNetwork. Please use BayesianNetwork class, BayesianModel will be removed in future.\n",
            "  FutureWarning,\n"
          ]
        }
      ]
    },
    {
      "cell_type": "markdown",
      "source": [
        "## Representing CPDs"
      ],
      "metadata": {
        "id": "9pa89kfP9CVj"
      }
    },
    {
      "cell_type": "code",
      "source": [
        "cpd_rain = TabularCPD('rain', 2, [[0.4], [0.6]])\n",
        "print(cpd_rain)"
      ],
      "metadata": {
        "colab": {
          "base_uri": "https://localhost:8080/"
        },
        "id": "eRe7VEE91WWb",
        "outputId": "9acae1b9-125b-40f5-c691-8c67fa64339c"
      },
      "execution_count": 4,
      "outputs": [
        {
          "output_type": "stream",
          "name": "stdout",
          "text": [
            "+---------+-----+\n",
            "| rain(0) | 0.4 |\n",
            "+---------+-----+\n",
            "| rain(1) | 0.6 |\n",
            "+---------+-----+\n"
          ]
        }
      ]
    },
    {
      "cell_type": "code",
      "source": [
        "cpd_accident = TabularCPD('accident', 2, [[0.2], [0.8]])\n",
        "print(cpd_accident)"
      ],
      "metadata": {
        "colab": {
          "base_uri": "https://localhost:8080/"
        },
        "id": "0orkfiul9dX5",
        "outputId": "1a5a2dfb-21a6-4b13-a45d-1a1ca0e3240c"
      },
      "execution_count": 5,
      "outputs": [
        {
          "output_type": "stream",
          "name": "stdout",
          "text": [
            "+-------------+-----+\n",
            "| accident(0) | 0.2 |\n",
            "+-------------+-----+\n",
            "| accident(1) | 0.8 |\n",
            "+-------------+-----+\n"
          ]
        }
      ]
    },
    {
      "cell_type": "code",
      "source": [
        "cpd_traffic_jam = TabularCPD(\n",
        "'traffic_jam', 2,\n",
        "[[0.9, 0.6, 0.7, 0.1],\n",
        "[0.1, 0.4, 0.3, 0.9]],\n",
        "evidence=['rain', 'accident'],\n",
        "evidence_card=[2, 2])\n",
        "print(cpd_traffic_jam)"
      ],
      "metadata": {
        "colab": {
          "base_uri": "https://localhost:8080/"
        },
        "id": "QaQaffPj_Gum",
        "outputId": "0118035d-f35e-4847-ae8c-1a97e2143c61"
      },
      "execution_count": 6,
      "outputs": [
        {
          "output_type": "stream",
          "name": "stdout",
          "text": [
            "+----------------+-------------+-------------+-------------+-------------+\n",
            "| rain           | rain(0)     | rain(0)     | rain(1)     | rain(1)     |\n",
            "+----------------+-------------+-------------+-------------+-------------+\n",
            "| accident       | accident(0) | accident(1) | accident(0) | accident(1) |\n",
            "+----------------+-------------+-------------+-------------+-------------+\n",
            "| traffic_jam(0) | 0.9         | 0.6         | 0.7         | 0.1         |\n",
            "+----------------+-------------+-------------+-------------+-------------+\n",
            "| traffic_jam(1) | 0.1         | 0.4         | 0.3         | 0.9         |\n",
            "+----------------+-------------+-------------+-------------+-------------+\n"
          ]
        }
      ]
    },
    {
      "cell_type": "code",
      "source": [
        "cpd_long_queues = TabularCPD('long_queues', 2,\n",
        "[[0.9, 0.2],\n",
        "[0.1, 0.8]],\n",
        "evidence=['traffic_jam'],\n",
        "evidence_card=[2])\n",
        "print(cpd_long_queues)"
      ],
      "metadata": {
        "colab": {
          "base_uri": "https://localhost:8080/"
        },
        "id": "287FK6yKBaSD",
        "outputId": "dab95891-d414-4faa-b9fb-0bd79bcf0e59"
      },
      "execution_count": 7,
      "outputs": [
        {
          "output_type": "stream",
          "name": "stdout",
          "text": [
            "+----------------+----------------+----------------+\n",
            "| traffic_jam    | traffic_jam(0) | traffic_jam(1) |\n",
            "+----------------+----------------+----------------+\n",
            "| long_queues(0) | 0.9            | 0.2            |\n",
            "+----------------+----------------+----------------+\n",
            "| long_queues(1) | 0.1            | 0.8            |\n",
            "+----------------+----------------+----------------+\n"
          ]
        }
      ]
    },
    {
      "cell_type": "code",
      "source": [
        "cpd_getting_up_late = TabularCPD('getting_up_late', 2,\n",
        "[[0.6], [0.4]])\n",
        "print(cpd_getting_up_late)"
      ],
      "metadata": {
        "colab": {
          "base_uri": "https://localhost:8080/"
        },
        "id": "pntI-QsXCt2O",
        "outputId": "08f0abcd-47ef-4f03-dad6-f7a15ec64304"
      },
      "execution_count": 8,
      "outputs": [
        {
          "output_type": "stream",
          "name": "stdout",
          "text": [
            "+--------------------+-----+\n",
            "| getting_up_late(0) | 0.6 |\n",
            "+--------------------+-----+\n",
            "| getting_up_late(1) | 0.4 |\n",
            "+--------------------+-----+\n"
          ]
        }
      ]
    },
    {
      "cell_type": "code",
      "source": [
        "cpd_late_for_school = TabularCPD(\n",
        "'late_for_school', 2,\n",
        "[[0.9, 0.45, 0.8, 0.1],\n",
        "[0.1, 0.55, 0.2, 0.9]],\n",
        "evidence=['getting_up_late','traffic_jam'],\n",
        "evidence_card=[2, 2])\n",
        "print(cpd_late_for_school)"
      ],
      "metadata": {
        "id": "DLXzCn_rIwIy",
        "colab": {
          "base_uri": "https://localhost:8080/"
        },
        "outputId": "fd8ea5b1-a8c8-460f-f3f5-450e4a72a4a1"
      },
      "execution_count": 9,
      "outputs": [
        {
          "output_type": "stream",
          "name": "stdout",
          "text": [
            "+--------------------+-----+--------------------+\n",
            "| getting_up_late    | ... | getting_up_late(1) |\n",
            "+--------------------+-----+--------------------+\n",
            "| traffic_jam        | ... | traffic_jam(1)     |\n",
            "+--------------------+-----+--------------------+\n",
            "| late_for_school(0) | ... | 0.1                |\n",
            "+--------------------+-----+--------------------+\n",
            "| late_for_school(1) | ... | 0.9                |\n",
            "+--------------------+-----+--------------------+\n"
          ]
        }
      ]
    },
    {
      "cell_type": "code",
      "source": [
        "model.add_cpds(cpd_rain, cpd_accident, cpd_traffic_jam,cpd_long_queues,cpd_getting_up_late,cpd_late_for_school)"
      ],
      "metadata": {
        "id": "uHKVJuASFpK5"
      },
      "execution_count": 10,
      "outputs": []
    },
    {
      "cell_type": "code",
      "source": [
        "model.nodes()"
      ],
      "metadata": {
        "colab": {
          "base_uri": "https://localhost:8080/"
        },
        "id": "_dCoSkPvSJBp",
        "outputId": "7b863c82-ed11-4d95-cf40-9f3d47f8af31"
      },
      "execution_count": 11,
      "outputs": [
        {
          "output_type": "execute_result",
          "data": {
            "text/plain": [
              "NodeView(('rain', 'traffic_jam', 'accident', 'long_queues', 'getting_up_late', 'late_for_school'))"
            ]
          },
          "metadata": {},
          "execution_count": 11
        }
      ]
    },
    {
      "cell_type": "code",
      "source": [
        "model.edges()"
      ],
      "metadata": {
        "colab": {
          "base_uri": "https://localhost:8080/"
        },
        "id": "pe-PojlOSNof",
        "outputId": "c88996af-fabd-4464-8eb5-9446c70cdefc"
      },
      "execution_count": 12,
      "outputs": [
        {
          "output_type": "execute_result",
          "data": {
            "text/plain": [
              "OutEdgeView([('rain', 'traffic_jam'), ('traffic_jam', 'long_queues'), ('traffic_jam', 'late_for_school'), ('accident', 'traffic_jam'), ('getting_up_late', 'late_for_school')])"
            ]
          },
          "metadata": {},
          "execution_count": 12
        }
      ]
    },
    {
      "cell_type": "code",
      "source": [
        "model.get_cpds()"
      ],
      "metadata": {
        "colab": {
          "base_uri": "https://localhost:8080/"
        },
        "id": "M8B_KUy1SEXD",
        "outputId": "782e75f6-a6a4-4157-f315-11f41c9fee05"
      },
      "execution_count": 13,
      "outputs": [
        {
          "output_type": "execute_result",
          "data": {
            "text/plain": [
              "[<TabularCPD representing P(rain:2) at 0x7fd8a4b7bf90>,\n",
              " <TabularCPD representing P(accident:2) at 0x7fd7c42929d0>,\n",
              " <TabularCPD representing P(traffic_jam:2 | rain:2, accident:2) at 0x7fd7c42aaa10>,\n",
              " <TabularCPD representing P(long_queues:2 | traffic_jam:2) at 0x7fd7c42b4310>,\n",
              " <TabularCPD representing P(getting_up_late:2) at 0x7fd7c42b4b50>,\n",
              " <TabularCPD representing P(late_for_school:2 | getting_up_late:2, traffic_jam:2) at 0x7fd8a692e4d0>]"
            ]
          },
          "metadata": {},
          "execution_count": 13
        }
      ]
    },
    {
      "cell_type": "markdown",
      "source": [
        "Checks whether the\n",
        "model and all the associated CPDs are consistent:"
      ],
      "metadata": {
        "id": "7_sKiH-jSsy5"
      }
    },
    {
      "cell_type": "code",
      "source": [
        "model.check_model()"
      ],
      "metadata": {
        "colab": {
          "base_uri": "https://localhost:8080/"
        },
        "id": "F_51Ize5SICk",
        "outputId": "222485be-3763-4de1-9d19-1ced5e7b04f4"
      },
      "execution_count": 14,
      "outputs": [
        {
          "output_type": "execute_result",
          "data": {
            "text/plain": [
              "True"
            ]
          },
          "metadata": {},
          "execution_count": 14
        }
      ]
    },
    {
      "cell_type": "markdown",
      "source": [
        "### Remove cpd"
      ],
      "metadata": {
        "id": "wRhWiLxvS9m7"
      }
    },
    {
      "cell_type": "code",
      "source": [
        "# model.remove_cpds('late_for_school')"
      ],
      "metadata": {
        "id": "YwZmrVniSlOe"
      },
      "execution_count": 15,
      "outputs": []
    },
    {
      "cell_type": "markdown",
      "source": [
        "## Find active trail nodes\n"
      ],
      "metadata": {
        "id": "IiCfHHmDjmOz"
      }
    },
    {
      "cell_type": "code",
      "source": [
        "\n",
        "model.active_trail_nodes(['accident', 'rain'])"
      ],
      "metadata": {
        "colab": {
          "base_uri": "https://localhost:8080/"
        },
        "id": "MgL3LeYiTJtS",
        "outputId": "775ba36a-c6b4-4ff9-add7-b11a80ab9362"
      },
      "execution_count": 16,
      "outputs": [
        {
          "output_type": "execute_result",
          "data": {
            "text/plain": [
              "{'accident': {'accident', 'late_for_school', 'long_queues', 'traffic_jam'},\n",
              " 'rain': {'late_for_school', 'long_queues', 'rain', 'traffic_jam'}}"
            ]
          },
          "metadata": {},
          "execution_count": 16
        }
      ]
    },
    {
      "cell_type": "code",
      "source": [
        "model.active_trail_nodes('getting_up_late', 'rain')"
      ],
      "metadata": {
        "colab": {
          "base_uri": "https://localhost:8080/"
        },
        "id": "nMlNrjcRjrS_",
        "outputId": "ab87e08e-ec1a-4854-82e7-8d30966cd247"
      },
      "execution_count": 17,
      "outputs": [
        {
          "output_type": "execute_result",
          "data": {
            "text/plain": [
              "{'getting_up_late': {'getting_up_late', 'late_for_school'}}"
            ]
          },
          "metadata": {},
          "execution_count": 17
        }
      ]
    },
    {
      "cell_type": "markdown",
      "source": [
        ""
      ],
      "metadata": {
        "id": "mrC1mUapzDrC"
      }
    },
    {
      "cell_type": "code",
      "source": [
        "infer = VariableElimination(model)\n"
      ],
      "metadata": {
        "id": "fv6l_FdyzDzy"
      },
      "execution_count": 18,
      "outputs": []
    },
    {
      "cell_type": "markdown",
      "source": [
        "First, let's compute the probability of having a traffic jam P(J). P(J) can be computed\n",
        "by summing all the cases in the joint probability distribution, where J = True and J =\n",
        "False, and then renormalize the distribution to sum it to 1. We get P(J = True) = 0.416\n",
        "and P(J = True) = 0.584."
      ],
      "metadata": {
        "id": "vx4YkT0Xy57y"
      }
    },
    {
      "cell_type": "code",
      "source": [
        "prob_jam = infer.query(variables = ['traffic_jam'])\n",
        "print(prob_jam)"
      ],
      "metadata": {
        "colab": {
          "base_uri": "https://localhost:8080/",
          "height": 203,
          "referenced_widgets": [
            "c1a4d0f983ef497a8f5567a887868d9b",
            "a0ab7b119ef3486cb7bcdd29b2644e39",
            "b49e666f70e946349c8e7dbf9f15bcfd",
            "1bcb263d48b840c49367e4788d2264c2",
            "a41b7a7d4a7243d28859f5431fc47f32",
            "2a0ede494f50456e8ae4a20a744616a2",
            "3a949fc4f73f45739f52b4ac12c06c62",
            "8c125c0fed8343dfa25ad9165f6fc6c4",
            "0834569e41a9409e80d25b7a2fe928ea",
            "bc95454c9c5c4997bf1de6936a5bef72",
            "3084a6c2090b49fb939e7254e5bf9593",
            "73d9a42092d343c4a60a88044a745d92",
            "9bb33b5f1d4b4acb96b999579dc2fa10",
            "b90eef2b51b74696b1cb3206b259372d",
            "52c75996382c48db8ff4982138a95878",
            "38c5def0fabf4143bfd83c2deffadd02",
            "be754458e95a4a00a8139684d64b4c74",
            "b4dc3131a43f4416a75d28bd763f0319",
            "d392f27b595b4c8c9dc8f4b5d26b06f4",
            "fa1a07313c93490e8ab3e4c7f2ee848d",
            "e02fd99735144592b2a25db77fc9e01a",
            "0d0e3a65661843628390e60acf90b356"
          ]
        },
        "id": "j4DDqM41yHXT",
        "outputId": "1022f1ba-b980-4628-dc6d-651b5ceab675"
      },
      "execution_count": 19,
      "outputs": [
        {
          "output_type": "display_data",
          "data": {
            "text/plain": [
              "  0%|          | 0/2 [00:00<?, ?it/s]"
            ],
            "application/vnd.jupyter.widget-view+json": {
              "version_major": 2,
              "version_minor": 0,
              "model_id": "c1a4d0f983ef497a8f5567a887868d9b"
            }
          },
          "metadata": {}
        },
        {
          "output_type": "display_data",
          "data": {
            "text/plain": [
              "  0%|          | 0/2 [00:00<?, ?it/s]"
            ],
            "application/vnd.jupyter.widget-view+json": {
              "version_major": 2,
              "version_minor": 0,
              "model_id": "73d9a42092d343c4a60a88044a745d92"
            }
          },
          "metadata": {}
        },
        {
          "output_type": "stream",
          "name": "stdout",
          "text": [
            "+----------------+--------------------+\n",
            "| traffic_jam    |   phi(traffic_jam) |\n",
            "+================+====================+\n",
            "| traffic_jam(0) |             0.3960 |\n",
            "+----------------+--------------------+\n",
            "| traffic_jam(1) |             0.6040 |\n",
            "+----------------+--------------------+\n"
          ]
        }
      ]
    },
    {
      "cell_type": "markdown",
      "source": [
        "To compute P(J|A = True), we have to eliminate all the cases where A = False, and\n",
        "then we can follow the earlier procedure to get P(J|A = True). This results in P(J =\n",
        "True|A = True) = 0.72 and P(J = False|A = True) = 0.28."
      ],
      "metadata": {
        "id": "zSQP4tDmzq6q"
      }
    },
    {
      "cell_type": "code",
      "source": [
        "prob_jam_bad_accident = infer.query(\n",
        "                                        variables = ['traffic_jam'], \n",
        "                                        evidence = {'accident':1})\n",
        "print(prob_jam_bad_accident)"
      ],
      "metadata": {
        "colab": {
          "base_uri": "https://localhost:8080/",
          "height": 203,
          "referenced_widgets": [
            "374bbb3e593c4332a6ba3b861a88cd62",
            "82d770aed7d04ac888d92551cbc139b2",
            "1625e9b1a35f43198e8d4a4aa686f2ad",
            "3062e135719c485fac42ac7529493c60",
            "d1fbb5b86abc4cf7b9c4667a0c933aae",
            "88f9d80003d04931a5490ba7dff7ee35",
            "5f1db81bf330487aa274f6dae9d3a17f",
            "509011eb25fc482bae15f96bbc814d65",
            "3778c36385ff48f89768d49d0a881e28",
            "99091ff9c3844def82c99c6cd405e819",
            "9c23cd66489e4c2da792c7de40e31f41",
            "0a1f40ba9edf40548c93f3ab3520550c",
            "c494a237d6254b578117de774eebb91f",
            "17a3cac8282540d69f014c8d0b00d988",
            "3c5f737661334d90971b3b999e31e85a",
            "5ee7fc077dee446593c0d43b24838bfa",
            "792d32be1572403cbc62635d2eb9d584",
            "ee6daab694ec44ab8bc6383dc64a2d3c",
            "17fc529194474c3bb4ca5ec9d4a5d424",
            "90c92236247e41f7886288b4e2c2d6ea",
            "7a9794ae30874628ba21b14b0244b273",
            "9c060012401e4e538b2160065a6d42d7"
          ]
        },
        "id": "nJlJQ1y9zX18",
        "outputId": "cabe2c03-6a6a-4473-9752-4e99be3f220c"
      },
      "execution_count": 20,
      "outputs": [
        {
          "output_type": "display_data",
          "data": {
            "text/plain": [
              "  0%|          | 0/1 [00:00<?, ?it/s]"
            ],
            "application/vnd.jupyter.widget-view+json": {
              "version_major": 2,
              "version_minor": 0,
              "model_id": "374bbb3e593c4332a6ba3b861a88cd62"
            }
          },
          "metadata": {}
        },
        {
          "output_type": "display_data",
          "data": {
            "text/plain": [
              "  0%|          | 0/1 [00:00<?, ?it/s]"
            ],
            "application/vnd.jupyter.widget-view+json": {
              "version_major": 2,
              "version_minor": 0,
              "model_id": "0a1f40ba9edf40548c93f3ab3520550c"
            }
          },
          "metadata": {}
        },
        {
          "output_type": "stream",
          "name": "stdout",
          "text": [
            "+----------------+--------------------+\n",
            "| traffic_jam    |   phi(traffic_jam) |\n",
            "+================+====================+\n",
            "| traffic_jam(0) |             0.3000 |\n",
            "+----------------+--------------------+\n",
            "| traffic_jam(1) |             0.7000 |\n",
            "+----------------+--------------------+\n"
          ]
        }
      ]
    },
    {
      "cell_type": "markdown",
      "source": [
        "We have seen that the observation of the outcome of parents influence the\n",
        "probability of the children. Is the inverse possible? Let's try to find the probability of\n",
        "heavy rain if we know that there is a traffic accident. To do so, we have to eliminate\n",
        "all the cases where J = False and then reduce the probability to get P(R|J = True). This\n",
        "results in P(R = True|J = True) = 0.7115 and P(R = False|J = True) = 0.2885. This is\n",
        "also intuitive. If we knew that there was a traffic jam, then the chances of heavy rain\n",
        "would increase. This is known as evidential reasoning, where the observation of the\n",
        "outcomes of the children or effect influences the probability of parents or causes."
      ],
      "metadata": {
        "id": "ecrkYStD114z"
      }
    },
    {
      "cell_type": "code",
      "source": [
        "prob_rain_jam_bad = infer.query(\n",
        "                                        variables = ['rain'], \n",
        "                                        evidence = {'traffic_jam':1})\n",
        "print(prob_rain_jam_bad)"
      ],
      "metadata": {
        "colab": {
          "base_uri": "https://localhost:8080/",
          "height": 203,
          "referenced_widgets": [
            "7d05f4d52d694a738900a3d8265ec487",
            "be34603d92b54f128eb1706bd8586cb1",
            "67d7ff108a0e4c2c96192314aafc15bf",
            "e8311ca3576a42a6bd04d604e0187747",
            "8279e8cce71d4aabb707e710681112fa",
            "63024535a50e45b292b33773414c2ef0",
            "9754d72e0fd140f0b53d4f0b67ba62c3",
            "0cc26413cbff4281ab74d7bd0d9164ac",
            "6eaaeb84cf1e4339bace0ac4d6025076",
            "e042c5a2cf6f4208ae2baaf0bc83e114",
            "70c44cb1d3874851adf20c2907f1fc30",
            "97cd2e8dd3794090ad0305c899a9b75a",
            "528d0ea6986641d9b9123ed9a9a01351",
            "221027d6421b453bb62c58c46439e24b",
            "357a38c1517e4ad585b4d37870eef448",
            "a0c7fdf832b0462c918c3569c1c9205e",
            "f239b743b9fd4c01a5ef323bf85f3f2c",
            "29380e31362b40a2bf9845794856e321",
            "a27393bccc124ec089b07a9d80378b5e",
            "db914d258d774ea08f2e46666460d316",
            "17e88b219939438099899356f07f9736",
            "81ca95c35c6d457f8f0d3d745f2c54e4"
          ]
        },
        "id": "uij92cJ7z7_X",
        "outputId": "5f1957a0-3eb0-424e-e8fb-a20a151cbd0b"
      },
      "execution_count": 21,
      "outputs": [
        {
          "output_type": "display_data",
          "data": {
            "text/plain": [
              "  0%|          | 0/1 [00:00<?, ?it/s]"
            ],
            "application/vnd.jupyter.widget-view+json": {
              "version_major": 2,
              "version_minor": 0,
              "model_id": "7d05f4d52d694a738900a3d8265ec487"
            }
          },
          "metadata": {}
        },
        {
          "output_type": "display_data",
          "data": {
            "text/plain": [
              "  0%|          | 0/1 [00:00<?, ?it/s]"
            ],
            "application/vnd.jupyter.widget-view+json": {
              "version_major": 2,
              "version_minor": 0,
              "model_id": "97cd2e8dd3794090ad0305c899a9b75a"
            }
          },
          "metadata": {}
        },
        {
          "output_type": "stream",
          "name": "stdout",
          "text": [
            "+---------+-------------+\n",
            "| rain    |   phi(rain) |\n",
            "+=========+=============+\n",
            "| rain(0) |      0.2252 |\n",
            "+---------+-------------+\n",
            "| rain(1) |      0.7748 |\n",
            "+---------+-------------+\n"
          ]
        }
      ]
    },
    {
      "cell_type": "markdown",
      "source": [
        "If we knew that there was a traffic\n",
        "jam on a day when there was no heavy rain, would it affect the chances of a traffic\n",
        "accident? To do so, we have to follow a similar procedure of eliminating all those\n",
        "cases, except the ones where R = False and J = True. By doing so, we would get P(A\n",
        "= True|J = True, R = False) = 0.6 and P(A = False|J = True, R = False) = 0.4. Now, the\n",
        "probability of an accident increases, which is what we had expected. As we can\n",
        "see that before the observation of the traffic jam, both the random variables, heavy\n",
        "rain and traffic accident, were independent of each other, but with the observation\n",
        "of their common children, they are now dependent on each other. This type of\n",
        "reasoning is called as intercausal reasoning, where different causes with the same\n",
        "effect influence each other."
      ],
      "metadata": {
        "id": "B4eAshVP21j7"
      }
    },
    {
      "cell_type": "code",
      "source": [
        "prob_accident_Not_rain_jam_bad = infer.query(\n",
        "                                        variables = ['accident'], \n",
        "                                        evidence = {'traffic_jam':1,'rain':0})\n",
        "print(prob_accident_Not_rain_jam_bad)"
      ],
      "metadata": {
        "colab": {
          "base_uri": "https://localhost:8080/",
          "height": 203,
          "referenced_widgets": [
            "4df4f667ab1d46e29f53e14dae0e636c",
            "62dcab4115fd4fe48c961b972c005730",
            "7948860ff02a4742baa02b06121b4044",
            "682a3d5efa5f4ffb903c4824fac8a359",
            "4bd871d403e54d6eb55208c1e4fa486d",
            "5dfcbcac01d34ba882c3c60753408d48",
            "24881ffabaea4f2c80dd5b6b2944d3b1",
            "e04bd17714644748bf5f4c84b0ae97fc",
            "f5745b04f6b04e609ee55258c3225921",
            "979b6f5026e547d1acaa08e89c4fa49a",
            "61236f7084ae437f853c9b9c8240aa5f",
            "749b4f86ea614693b048b05008b05cb1",
            "d5d3c349e7c04c9b83b1d1a2dc1fbec4",
            "5047bb269f2d44f3b2c51b5a314f1d99",
            "3e6d0aab1c8a49da88f8c9bd221f0554",
            "165f7713ff5547b3946fdf3faf4cb75f",
            "5798432a10c54b88b33c081c56ccf1f2",
            "38e4ac7566f34c86bfbe223dde444b20",
            "7e61bcb6c2ed49228b049a8f1143d017",
            "3d4f1ec814c24bf18ab26b18ab164407",
            "074626618273468494ea29ad5fd85681",
            "db546f1c06a344f8b3dd8ae9acfc1e84"
          ]
        },
        "id": "ay4nlKjh1HF8",
        "outputId": "8c50423e-e267-448b-ba25-bd91e55fbebd"
      },
      "execution_count": 22,
      "outputs": [
        {
          "output_type": "display_data",
          "data": {
            "text/plain": [
              "0it [00:00, ?it/s]"
            ],
            "application/vnd.jupyter.widget-view+json": {
              "version_major": 2,
              "version_minor": 0,
              "model_id": "4df4f667ab1d46e29f53e14dae0e636c"
            }
          },
          "metadata": {}
        },
        {
          "output_type": "display_data",
          "data": {
            "text/plain": [
              "0it [00:00, ?it/s]"
            ],
            "application/vnd.jupyter.widget-view+json": {
              "version_major": 2,
              "version_minor": 0,
              "model_id": "749b4f86ea614693b048b05008b05cb1"
            }
          },
          "metadata": {}
        },
        {
          "output_type": "stream",
          "name": "stdout",
          "text": [
            "+-------------+-----------------+\n",
            "| accident    |   phi(accident) |\n",
            "+=============+=================+\n",
            "| accident(0) |          0.0588 |\n",
            "+-------------+-----------------+\n",
            "| accident(1) |          0.9412 |\n",
            "+-------------+-----------------+\n"
          ]
        }
      ]
    },
    {
      "cell_type": "markdown",
      "source": [
        "# Converting Bayesian models into Markov models"
      ],
      "metadata": {
        "id": "xfOen8ZGiNLf"
      }
    },
    {
      "cell_type": "markdown",
      "source": [
        "![Capture.PNG](data:image/png;base64,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)"
      ],
      "metadata": {
        "id": "fdE_AqdllSCA"
      }
    },
    {
      "cell_type": "markdown",
      "source": [
        "Let's try to convert this Bayesian model into a Markov model simply by replacing\n",
        "directed edges with undirected ones and start by replacing the edges (A, J) and\n",
        "(R, J) with undirected edges. However, this representation has a problem. The\n",
        "Markov Blanket of node A would be J. Thus, this representation asserts that\n",
        "A would be independent of all the nodes in the model expect J, given J or specifically\n",
        "A ⊥ R | J . However, the Bayesian Network asserts the exact opposite of this . Thus, it requires an additional undirected edge between A and R.\n",
        "Similarly, replacing directed edges with undirected edges and adding extra edges\n",
        "where required, we get the network in the following figure:"
      ],
      "metadata": {
        "id": "QPBTav2Umu-l"
      }
    },
    {
      "cell_type": "markdown",
      "source": [
        "![Capture.PNG](data:image/png;base64,iVBORw0KGgoAAAANSUhEUgAAAj0AAAHBCAYAAACCKQr+AAAAAXNSR0IArs4c6QAAAARnQU1BAACxjwv8YQUAAAAJcEhZcwAAEnQAABJ0Ad5mH3gAAL3xSURBVHhe7d0FmGzllTbs/5v5JhMSCO4OwZ1zcHd3d3cf3N3d3SG4u7s7ISRIQhggJASSEJuM7v+7V857piiq+7RUV1d1r+e66jp9SnbtvWuvtZ/1LHn/vyqRSCQSiURiGCBJTyKRSCQSiWGBJD2JRCKRSCSGBZL0JBKJRCKRGBZI0pNIJBKJRGJYIElPIpFIJBKJYYEkPYlEIpFIJIYFkvQkEolEIpEYFmgZ6fnTn/5Uffnll/nIRz7ykY985GOYPXCAdkDLSM8222xTTTTRRNWkk06aj3zkIx/5yEc+hsnDvX/bbbcdxQYGFy0jPXvvvXf1wQcfVP/2b/+Wj3zkIx/5yEc+hsnDvR8HaAe0jPT8y7/8S/Wv//qvo/6XSCQSiURiOMC9HwdoByTpSSQSiUQiMWBI0pNIJBKJRGJYIElPIjHE8D//8z/Vf/3Xf1X/8R//Uf3tb38bncv+y1/+8q3Hn//85/i3vMf7//3f/736z//8z+q///u/Y1uJRKJzUGv/bLn4gL/+9a/fsv/y8Fqt/fusbQxF+0/Sk0h0IDgjpAQ5KeSG40Jivvjii+rDDz+sXnnlleqRRx6p7r333uqOO+6orrrqquqyyy77xuPSSy+trrnmmuquu+6q7rnnnuqhhx6qnn766eqdd96pPv300+oPf/hDbJNDHOrOMJHoFBT7rw1u6u3/1VdfrR577LHq/vvvr+6+++7qxhtv/Jb9l8fNN98c77nvvvviM3zHz3/+89Ht3bbtO3xXpwdESXoSiQ4A58ahcUK//OUvq5/85CfVo48+GoTl9NNPj26EddZZp1p66aWrBRZYoJptttmqaaedtpp++umrmWaaqZplllmqWWedtZp99tm/9fD8zDPPHA/v97kf/vCH1bzzzlstuuii1QorrFBtueWW1VFHHVVdeOGF1W233Va9+OKL0QXxq1/9qvr666/DISYRSiQGBrX2//HHH1c//vGPw/6vvvrq6rTTTgv7X3vttb9l/9NNN10144wzhm3zAY3s38Nr3uO9xW94fqGFFqqWWmqp2Lb7Jl9z3XXXBTH62c9+1pH2n6QnkWhDcHJUFtHWc889F0TjlFNOqfbaa69qtdVWq0aOHDnaYS288MLh7JCTNddcs9pqq62q3XffPa7zI444ojr77LOrCy64IAiSiK7+wXGef/751TnnnFMdffTR1QEHHBBOdMcdd6w23HDDaqWVVqqWW265aokllggihETNPffc1WKLLVZtvvnm1eGHH15dcskl1QMPPFC99dZb4QgpQ4lEom+ot/9bbrlltP2vuuqqo+1fwIKYLLPMMtXyyy8f9i9AKfZ/yCGHVCeffHJ13nnnhap7ww03fMv+b7rpprBfPsB3HHzwwdW+++5b7bbbbrGt1VdfPbbNxyy44ILxvXPMMUd8L/vnYy6++OKw/zfffHO0/bcrCUrSk0i0ATgIsvFvfvOb6vXXXw+Sc8IJJ1RbbLFFRG5TTjllPOabb74gNxtvvHG1//77V2eccUakrp5//vnq3XffDYdDjuY0+wvR21dffRWO94033ojI8sorr6yOO+64auedd67WWGONavHFFw8SNNlkk1UzzDBDEKR99tmnuuiiiyIaJLPbn6wPSiS6Rnf2P//881dTTz11NdVUU0XQgYCwf8EJlef2228fbf+fffZZ9cc//jHsv7/2Zn9sS5pbuhv5uvXWW8Pn+O511123of0LmGrtn0LVTvafpCeRGGQgFhzKWWedFU5OSomD8yAtb7/99tXxxx8fOXnv40h8Rn59sMCRcbBkdjUD0l5I2Prrr1/NNddcMfmUZC5KPOiggyJSlQ5DpBKJxP+CLSMt7J+yUmv/Sy65ZNg/AsT+n3322W/Y/2AQiVqC9vbbb3/L/ilBk08+eahQ7P/AAw8cbf8+N9jkJ0lPItFiFOmaenLuuedGColsLJojG2+22WYhSSsu9h7kQodFu0RKjcCZ/f73vw9V6KmnnoqUGYmc7K5GQI3BiiuuGBGigknHxGmLABOJ4QTXPPJPQUEGLInA/qeZZpoIGGrtX7ro888/j0LiTrH/Z555JpomkKBll102/Br7p1B7znE59sGy/yQ9iUQLwGFRR1x3d955Z7XnnntGjQySQ7LeeuutI1riMH7xi18EKWpGimow4Fg59V//+tchi5Pf5f05Pc6PXK/omkz+8ssvV7/73e8GVbVKJFoB1ziF5oUXXojaGfU30tXqc9ThsX+dk51u/6CmhxJECWb/6v7Yv1QY+19rrbXC/nWY/fa3vw3S1Cok6UkkBhAIgGhGh4OoTrrqH/7hH6qxxhqrGjFiRBQPi3o62cH1FBzhE088EXI9+fsf//Efo06J/M05toP0nUg0G65phEfHpWBniimmiGt/kkkmiWJh1/5wUDzZv6Buhx12CPvnB50D6q9OsFbZf5KeRGKAQNmR81bUp+NCjlunlSJghYoiOu8ZDoQHigKk7ZbCo/1VJ5oaAASQXZoTRCEaLuckMXThJu5aNvsG2ZG6mnPOOUPlVL8jdS0lNFxUTvZv1hf7p/Cw/1VWWSXOiW5Q9v/ggw9GOm8g7T9JTyLRZHB2H330UbSIIjty2ooTtY+qd0F0hruqIbLlABG/yy+/vNpkk01GzxHab7/9IgWQKa9Ep0LK1mBQZKe0lmvvvvbaa+Oad20Pd/t3Dswcu+KKK0bbP2KoFpAiTB0fiHOUpCeRaCI4OzU7G220URTwajdXz0LZUIyc+DY4tk8++SRmiHB+ula05fq/8zmcbw6JzoIbueLjI488MmpXtHLryDILh4IxHNJYvQVVx6gN3WmbbrppDFR07o455pg4l81Gkp5EogngzBTtGh4mYkF4DPkyudisi8SYQf1il4Yo6vpS9CgVaCR+ItHuUKRsjpUhfup21ltvvRj+55p2bSe6B/Jj2jQ1TNrb2AvFzz/60Y9C9WkWkvQkEv0AFULeXpRiWJ8x7gaHWe9K9JIqRe+hPffxxx+PjjYDz+T9tcBmrU+i3cC+1ampUTGUT32Kuj3dWYIgKdxE70ARV/RtNpGpz1Je7tmGNjZjzleSnkSij6DuiEzIsMiO9lPO7v3338+bcz8hTSDlZQkNM0ysC6TL47333suoOdEWQHgUIj/88MNRu0fdlZ4xQFDLeQY8/YNz6NyaYybl7RwrCu/vzLIkPYlEH+CmrFiZGqHt0jh2Y9c9n2gOODbnU5uruR5jjz121EqJ+LI2IjHYUG9mTbuJJ544Fug98cQTYzaN6zYJT3PgPOr2siag4Y26vKQM+1Prl6QnkeglpF9KdKczg6yt4K4Z0mvi25Ai+OlPfxpKj5uL8661PQvDE4MBN1tdR4cddljU76k/KzfiJOPNh3OK+GhsMNXdCvBIkC64viBJTyLRCyA8llHQXaTexOKb0jADDY6W3MvZMnYqk7/9W/7/xRdf9Dr1Y7uiU8dkRoa/peyMitc2LlVnoiqnM9iwbyeddFLk+M31sV8WM00kWgU3YEstWFRXyoUCyU7GZHeIu+6t+tSM7SmANpW4nVLi9pGv49uKjyl+xr5SYGuPoyt4j8/xLfxTf+AcW/R45ZVXjlSiIIiv6i3RTNKTSPQQHBeFQY0JmdV8GQ6rJ8bfX3AyBhoabKZgWneDxfw8jLP3OPPMM2N/egPbVTejZsZkZA7cyPjlllsuhio+8MADMSJfLU07QBeHomaLmfodTLnOGp9Eq4DwmL2js2ibbbapXnvttVGvdA/2Y/6Mep9aRdjfprKrBVQf1C5AwBybpoxaH+Nv/sCagQjRmIga3yjt79itAt9fsHUTrC3MbJr7Hnvs0et7eZKeRKIHQA60ThsyqEPDjbeViwByLpyGeR9aOE899dRQPHbfffd4jvRrpWb71Bt4v+JLs0SkkF566aVIH5mWKjLjiK3q3NvtDiSMAJBetGaZ3wMRzbRCYqDBHiyYafbOrrvuGquG91Sd4TsWWWSR6tZbb/1GWtbflmWxyCgls12AXFBn1CsJhvgXHar8HpVLkGT+GPV5TBCoUGSa6UN0dyGd4403XgRpvTl3SXoSiTEAseG0RDpy+IoX5e9bCfvAEXEcHOVbb70VKTYzbaxpU56///77I+1zxx13xH5qmxcZXXLJJSEHq0OgjpCokQeObJ555onVkI899thYC8gxIkL33HNPDFW0MKD1wRALzkXqyxRVSpCpsz1xfM2Ec+F4KW065qheyFoqPomBgOvNjVugQWGkflhepjfXm5Z2pIdt1pIetrvjjjuGclHS01JI1113XQw4lM5FlIxrsB9IlnWqXPsHHXRQEBJBENXFPl522WWhzpZWeZ9h/3yBz1x//fXxnZ4HKTeqjYCptr2+kB6KltS3fWZzpslTrQRJ6667bnyeWsVPUJqRQvvND5UONvWO9qvsI59j4rIhrmaZUbm8pzeBi/3znRtssEH8JtTqnvrkJD2JRDdgtMgBGXWiiSaKqGKwZWjOgeqjqE8EVsCZkd6t2uw1BAYZ4FCpIgYnrr322jHtFJHhJCyVgeRwyOzCexULI3gcpNcto2E73o8YmZ3hfeoZkA5pt8FQWvwOp512WnTPbbfddpF6KM48kWgW3OwRCXUk6kkEQL293pEe83sEHOrjkAcPxIDSU0iP+xIlZY455ohrmgKkdgjh8n5Bh+cFKhbuNMGc4ssu2af2bgFLSbsjMkiFAAkh4RcETGX/ERpDQAUy1OyCQnqoWo691q5sG+Fi/yWokvaymPIuu+wS3yX1jOD5HgESRZYPETxJnTuPjkOqzLEiL46vN/Zr236LJZdcMs4BotUT5S1JTyLRDRjh1VdfHYYpwmuHUfK+vyvSw2FOOOGEoQBx1lJTHKJhiaIsxICzkcKi9nC6JsdyYpyuiE/NkGhMkbDtiPY4LE5FAbF0ms9xeNYTEynWRq+tgt9G9IjokeHdGBxjItFMICxu2ur4kIO+2L9tIAJGLlBC2KSHv5EhN3++BVEoarJrGcmRaqbEusFTgY4//vggK8gHG9Q9Su3U2MBXIR3eyz6oMoiT76FOCWYEbtQZJMfzCItUXS0K6RFQsG+T5fkA6goSI4jia+wDEmU7aoD4jM8++yy2yS6RLikxx65e0GuW5kHM3IP5LK3+SIvt9DRdWOAYdM4hgc5BT+qMkvQkEl2A03BzZ8AiE0Y92IQHuiM91BwOSc4bOB3SMRJDtRH1+ZxoS9RVS3r8zakhPSJS2zMSXrTH6Z1//vnh/DlP58Z+iC5Frr11Vs2CfTC3h6PnTBVNJhLNApXXArhsgKrIRvqCQnpWWmmlSGepCfLYaaed4oaN9LgnSRFRdqSiL7zwwuq8886LlDRSIOXlJs/+BB5S1hRbN3vXP4Kjdmb99dePfWX70txa6g31Q6IOPfTQUGqRA++nsEhT1wcL7FndnABqscUWCx+hiYIijPzZb8TKdwh4BEv27+KLL47gg9qs5sZrSI/vRHr4HMt0SNsVnyF9p07SFHZkq7fwm+ii1U3r+ARv3SFJTyLRBRggp6FojwMarBt7PboiPZQd0RXSIupDTBQnc7IcIVWGA+V0OMlCeuTm1QYU0oPkFdLDkRXSo8uEA1VTUGBfPAYTbgQUKWocyd95cOyJRH/gGqKoINNSOe4Zfb3WS02PIII6I1jwUKtjwKn0VlFxqCsUIcTC9Sz9xa7VwRghIW3NnpEx82qsT1VIj/1z47e/bv6mxSMrFF/+i1ornaWeRiDkfUhU/XHxfRoE7EtRiqlc9kngUwaxep+ONPtDveFjjjrqqAi8HFc96UG2qMzqiwoQMqTONvtCesCx82M6uihU3f1OSXoSiS7AOcmRM2jOpl3AoLsjPaIyEZ8oTDTISXFwFBnXPcdF6SE195T0eF7BJNJTVj7mRG2Pw/HewYRIFbkTMYpQHXsi0R9I/yIfbshPPvlkn2/IUEhPd4XMbPass84KJcU1zD4FJh7SXFJHFjSloqi385x9VAxcSA8gaqXGZfPNN4/UU7FPM3P4NAv5Sot5IF/1cKylpse/JYjgB6X5ERrfzacgXr7/qaeeinSXhzQa9aoR6aFMSZEVFNLTV6UHfM65HWecceLYupvflaQnkWgARi4aUtRL5WmnWhGkR/oK6UFECpAeBddIi6hR3p4TRXpEahyUf9UQcELSdRwUktSI9NieyLTU9HDcoko5fg6a4sP5iQTb4fwouHTDENmKoBOJvoKNUTbYP2WFbfRHPZQKQnoU/deSHjZGzUFO1PQgAEgNu3UNC7wELLqT/J/aitjrrKTkWKIF4ZA6e/rpp+Pmj5hIx1N82TLyU/ZdsTDbtg1+gf9oRDRqSU/t5z1vf5AUBEyNoFQc9YY/QdSkq6jjgkX/R3BKTc9AKT32z/kTwDnPhhh2hSQ9iUQDIAi6HXQuPffcc302xoEAh4xw6NwQ3RSI5sjLZGakxPtEqJwMB6TehxLkuBAfMjjZW2RUiIv6GIWPokXb4yB1aHlefYMaA9sTxfl+K6AjUu2Q+uP07JeaCK30iURfQf1QqMv+3cT7e32/8cYboX6wFUSngI0hDYgV5QSxKXU67BIhoq4KvKgXpdHAzd2MLqote15iiSXiXyRDVyOSJN3L3msDAOQAUfF+27ESfCM4XsqLTk//1hI+dma7vlsaHZHTuYW4qVOiPFGQrEeoIJvS49gLKeI3KFUFCArlGYHrj5+l7iJoCJRhiEXdqkeSnkSiDgxcVKJjgnNhqO0E+yfy5IwoOgUcBjWG8xDRlec4XOoMwqJLg0MXFXIQokWkTspKjp7yQ6ZGmnzW9ileSCB4j/eLODk0ilM7EB7g5KTjvv/970dhY7vsV6KzwL7YgwJe9l9bw9ZXsB9EnNJRe2N3jVJX+Zsyqdl17DnEReeWwKXcwIvKy/a8jrQgOcgQQsV+vUfqS0BUT2ocm3ufWh61N10RA++jMqlp9G8t7LPn1PzwJbahrkeTBPWnpLgor/Zd2g2xcQ6oXJ5DvAr4V+9Fpux7X2GfbZ8CjnBRvDxXjyQ9iUQdGLXCWAvb6YKolaPbBYyZ86x1Ep6z754vxl6eEwV5eH/5bHmf1z38XV4r7/MvouPvAq/Xbq9dYF8UZUpJqDvg+BOJ3oItuNlPMcUU/erYqkWtXdWjO5tFhGpfg/JarT3Xb6PYrecL+DGECZHSRSY4qt1uPco2Gu2z58r3efjbvtqn2uc8avetPF+7zdpt9Re2oyWfD+hqfliSnkSiDpwDwzGMTATSyHAS7QnRIpldh5roOZHoLaR5qRZIz1CyfwGBtJN0GUWmHYO5/gJxUnOk64zaW9SzWiTpSSTqIOWjQFdBnNRQonMgKlcEqg5JPVIi0VtI7eqoUuyvlm2oQBpJSlvBcDs1ZjQb0u8GPKqHkmarR5KeRKIO8u66Hjxqc8+J9ofITnTO6Sn+bIZknhheUAdTOp/qJxV3OoaDPUjhSd+V0R31SNKTSNRB8a4iZmmSbH3uLKhBkNaabrrpoptFdxrimo989PShhVohrEU1pUsTnQUFzLpVtfIjQPVI0pNI1IHj4/RI3I0Gd/UVagM8mhVt2ZZ0Dtnazb4eivoU8+ruaGVdgmJGA9W0uNfCcStqrD1+fzvHUorN2Efb13kz+eSTB/HRyWFmST7y0dOHtPYEE0wQbeSN0iOdgmL/7IttsY36R60t+r/3ap332U4F/21sh99Rm3w9kvQkEnVgNOZYGP/eLKfHoZDNtWsWJ9RfmPehTdVgwUZt9YiEsfYK+7pqTe0NOEK1AI0IVoHjpLS4YVi6otapUl1KO3x53rbUGFh0sBmpBPuoDss4ekPezA2xL/nIR08fJhab9WRODgLQieBfqByKeaV7tYtrKzdw0MNzHuyRXfIPCpv5kxNOOKHLdu9OgOPRvWnkQKOarCQ9iUQdDNwyedgIeopFM1CiD5NQL7vsstFzdPoDigqjNlW1kSIlTWcomDHxzfg+pMSCgs5PV/CaoWW77LLL6JZxztO+GqZmTR6Lm5Yx8ZyzFIL3Iyicc3+cLRKlFdfig4gUYsih5yMfPX2Ynsz+DdFT39dpYD+CNZ1abI7vMfdHyl6tEvukYm+77bYxXNRzVipnk9bq46d0r3aqymUukKnsjq0szVGLJD2JRB2oJoyG42vGYDI3dmPXTR1liHLNtUMFgULhhv/WW29VP/7xj4MIUE3A5zkk+yJ149pFIryOWFiHi7P2PukuRIjK4uavGNMQMqTH65Qa32E4oRbWkvriKH2ntXk85z0UGw7T99iuY9AKboaR4WQ+VwvbMDTNQDf7VF53bJaxWHLJJcPB1kdgPmcuirH4nG9/pHXRqgm6ptHWjrpPJHoKdqYmhP0jAZ0GvoBiY+q6bi32y95NVzagFBFwjJRnAwyl8k1Zp5AIGi699NJICxt+WnxQJ4HvotRTexop4El6Eok6uOlTHTgJN+v+KA9AIrc8gm1yMtNMM01MOS7b9a/vEXlRZnQeiMSQH06H2oS4IBPG03PIJGrpK2tjiUiRKJHZySefPHqSrLZ7a1FZcFB9jddFcBwaJ2deh+2KZu0DkrDNNtuEvE3i5wyRP+RIbtwU14kmmigiRusS1aa5fB4xsl1j9WvPGSLC5hybNnIj65GjWoeKXCkc1WbaSLXqKXz2iCOOiJWxrU+USPQWyL9lDOaZZ56wy06D/WdHupcERexMaotNCC4K2CiCZCV27fnUIKDosn++oRNn+Zj+bPkQKld9XSEk6Ukk6qDt2SRWw8nUw3RXwzImcCzGz1MxEBSRB7Vjv/32C4cDSAdS5IFcuFlLrXFG0kWcj/VkdJVQSCwqitT420wa5Ezk5nMcm2hOFIdYmSrt85yfgWvqXC666KKI9qTFECRLVHCMXkfIpJ8QHcfO8ZPJdbFpARc92g8Ep5bY+Lx6Jfty0003jXr270DekK9TTz01lKTDDjssyFWt2kXJQoSoQSK1voJdI40UtfoR/IlET8AupXERfDZAVe0kUIPZLR8mvVtID9u3TAtb8xDcsU3+SABUUkGOl40iTZ2W4qIuX3LJJdHIwA82Uo2T9CQSdXAzFy24wStmLrUpfYGoC2kQOZGY3fQtwCfFRa3xXRyrtJHXESxOlwMirSMfbuBlFXQOTCGwugMpJqRnxIgRQXqQJO/1Hd5nG5yZ5xUmIl4eyA1VB9lBerbYYosgep4nC0uL+bx9p74gEVJvUk9UHk61HvZbrRJyxsEW2K7aGmTM8SI61B7kxj6UG4rvQ6asxqywuS+wLQqUm5XzNRQnziYGHmzSgDsEnv3Xp6LbHezMnCopLnZZSI96QiovxVmRNsXY/7fbbrsoai4LoTp+KS6+ga+pT2O3K+y3ND7lm3LFRzba9yQ9iUQDIBQcw4wzzhjKQ18M32c4G8W7yALJ3M2Y7KqdGhlCCkSVSABZmeHWgpqDEJ155pmjlaEC0m0hPTo1bF90VjpOOGvpJiuoI0+zzz57yL7ej4R4SGHZJ4RBakwKqxRvIllWZtf6ifgV0tNIifF5+4i01LaJIl72wTmwMjMVSYfMzDPPHOm8UijuuJEtpEsdQl8gKvUdSE+tjJ9I9BaUTWSA/T/88MPfsst2hiAK6ZGuonQU0sMGpX4FdAIMx8cHIAf1iohtCGDU5vl8J8Ax8D38nNR+V0FPkp5EogEQFukoKS6ScF+6n5AG6omiWuTh0EMPrQ455JD4V32LSIpqos6H8mOFdA6Gg6WycDgUnEJcCumhuniva7iQHqoQSVrhchmoqDDRdik9yAfJG5Gj+iAxHtJtSJLjPemkk4L0lCmm9h+JsA3fKW3VFekRUUqbcZRlzSvHQv1BhKTkao9f+o7qpFjSd3tYtZkTdpPpCxRvFyLXaBJrItFTuHYV7LN/12tRQToBFB6kh2Jaq/SwDSnvAoGSNLluLmn0WmJ39dVXh1pCNWabnYDaWszulqBJ0pNIdAGkwbAyikRfWlfVlCAsbvgMUiTiwRGRk5EBdTIci/QX0oKIICUKjqkiyIzrlRLESSEi0lL2iwR/9tlnh5EjNdJFCJBt+74nnniimmmmmaKmB7lBeKS7fM4+OL4zzjgj3tcT0sOR+C7kBAmsdZKOS9cU0lNIi++UHvOgnJXj96BgIWgImRsKpeiGG26I7du/3oJi5nxRkJDVelUskegtEAH2K83teu2Umz/7mWWWWYK0sYta0mPl8QLPszkrkqunK8qI4+QXpLUFUJ2gcjkWAZT5XJtttlm3k/ST9CQSXaCknhThuqEzrN4ASZCa4mjqHSaHKs2jS0uK54orrogWWZGKGhsOh9NCXhQI+z/JFoHS+u4Gj+go1qNsIEpIFoKhw0uhNHUJCTGg0HZIvxyC7ZdiYvlvA8rs3+mnnx4KTLENpIetqBOiBnGcOq8QI8dW6nHA56lS1BukzP85IekqxK72vYDoIHaKKKlayJ4uMwoYEtgbIFHqGNycdJtJc9Wf70Sit2DvlEoKqTlSiH8nEABpcr6E7UqBOw5EiO3WKj2AHPBBFB9pLtABWXxTpyxMyoeqvxp//PGjQaM7+0/Sk0h0AQ7ODdSNm1Nw4++N05OCcjPmROo/R2mh3Mit+w7OyfuvvPLKKHTWKosY+BzCgAjIs0sh6QazTaTMNnRtIShu/lQa0RvCxNEhNFJotsH5ue4V+4rsKCKUJNvxPTo5EBWdHeAz9oOyY188EB9FjqVeoBb+TxVDpvyNlN19993hkBqdN86ZE3Ys9pGihIz1VqVxTMiOOqms5Uk0E+xKV+Vkk00WdsVW2h3sydgJfouay/aQG75GsFUL5ID98CGl2/H5558P0sTO64OVdgVyqv5KQFfqBLtCkp5EohtwCupyRHvUFeSk0Q28ETgMTrKrqAMxcIP3um0iJdJGHkhRLbyH/IyQ2K73e9Ruo7wPOSnb8F7/ln32r/c7Dtsr6pXnva92fz1XjqF83ntq96EeSBMCok7JPviu8h31sO+FTEnTqRdC/Mr39wQcvLSc2gvqFtUokWgWXONIvxoZiqpAojfX52CAvSEwFGFKcLHBrmzR8XiNTSN56u40RNhGIxtvJzge6XkqFqVXw0a976xHkp5EohsweiqLNBAlgdLCMSQagxyOJEqBUZHG5DQ5LWtliaalEsfksGqBtCkyR0ilyaTvGjn1RKI/QKzPP//8UBIomRTMdicDbEPKXEqcOtsToob06OyS4r7++uuDCLUz2LpmD/WQapj4j54ocUl6EokxoER7urBmm222SA+1u0MYTChgPueccyIFNqabA5Lj3ErdlULKnoDD8znt9Gqu/M1pJxIDAWRePZ013fbff/+oQWt3SJtLYWss6EkwQcHVBKF+sd1reZA4qXz3coMIDz744B7/Jkl6EokeQDpI8a4BXzqp5Md7o0oMJyA65dET9Oa9gNwgVOR7aQf5/FKHlEgMBNxkNQuoGTHlXM1MmYfVzuitbfX2/YMF3aDq/3RrKbhWH9hTJOlJJHoINSoKjSk+urIQH88lWgdEUzQqhy/dYCCizrREYqBBXVTYr96F4nP00UfHfaQTSMJQgd9AUba6IwHPBhtsEHU8vamzStKTSPQC6nnk9+ebb7546JIiI6fjG1g4vwgm6d2sIZK2tby6m8eRSDQbVEbFzEYrmIFlCrp7Saq+Aw/n2GBUi6mq4TF+w/yk3p77JD2JRC+h68h0Ym2sk0wySXQeZQHtwEINlcJMqQWLoqoBSpUtMRhg61q/FdBOPPHEMcfK6IgMfAYWFB0DTf/v//2/0fhQP0W6p0jSk0j0ARQfBc3mWRgAaHKxdmvt14nmQWQtmlOoqJ7KLB/zUtTw5E0mMVgQ+BjGecABB0SaVX2Z67Is6ZJoDhDML774Is6tkgKNJFJb6qv8Bn1Bkp5Eoo8oOX7D+KgPViyWfuntEMPEt+H8qdVRN7X22mtHOmvjjTeOwWnZOZdoB7hGFdRa/04HoRuyZVW0UWcnYf8hbWVoqUVSnVvlBFR1fqE//jVJTyLRD4jqyKy6Oazua+0nCxQy1k6Y3tquMOPHDUTROIWH0mO6bEbRiXYDOzdZ3Kwo3URmVFl6xrIVid4DoRE4CiCd0/HGGy8m4mtgaEZKO0lPItFPMFIt7ffff38U10077bQxAt4aVL1dR2q4w6weq0MbBqleSqeMG0oWiyfaGZQd6a7jjjsuFvAUAFm/6plnnsnas17AuTLV3TpazuPIkSNj4rqBkM0qFk/Sk0g0CSXPf9ppp1ULLbRQKBSKHXV4ffTRR5GWyRv3tyFNiNS88MILoZJZtBRptFCq4sVUzBKdAvUnav1MQqb6mullIV3XtjrAbHj4NvhNU69ffPHFsP/FFlss6qSUDUhvN3skRZKeRKLJoPpYt+bAAw+MiE/HkfWojHY3rRj5yTTN352dG4HlIzg7Ofupp566WnXVVWOhUlNhkyQmOg2IjWnBV199dTQ6qPdbcMEFq6OOOiqWXEny83ewf74S2TFocN555w2VfOWVV47u2E8++aTPxcrdIUlPIjEAKCkvBk3mNtNDi7tFNS+55JKQa3UgDTfn57xQbtQ7WAFe15s6CAuGGjh4+eWXxyrJA+HsEolWwXUuHSPIueCCC0LxmXTSSWOoodk+1sOibkqLDSdiX2v/Un/sv/hGC7qarl7IzkCdlyQ9icQAoTg+a8I88sgjofwYrGeSKCdoDR/Fero9RH9D1fmV8+AG8PTTT0etk0UNpf9GjBgRU1ULEZTTTxUsMVTgWhbcmOOD/OhEnH/++UMBVv9nkUwjGdj/UL7ukTv2j+iwf52YmhSou/52HkogONDnIUlPItEimOGjxf3YY4+N9nartkvn6EwwXdgKxz//+c9Hz6DpVBJU9p2jU+MgfWWY4N57710tsMACEfFydlasNn/De1LuTwx1sAk3fouAGq6nzZ3Kudpqq422fx2KnW7/UOxfwIfUsfN99tknCB9VVypLzc6PfvSjUHZbeaxJehKJFkMkw7lZwJTaI60jl63w0Xh7ihBngCyQgTuJEJCuFW1z4NbF2m677WIldPK1yG7TTTeN58n7ihc72bEnEn0B+5faonrqTFpppZWCCFhaQYs2+1f/x/47beaXekX1TJRtdq4Li/0L7ti/rswzzjgj7F+B8mCoW0l6EolBAoMnayt6vv3222MWjamjHKCHqEgB9EEHHRSRkiJIJGgwHEUjlGhOW34hOVY8Lik8Lef+3XzzzavzzjsvpG35+uzGSiT+Duqvjk9jGYr9CxAoQOxfOszUZ0FQsf92CoKQHPZvzIQhjTvttFOk7tk9RbeskSWlxf6pOoM9XDRJTyLRBkAeLJ7JsSFAhh1SRURJlrnQ/cGZGHy28847VyeeeGI4QhGVQYgGJH7++efhFBEpEjmHysGop1EYyFkiTPUPz3vd+xASnzMvRyE2NYZEzVkZ/W4iss6qCy+8MJzxlltuGak6bebzzDNPPHSsSGXJ0z/xxBOhatmW70okEt+E4IHtFfu/4447vmH/phFLC9fav9fZ/8MPP9zQ/tXGsWH2z7ewb4962y+P8rr3+ozP2oZtUZtMnvYd9s93+m6rzLN/9q7NnO1LW2nW2Guvvb5h/zoxfU87IElPItFm4Bw4H06HVFxUFAW/HIsIasIJJ6wmmmiieKgNQorUBuy6667VKaecUl155ZUxFRYpsiaY1Yk5H+RFXUH518PzHCc5XcR2zz33RMuowkutpAoNqTfIl+UgfLfHBBNMELJ1cXJqFUo0ijhxopm+SiR6h2L/Apdi/6effnrM/Kq3f/8aicH+jXpg/yeffHJ11VVXhf2bYmxVePatmNp9r9h98QPUV2qz9whqzMYReNmGbe2yyy6RgvMd2u/Zffluafla+y9F2e1s/0l6Eok2BgcoCuREOBMOShs8p2QIIofEGSIlppeSxDlG3SEmmnJSSJFhX57zmgcCo5DSQ65dK61HeT9Z2nsUHNsmJUe9gcjOgn9ayxEqnWdIDgdNJaIaJdFJJJqDWvunliAp7B+hQYSkk3RCIh619s+ma+2fbbPpYvPF/ikz3q9t3HuQGJ/xWdvwum3atu/wXXvssUcEYYIjREp9Uq39tzuS9CQSHQSEgmMRCXKE0kacjry6KEve3HIYCiHl0UnQhx9+eAz/0z1hLgaitMoqq0Sk9p3vfCfmY1B0vM/7RXfmZXCsokxOFrkhcSNepG8OrsjliUSiNai3f2Sj1v4VR1Nq2L86Op2iJkKzbQQJufmnf/qnIEBq7Sg0fILiaT7Ae32G75DCohTxKRRcDQqF4PhuZKwT7T9JTyIxDMBZcpTICtIiQlOTQxq35MPNN98cufskMYnE0AKShLCYCG02liVyLI1jVAR/4DGc7D5JTyIxTIHkSFOVllJdYh988MGoVxOJRKcD4aEAbbHFFtFNqS5Q3Q6iM1yRpCeRGMYgVavN0Rovpy9nb3kIHRxZm5NIdCbYLtu2+KlavKmmmqrafffdgwANdzU3SU8iMcwh7WUStHSXXL9ZIToxtMBmuiuR6CywWe3vl156abXwwgtHM4KOTikudXjDHUl6EolEQFG0dBfioy31iCOOiLbWVHwSic4AW9XhpSFhnHHGic4rk98FNom/I0lPIpEIcJiIj44tuX9t7jo8zPkwMyiRSLQvEJuXX345ln6QzpKyZsuZqv4mkvQkEolvwWh8Le6IT+n2MI8nkUi0H9Tv3HvvvdXyyy8fM3a0p+vQ7IS5Oa1Gkp5EItEQ5vKoC1ATIOVlKKF5IFnnk0i0Byg4Ws8tC2PgoCUrDC1lu6nuNEaSnkQi0RCcppk+hhOuu+661fjjjx9pL8tVGEyWSCQGD+zT2ngGC1qg2DIR1sUzQDQJT9dI0pNIJLpFmfWx//77x3CzpZZaqrriiisiwkznmki0HmrsXnjhhWq77baL5WWsxm4hUJOSE90jSU8ikRgjpLQMM7RysvV4pLtMeLUWWLbBJhKtA8Jj/o719hQsW0pCDV7aYc+QpCeRSPQIVB2PJ598slp55ZVj7a5NNtkkOkZ0iCQSiYED2/v9739fXXnllaMXFLVOnmAkFdeeI0lPIpHoFdTzSHcZZqhw0jBD6S71Bel8E4nmg4rz3nvvxaKgFg214vmNN94Yqk82FvQOSXoSiUSvwdFqYb/ggguqkSNHRl3BiSeeGJOds8g5kWge1NRZ6dz8HSMkNBNYOibV1b4hSU8ikegzFE4+9NBD0d2lg4RDfvrpp0e9mkgk+gPE5r777qsWX3zxWBR4v/32q95///0MLPqBJD2JRKJfMAn2pz/9adgVx2zV9uuvvz4GpqX0nkj0HuxGuvjcc8+NdJY08nnnnRcdk2lT/UOSnkQi0W+Q4C1Qet1111Vbbrlltdhii1W77bZb9cADD1RfffVVOupEogdQE4fsUHeks4yH2GGHHap77rkn7CjRfyTpSSQSTQOnrZvk1FNPraaccsqIUkWrItQciZ9IdA2BwW9+85vqkksuCbuhmp511lmZymoykvQkEommAvHRVXL77bdXK664YjXddNNVu+yyS7S252rPicS3wWasleXeJFhYbrnlqjvuuKP6+uuvsyOyyUjSk0gkBgR/+9vfqldffTXSXBNNNFG1yiqrBBGytEU68kTi71Cs/NRTT1Xrr79+Nf3001dbb711BAjsJ9F8JOlJJBIDCouUamcfMWJErA90yimnVB999FGmuxLDHgjPbbfdFrOuZphhhuqggw6K7qwMCgYOSXoSicSAoqS7FDUvv/zy1XjjjRfR7I9//ON07olhC6RfwbKif/N3Lr/88urXv/71qFcTA4UkPYlEoiUQ1b7yyivVjjvuGFHt6quvHqtCq1vI7q7EcIFr3WBPYx2WWGKJarXVVouAIFdHbw2S9CQSiZbBOH2pLWsGSXXNN9981ZlnnhmTnNPhJ4Y6XOPSVyeccELM3llhhRWq+++/Pwv8W4gkPYlEouVQpKmoWaQ71lhjVXvuuWcMOMyVohNDFa5thEdh/w9+8INI9T722GPZkt5iJOlJJBIth4hXdPvSSy9V22yzTTXrrLOO7u4i8ycSQwk6Fi3XIqWrfmfbbbeNRXuT8LQeSXoSicSgQX3DJ598Eumuueaaq5pzzjmrM844o/r0009HvSOR6Fwg9wZzXnHFFbE8i6GDRx99dKR4E4ODJD2JRGLQYfS+YWyGsplVcuyxx+Y6Q4mOhmv3s88+q4466qhQMpGeG264IaYuJwYPSXoSiURbQM2DqbRbbbVVEB91Pm4QSXwSnQbX7IcffhjX8rjjjhuTyQ0cdI1nwf7gIklPIpFoG6hxcLM44IADortlgw02iO6WP/7xj6PekUi0LxCaP/3pT9W9995brbvuupHOyiVY2gtJehKJRFvBjUPNwyGHHBI3jQUWWCAGt1nINFWfRDvD/J0rr7yyGjlyZDXHHHNUxxxzTNxr8rptHyTpSSQSbQfER8eLAlDzfKaZZprq0EMPrd57773seEm0HZAa9xTLrUw22WTVQgstVF199dWh7mQ6q72QpCeRSLQt/vrXv1aPPvpoteWWW0adzzrrrBPproycE+0Cy0mYNL7DDjtU0003XVyjDz/8cFy7ifZDkp5EItHWoOwYXHj44YdHumvJJZesLrvsslinKBctTQwWKDi///3vY/2sNddcMzq0DB584403coX0NkaSnkQi0fZwg9HWft1110XqYMopp6z222+/6oMPPkjVJ9FyuB4VLF988cWxjtzMM89cnXbaadWvfvWrvB7bHEl6EolEx0DK4Omnn67WWmutaqqppop//V9knbUTiVaAuvj5559XRx55ZCiPFB7zd3QY5jXY/kjSk0gkOgoIjgVKFTab4rz44otHwbMpzpnuSgwkkO7nnnsulk6ZffbZqw033LB6/PHHc6RCByFJTyKR6Eiop7jkkkuqESNGVNNOO23U/Kj9SSSaDQqObkJF9CuttFJ0aO28887Vu+++O+odiU5Bkp5EItGx+Ld/+7fqySefjIhbusu/0l3ZOZNoFhCer7/+OtREBNuCoVrT1e9kOqvzkKQnkUh0NKS0FDRLd2lrd2O69NJLo/A5kegvTAg3KPOHP/xhpFKvv/766g9/+MOoVxOdhiQ9iURiSEBND7JjYcd55pmnOvDAAyP9kOsdJXoL14vasZdeeqnafvvtg0yvt956MX/nz3/+86h3JToRSXoSicSQgQm4iI6uru9+97vVaqutVr3zzjs5xTnRYyA81MPHHnsslpOYcMIJo37nk08+yUL5IYAkPYlEYkihrNZO6ZllllmqhRdeONbusmJ7ItEdEB61Oup3rPlm0duTTjopWtRz/s7QQJKeRCIx5OAGheSY3LzYYovF4o+5dleiO1Bx1O+4TpCd5ZZbrrrxxhtjodtMjw4dJOlJJBJDFlQfc1TWXXfdatJJJ6022mij6qmnnsrursQ3IC368ssvx/wdi9u6XnQBej4xtJCkJ5FIDHmo69GBoyB10UUXjfk+2YGTAGMP7rzzzmqFFVaoxh9//GrvvfeOeU+ZzhqaSNKTSCSGPEq668orr4zuLksHHHbYYdHqntH88IRrwqK1559/fqRA55133lg/6xe/+MWodySGIpL0JBKJYQF1GabqPvTQQ9UGG2wQqs/GG28cXTqZ7hpekPZ8//33q4MPPjjWz6Ly3H777aH+pcIztJGkJ5FIDCsgP9qPpTEmmmiiWL/rlltuibksiaEPpEZ336abblp95zvfqVZfffXqtddei0LmLFge+kjSk0gkhh3c4HTlqO1ZYoklIto/4ogjYsZPpruGLr766qvqrrvuivlNOrT23HPP6u23387ffBghSU8ikRi20L7+wAMPxE1w6qmnrjbbbLPqiSeeyJvgEESp39GdVep31HmlujO8kKQnkUgMa6jvUNB80EEHxQ1Rd9e1114ba3flDbHzIZ3l9z3ggANiNX5Fy7feemv1pz/9adQ7EsMJSXoSicSwhxvjF198EZObTeJ1c1Tk+vOf/3zUOxKdCEqeeh0F6+Y0+feVV16JNvXE8ESSnkQikRiFr7/+urrvvvuqddZZp5p99tmrzTffPIYbWmQyVZ/OAqXupptuis4sE7n33Xff6s0338zurGGOJD2JRCJRA+qA7q79998/0l0Wnbzhhhuq3//+93nD7AD4jf74xz9G/Q6yY/218847L5S8/P0SSXoSiUSiDlSdL7/8srrwwgvjxjnjjDNWRx99dKS7UvFpX+jK8xshrFNOOWXUZ5m/YxxB/m4JSNKTSCQSDeAmaVjdww8/HLUg2tqlu6zJJN2VaC+o09F5t9VWW8XgSXN4DJ7M+UuJWiTpSSQSiW4gJWKY3V577RU308UXX7y6/vrrQwlK9aA9gITecccd1TLLLFP98Ic/rPbZZ5/qZz/7WSg/iUQtkvQkEolED/CrX/0qhhma4Gywne4u6zQl8RlcIDy33XZb/CZzzz131PIgpFm/k2iEJD2JRCLRAyA3Zrs8++yz1brrrltNPPHE1UYbbVS9+OKLmUIZBPg9nHczlZAd9TvUHkXMiURXSNKTSCQSvYCUidkvBx54YLXwwgtXq6yySnXxxRdXH374YdSVpPIzsCjk86233qqOP/74avnllw8SmrVWiZ4gSU8ikUj0AVrbzX1Zf/31q0kmmaRadtllR8/0SQwMEB7n10RlS0lYMPbII4+MdvQkm4meIElPIpFI9AFuslSfzz77LNZxchOeeeaZo+4nUyzNh3PNb1N35pxzzpifdM0118TCsUl4Ej1Fkp5EIpHoB9xwDS40D2bFFVeMZSzOPvvs6vPPP8+bcZNgAdiXX3652nHHHWPY4HrrrVc9+uij1V/+8pc8x4leIUlPIpFINAEWLn3ppZeqDTfcsJpuuuliQN67776bK7b3AwiNYuV77723WmONNSKdtdtuu0VaMdvRE31Bkp5EIpFoEkqR89Zbb11NMcUUofzcf//92T7dR0gTSheOGDEiFoE99dRTw3enupPoK5L0JBKJRBNB2Xn//ferY445JmbH6PC64IILql//+tepTvQQVDPdcIqUncOll1466ncsIpqEJ9EfJOlJJBKJJoOyo87H5GY37BlmmKHab7/9qrfffjtn+owBCI/6ne222y7ShNrRH3nkkeyKSzQFSXoSiURigECVeOGFF6o111wzhhmuvvrq1ZNPPhnEJxWLb0Nh8quvvhppwXHHHbfaZpttql/+8pd5rhJNQ5KeRCKRGEBId3388cexSrtWa91d6lQsa5G1Pv8L6T9DHuebb754HHfccdVHH32U5yjRVCTpSSQSiRZAuuuKK66ollhiiVgU84ADDoh013C/qTt+5Eb9zqyzzhrzd66++uo4X4lEs5GkJ5FIJFqEv/71r7F21+abb15NM8000YatXmW4Ll9hqvUbb7wR3W6TTz551O9IBzpPicRAIElPIpFItBAKdQ0uNFl4qqmmimF70l3WkxpOkPZ78MEHq2WWWaYab7zxql133bX6yU9+MurVRGJgkKQnkUgkBgFqeq688spqqaWWquaZZ55q3333jaF71I+hDOms3/zmN9VFF11ULb744pHOOuWUU6JFHSFMJAYSSXoSiURikCCtJb2z8cYbx6Kla6+9dqR3hmp7dqnfMcNo6qmnrhZbbLHqRz/6URxvdmglWoEkPYlEIjHI0JZ94IEHxtRhC5dSgKwcPpQgnaVw2/pZ2tFXXnnlaN9PJFqJJD2JRCIxyKCAaNk2dXjJJZeMKcT81DvvvDMkUj7qlcqCrHPMMUe19957h8KV65IlWo0kPYlEItEmkO566qmnortL+kfaS3eXNag6Mf1jnxVtm78z//zzV3PPPXfU73huuLfqJwYHSXoSiUSizfDBBx+MrnuR7jr//POD+HQSEJ7f/va31UEHHRTt6AsuuGB11113VV9//fWodyQSrUeSnkQikWgzUEG+/PLL6qabbqoWXXTRWIPK2l1qfzqhu4ti9frrr4diNeOMM8byG88880w8n0gMJpL0JBKJRBuCUmItqsceeyzIw0wzzVRttNFGMdumnVUfk5Rvvvnmatlll40Jy8ia2qSs30m0A5L0JBKJRJvjF7/4RZAH6a4RI0ZU1157bfW73/2urep87AvCc+mll1azzz57qFMnnXTSkOtCS3Q2kvQkEolEmwOhoO5Yu8tAPzUyhx56aPX++++3RXeXfVCHdMQRR0Q6yz7eeOONsZxEOxGzRCJJTyKRSHQI1PNId+nqovqsv/761UMPPTToxEe9zmabbRbLamy66aYxfyfrdxLtiCQ9iUQi0UFQG/PTn/60Ovzww6Nmhqpy2WWXxdIO//Vf/zXqXQOPoj7dcccd1UorrVTNMMMM1T777DNkZgslhiaS9CQSiUSHQXeXgX+6u7S0TzDBBFHz88knn4x6x8BDkfUFF1wQq8UjPOedd171hz/8IefvJNoaSXoSiUSiQ2HNKsML11133VitXXfXo48+OqBrWVFxKE0HH3xwTFdeZJFFqhtuuKH66quvRr0jkWhfJOlJJBKJDoZ018cffxyFzbqmFlhggeqqq66KZS2arbooTLYgqhZ63VmbbLJJ9fLLLw/ZBVITQw9JehKJRGIIwKRjyz1Id0k36aT62c9+1jTFRzrt7rvvrpZeeulqiimmqPbYY4/qvffey+6sREchSU8ikUgMESAmjz/+eHRQWbFdd1d/O6mQGstJnHvuubGUhJTWmWeeWX366adJeBIdhyQ9iUQiMYSgg6vU3Mw888xRc3PllVcGceltusu23n333fCZVn7XpWW1dEMIE4lORJKeRCKRGIJQ03P55ZfHyubUmQMOOKDHwwwpOH/729+q5557LubvTDLJJFHH8+yzz3bE2l+JRFdI0pNIJBJDFNJa6nrWXnvtapxxxqnWWGON6o033hgj8UF4rPFFJZp44omr/fffP4qlWzkHKJEYCCTpGWIQoYnEzNAwM0MbKVnb+jefffZZzPGof3jeYDPv837Stc/rCsmZG4lE54D9IyZIi8GB1uei+Dz11FPVrrvuGhOTl1hiiRhmqAhZXY6H9/AR7N/z55xzTnSBLbbYYvG39yThSQwFJOnpUCA2ujU4K4sRvv3229Xzzz9fPfHEEzEhlax9+umnV8cff3x15JFHVocddlhMS+X4dt9992889t5772h3Peqoo6oTTjihOuWUU+LzcvdG3pO433zzzfge3+d7fX8WMSYSgwPBiMDkyy+/jMCFmvPKK69UTz/9dHX//fdXP/rRj2JY4Mknn1wdffTR8dBt9cMf/rD6h3/4h2qyySarNtxww7B/zx944IHR7cVfbL311tXYY49dTTTRRJESQ5jeeuutsP/PP/88gqm0/0SnIklPh4BMLdp66aWXqptvvrk6//zzw1Ftv/32MZiMDK1N1XRU0RynZlFCszTk9Oebb75q0UUXrZZZZplvPURz888/f7zP+7Wj+qztWN9n+umnj64NEvl2220X38uh3nLLLZHj//DDD0MdykgwkRgYmI9Dkf3xj39cPfDAA9U111xTHXfccUFa1NyssMIKlbod9stmp5xyytE2rABZGzvlZqmllvqW/S+55JLx2jzzzDPa/ieddNJ46ABDlBZaaKFqrbXW+ob933rrrWH/P//5z9P+Ex2DJD1tClGUCE67qVHve+21Vzgd5IMj49Q4I4TF4oO77bZbddBBB4W6YzAZQnLnnXeGg7QYIBXotddei3VxOM7ax+uvvx6ve58o8a677gqHdvXVV1dnnHFGdcghh4x2rhzkTDPNNHofONMVV1wxWmSPOeaYGItPddI6m5FgItE3UFLq7V/QUeyvBDSIyuqrr17tsMMO1b777htE6KKLLooJyRTfe+65J1rYqbUCJrZZb/9UHK8hMMX+qbzXXnvtN+yfjZfvZ/segikdXVtssUXYv5XVfQc1OO0/0Y5I0tMGECGRqqWOSNRIC1l5nXXWCScz11xzRRQnSttpp51CgkZIEBrTUUnbHKSaHJNRFSn21+H4vO0UCZ3KpPODc1TgyCGeeOKJ4Yw5Xc7P4ociRiRIREhat48ffPBBSOI96RpJJIYb6u1fezn7LySn2L+FRbfaaqtIVauzQWqQIqTlo48+is+zs2bU4hX750+K/av1Yf9smv+RCmf/q666aijF2uNHjhwZqtO2225bnXTSSfFen0OC7FcSocRgI0nPIKE4FYqImRoKC+XYjZEXQcmnIxBIDieI3Pzyl7+MwkRSdzOITX/AUdsPTvZXv/pVECIRIiKkQ0SajTwuGl144YWjXkhdkOMd7H1PJAYbtfbPdti/dbPYf0kvIxA77rhj1NdRati/wMZnBrPJoOx7rf3/5Cc/CftHdNi/lHhJj1GjpcTUB2qYKPuePiAxGEjS02Iwdl0V1A+1OSIitTScg9w7h6GQmIPQIsqpqOdBMtrZSdi30jWmA4TErZhyl112CdIz44wzRrQqUr3uuutCnRL9ZR1AYjih2L86mGL/7AJJKPZ/2mmnxaKh1Nta+29nOK56+5diY/9qCdUbOkY1RBQiQRxlCgFKJFqJJD0tgshI54MVkXVSkIDlxhUgq8mRO9clYb84xU6XgosSRBo30VXhJQfPATruZZddtjr88MND/ubcOcxEYqgCKaCIPPzww2H/rn8kR0CwwQYbjLZ/tlCUnKFg/wiQOkIEj99V/6MOCdHbZpttqiuuuCLqigZyVfhEohZJegYYnJ2IRh2MlnH5eUXA6nNIvg899FBIvsMBUnMULGRn+eWXj/MwyyyzRMushQyRQuQwkRgqYP8l2OF3qLque7U66nb4BSmr4XDDNztIAGRRVGuCIT7OhZpAxddJfhKtQJKeAQRnpoNKUS8D10qqA0L+XvQzXG/wolh1TIqht9xyy1B+FEFKfYkIkcREopPhxk3lUOeiswq5V99W7F8NDBIwHIEIGoSICAqA1PyoYxIIaX5wblL5TQwUkvQ0GZydaEWbaHF2ctkKkrWPKkZMg/47SOC6Qu67777oAnGedIAZjiYClubLqC/RaZCekqoyQ8v1jNArSEaA2H/WsfwdbNt8H6M0zjrrrGrppZeO2kYquO40HWkIUiLRTCTpaRLcwBmw9lGdSgyXlE29MPOCAWfqpjGQwEJ+3BykAEV/Vol+9dVXo5iz3Qs5E8MbbuBqWPgVN2xLPejEomSaeaUpIYOdxnDuNDUgP5Qes8jU/WyyySZx7gxlVMydAVCiGUjS0wSIRhimriuOTrupYYGiPY4wjbVncJ44N+25lsaQDhApK/xU4JmkMdGOcN1Sdyi5alWou7qWDPvMGpXegY1rfjCQUeAz3njjRSs/5TfPZaIZSNLTDzBAeXst2LqwKBQiOwPDPN/pHRiDAefLeaOaIT+UH/VQxuCbV5L1Pol2grocE82lZ01I15VlVAN1Mu2/bxBEIjja+qlmVHOdbhpBFEJnejDRHyTp6SMYpvw8OVZkZyKxvLQ0TaZimoNS83PhhRdGay/Vx6KIFj7MXH9isFHUnVVWWSWuTSMZEHXqbqL/QBjN/aGYCybN+tLppQAaKUok+oIkPX2Am7EaHSkYxbfGsFuzhhNMNB+iaavHW5ZDlwf1R3trksvEYIESafaUtecEPSaRm8OTZHxgYFHjY489NtQ0y3FQ1zU6JBK9RZKeXkLOmZwtd6/mRIeW4uX+1ptwlgNxE7dfiihNSO30QkrnWa2UFeSdf1Ndk/gkWg3X3JlnnhmjFqw5ZfKwGVSDCXYu9YMc2D91McZi8HPqDS110cn2T/VBNJ1r5xzRNO8niU+it0jS0wsgJi+//HIU1lkfy3AxzqQvN15GTAZ/8cUXY2X0PffcMx5HHnlkzPbhtHq6XYZvwGGpH/B/UaeiYDLwJZdcEgMA1Rl0Mjh2Tl2KSzphvfXWiwUQ+0s4E4megH2xS/aqu0iLtTb0nii8fAcSwr7333//eFgV3aP831Rmqdvegl3bJwuU2oZaGINP2YfFi82+svp6X4gZoiSFZ3v8HYWl+JlWo/hMx+PcGwWg4Hm4DHdNNAdJenoIBMR6WXLLogwrHeso6qsD0KLJgViRfLXVVosiPQ7RkhTqVxAgCk0t7IMivkKGfLe/77333urss8+O/DcCYMqztnn76/1WOaaK+LsoSuWzUkeNSIPXODzv606F8prP154H7y3Pefi7vK9ss6+wHcXMVppX4GyEv+NrdAyJRDOBXKgvE/CwWbUmAouewDUvJXvooYdGWpx9u2mrBeSPPKc+kM2yEde5f2vtzjXupl9rQ95HxbUt2/Q3f6DtGxGShkekLPZbWwDs87bt893Bd5mWjpzZphlatZ+xDftk27V27T3FB5RjKZ/znPd7ri/wfXycNBe13bBHzyUSPUGSnh7CjdZaMWpKOIAxOYsxQTGeVYgpMORn2/PgWI855pgwZs7Lc5wExcYUY8s4iBjLYp2OQ8pnrbXWioGInN5+++0XxOnGG2+MyNR7fIaToQAhCWVNHGtf+UxxGr7LPnitLAro8xStRsRClCXthDwVp+d4fF4EXOZveM6/OtsUJ/fV4YHvsW3TXCeeeOKY56GoPJEYKLj2pVaktBTUIjy98QGuWY9i52761qHS2l6e8zCpmJos4HnllVfC9nw3lcb/b7nllurpp58erQSz46uvvjpauwU6fAD/gUxZ2oHqw+Zr01tsXcDGn3iw0WK79ajdb36vkB4PijLfcdttt41eILV8h+Ng7/YPkWP3jglJtCyH9yv6lrLqC5wTPlRXl3loav66OoZEohZsKknPGMBwRWGmhe68885hxP0BgkDOnnPOOcMx1JIJzoRDM5SvOAROQhGfQl7DDv3rhs+hIUEiMKoHpyQStZjpNNNME/tq+5whRclxKL70eYP/tNkiSwap3XTTTbFfyAnVieKEPIlMkb1dd921oYMiNa+55prhWDlhjkfkhYi88cYb8f1a+U2nRfC810rSFl7sj5PyWcdvv9T4OB99daCJRHdwXbupap1eYIEFYmZMf5oWXLuCGHbKRgvYvnTZiBEjYoI7guH/7Gj33XeP9BX71zghxY4cWbKBHY811ljRRUbt0eFkTSs2yK7VH1kKBxERpPBlOs2oSxtuuGF10EEHhU8bkz3yC77ffiI41G6Kl23bN75EKgzxsd/m7PiO8jq/YwV529lss81CqeHXkK6+gL/if2zHcfBv/fEpieGBJD1jAMMyFRRBEZm5iXOC/YE1uTgtTq3koxkrZyESKg//52AoNiNHjqxOOumk6mc/+1msWWUeyLnnnhuqjJSbNX0cE4Ik/85BqxeyfY5QNOR7Ff9xiEiPgmwD1IrzpZYgRTok1ALYlvoi383Rcir1uPLKK2NGUWnVdxxa962jo97GPnzve98LZ0ne931m7iBA9ZJ4b+H7nI+VV145iJV9r5XwE4lmgF1sscUWofKwn0aKZ2/gmu+K9LD1SSaZJIgCJQRR0RmqYeKOO+4IO/Mexbxq26gtVBOKp/oWaop5VggH4uH9SA3SITCRUmd/VCCKr20iR7bp+7sDArPuuuuGTyxETJAlUBJ8IUCbb755qFK2R60W5FCTEcUyy+z8888PhYmfcg4EeH2B8+i3kMZTckDxyjRXYkxI0tMNGBXjFDkxVs6HwfcXnITuI2kpTg3crOXOFQtSWJASTotzPOSQQyL6U5DMwSFhyyyzTJAmTk9USEmxDWSJvM2ZkLSpH5xVIT2cnWNBeJAGr3u/KI2TRUZ8thRU2j6H3xXpueKKKyKVVkt61BdRlkSiUmTFIRdQuZzT7mT1noLTs9/2wcrVjqu/20wkClyj5513XiwW7LptRtGs63NMpOf666+PoMd7kQidWWzJUi0G9rneESP2Ke0lVe4z7F+6iX8QYAiKkB4qC/LGvhEXfg34M8FIT2ZfUZSWW265+E5KF//CxhEaREvhNLWJL5AKVGeEZDlWaXLqEoJVmj/4NyqzNH5/QPEV+NlWXwlUYvggSU83QCIsLSGtZSmE/kjateDEGD8yUSYMcz5UFfuGDJn/wUEhKpwNp0bGpaBQeagv0lm2ZW5NLemxr94nkqsnPaIsyggHyKE6JpIzByxHjkiJ1kSFgFQgYZxmI9KDREmv1ZIeTpkqVkiPZTk45IJTTz01nCfC1wyC4tyR8Mcff/wgi5nmSjQDSMCzzz4btoPEu6GOiRj0BD0hPQp1/d97fS/7ZjPsk+8wHwzpQcooqvwDgtEV6UF0kAMBEv8iPdVbSEvxK3wGkoQE8kVSVZRcdUTsntqE9OiwRMj4EL6DMqRZgx9ybIJIPk2w1x84ZgRqggkmiHR82n+iOyTp6QIMVXv0oosuGrKtYt1m3KBBBKfORh0OUuC7OAHGar9EXgiRIkfPkYFFMRxJSRlxaFI7tkX65gB7SnocTzl+Dgyx4xSff/75cK7+Lq+Tiz1HmWlEeqhPSA9Hh/T4fo5HSymH5/jU3EiDFVCWRIS214xzahvOmU4uiphCT/uSSPQH7AWJFvRceumlcW03Az0hPWre/J99qldDeBQxu84pI8gC5YTq0hPSI2hBdARKSEqpS+R7qFfqCH0f2D/bpaAKZsBrvo9fEmQ4H9Qm/oRvVNitrgbp4Tuo0fwb5bWQHkGc1nl/2x7Sw6/1l/TYX9/J/qXQyrlLJBrBtZKkpwEoKKasllkQzb6JIhjy0JyeYkQRGwfH+XA2nIFaHE5M7Y48PGlbWzp1SJrL5xi3Yl7pMs6Es0J61PTIuxelqJAeUr1UFZIC3q+wkbrDeSks1BGBONgfXVgcGaLUiPQoJOT8FHoiWKRrzodTFqEiaDpLRHi2xwlzjogUktYs2JbV7HXXlWgykegPXLsUV4X3xV6agUJ6BCaUlwK2LLCRDi5KD1tHNDzsA3tVh6NtXkqHTdpPpEetnyAF4RB0sOESNElfIzfsn29Qg8Me2SsywscJoMp+IEV8EFWWT9L6Ln2MBPJBipipPNRc32kf1BE5JsEi4qHouzRq2AalR8BTSA9/Zj8da3/hO9g/gkqB6mtxdGLoI0lPAxTlACkpikmzwXEovOWASOeiMVEQAiNa4XAUAHIO8vmIAjIhdWT/OTHpKPvqOeku6hGiIeUkyiJHiwK9nxqDCCg85MTL8XN8CgF1aMnzc2K+W/eW2hzFkggM9acR6eE0FUn6jEJrUam/RbGF9PzgBz8IZQd54zQ5Q0WHjq2ZILmrK3CsSKVzk0j0Fexx9tlnj+LlZgY9hfQIJKSaCtiDbiv1Q4Ia//c+REFgYTYVEsJH+Cw/QfWh6Cgarq3p4beK0qMmkO9AeqjDAiRqD4WXSsxWdV3V2iOyhDywJSqy72PXyAxypJYPIaQc8TeIk+0a2qi+x/a8v1bpEXw5BgGl7+Lf+CJBXn/hnErZs3/qPF+W9p9ohCQ9DcAgGe7YY48dRAJBaTYYJJlYzQCywGlwgCIo0jGjLXI6p2G4GNIgaqNkIDw+DyIrk1gVQSM5ojREiNOSYuIYfZYDlW5CODg1sA0RIcUGKfJ/qo0aGQ7WZ6ky6gjKZ2pBYeGgnVPOlcROrkboRKa+TxTqNduU+uLYSwF3M+F8OQ/SachdiVwTid6AbVIKKBnIQ0/auXuDYvuIgzq+As9TWxGD8p0e/qbQIBgIkJk33keJliISePibsuuaF7AZG0GdocIoNGaXAhzkjU9gi2yWv6G01Ps4PlAQwW8gK4Iy30VpAs0Y9p+PYdNIDlWY/VllnsKDLHqfbdk+v8BX+Ntzgkm+zv43A84pn6X7FAHMTq5EIyTpaQDGop5m3HHHDSMd6PoQpEZEJgJy4+7KwdoP72v0HuSDQyr76v+cnG17cIY+43V/czpQ+5x/5f05ImQMSeKY1PMgVF2RP9vyXg8o2/NAeqScOEJOybnt6vj6C9tVW6A7TQRbHHQi0RuwHdeRNC+1lP00G65V9lG/bbbDTop9FnivoKPW9mvt1j77tzzv/7ZRa9+1dud7Ebsx2aPPsSP7VP8+27UNdl/2t3xX+bfWz9T6IQ+vlf1sFgRsFCaBWmkSSSRqkaSnAUQnJF91MP7uzikMJXA+ChdLTY56A51e0m9qAHrrnDg5aSbdW+oNWgGzhdQsqS/QgTZcfrtE84DcU1vM5mrVdZtoDti81J20pFRe2n+iHkl6GkCUJ19OLRhuBXEiNKk10rWaBnK1upyuVJ7ugCRJcRXpvRUQOZLjOT3f6XgSid6A4qo2RH2KdHGic0BJkm6j0ksDDoRKl+hsJOlpANGd1mf54b7c7DsdoiOpMTU+JPX+OA5OSBEjebwVsO8KsBVZmt2BBCUSvQG1UyMAtbAM6Ux0Bti/ej4ze6TUs64nUY8kPQ2gfRPp0Rraqpt1onlQtKlDzO+oVbbUG+UjHz156JbU+izNOxAF94mBhbZ/zROCn6zrS9QjSU8DUHisbaOYl1IxXOHYS8dHTyDKUmjZXTF2K2CIm2JmM0B0u+lQyUc+evpQy2bMgvS2VFengy0ic92pnl4rXVWdDnOK1BH6LYfC75doLpL0NID5FUiPItxWk55STGy+xWBKs9Ja2mkRCMQHOE8dEcggFcycDQMSSwoQOTKbR7u/Yxgs4lMWiJXishCrIW75yEdPH2bHWCQX+en0myYyo0XdmIqytAyfpm5PZyV71ayhvZ1CWt7TyTCnCOlR25OkJ1GPJD0NYDaF9JbZE61Ob/k+OWndYxzRmFBPLDg5pARh62sRrxoehEfnlvk99gnxcT5Ev1ZONmzQwDJDC01x5jg5U7M6TI81e6gZizP2BWZ0+P1OOOGEWG8IActHPnr6MCxvqqmmigGdnTzZWwBlZo95Q+yxzNmS8jGF3cBTfkaQguyYpWW+VqN5XJ0ES3lIb1HsczJzoh5JehpA5xKlR0641YXM1B1Tiw1GpKJ0BWQHyagvMqbElMmn9SqV945JubJddTAiXrMuyOIgerKAINJjMCJnagAZVUwqyfBC7eK2z3GqqTHYcDC6p0yI9ftRfLImK9Fb8A0G3Fl2oZnLT7QafIklaerbt/kBBdrsmO0iQJ4zpNAaXaaydzKQuAknnDDUreHYiJLoHkl6GoAzMPbdlORWF8KphyHLjjPOOFFQWQ+kQhut91gAEDmxVAQSwsCpVNYLMz7eRFRqiwGDSBAS4yHXrZ27ESFAUig6JH4tn2BgobW5KDyUnEKcRJIKPXVJGGhYIkSqDyXI6uytlpc5b1NiOXrnqZ4UJhJjAtJv1pP0qDRzp+Ltt9+OwaIWBS0p6lqwa2v6IUbsnsqF6JnWPBjBSjPANzkeNVllyYxEohZJehpAWokkjPhQL1pZm9Id6bEfSMZWW21VbbTRRrFyOaWFqkKaRnooMoYq6jyR5rIejWJe6R7vRU6s2yWiazS8S3rMFFoDvgrho9iYcmr5iPo6I5+3z767FEH61xpcSJL0UivPnxuWtcA4c79xK787MTRA3RQYUEGkdzsVFFckhh00IjGeZyeWtWGzCILU9NZbbx123om2Ix1pHUFKnUAw7T9RjyQ9DeAGjliIFhT7tTLqGRPpcVMn36o7MP+GkmPJDBGdaE5KTJ6+RG8GC1qAz5o9CJzPm1+j0E/tS20kZPu2sdxyywWJKuA8OcfaYX/eR/WhppDDRcS17b3UHw631Qt/2h8Ej/POfH6iL6CAUjstQ8EWC5nvJLA5Ni+4oXY2ssF60gPqYKw3xpZbabfNAn/Nf6nHojgnEvVI0tMAbuwW+Pv+979fnXbaaS2tCxkT6fG6tBMJ2iKAUkgUqbKKOiLC6KW8EBrEhvOmfiBHFjWl4sh5m5RsewW2j0TpfDKNucA2TKjW6VHSRb7H6suWq/D91CXzMYrzlCJEvtQJtMp5Ol4pPYTOyvHdtegmEl3BNSw4ECwo1u/EpWjYAnuX/u6KtPGB/EYt6THbisqt5qfTjplvksqT3r/kkksapvQSiSQ9DcDYKQbTTTddpIKkiFqFWtKjrbQWjJpkq94AcbGSOtVHGkmKS3RWT3qkwEyXRVAUSNs26Z6je/zxx7+l9FCDkCSEqMCyHKI/ik8pbPZd0l6KBXVJ/dM//VM4nKIE+cxKK61U3XfffV063WZDTQInj7Q5tk5z2on2gWvHIrvIPNWylWpvMyBQU/MnVVXsj/+QtirHUkgPVbi8R/qb/2j2yvKtgA40Cu98880XqnSr/E6is5CkpwtQTfbdd98gAOZXtMoB1JKeUnNTHiIX7ezy1RQUSob3y2GPHDkyotPSolpIj/epx6HCKDRGWqR9dKVI49Uel7+9pzjCAmk0XVvLLLNMqE+cJ4fi4TueeeaZb5Eec3y8nypV+x0DBfv04IMPVjPMMEPUJKW0negvLLIrYNCZ2GkrdrNNpE1wxCbZx9NPPx12/f7778f/2TJfoku1QCME0qPIuRV22yw4Rr6OyrPrrruGz0okGiFJTxfgFJAOpEdRcKtaV5EY9TRa1t3EOSgP++JBfp5++ukj+uSIr7rqqlgYUbeSbg01PZQgiodoTSHx+uuvHzN3qEAUGsRJuks0VO/YfL98uM618pp/7YvR/NQbAwt9z1tvvRXt/UiWlJJuifIZbeNIT6PvGAgoPt9xxx2rWWaZJfaj0yLzRPuB6ikd7Lp3zbfiOm4W7KsUL3tl0+zBMFF+QkqcPfMzM844Y9hLgecoxwKjTjpefo39U3kFXKnyJLpCkp5uUGbmuJGeddZZoYwMNMjS6nXI6oqTrfaMtBgCyCEp1CNbIy3UF63o0k4GjZkgKyWmS8sSDDqo5OZFrNQgRMhnvVdajDJUD8qN77f92uGInKBUlTSZOgeOUerPw1ygRx99dHThsPPkfYrBWzHhleJFlndzcpPqtKg80Z5gC/fff3+oPQIfRL+TiADlQ0Cii5NfQQzYNvsVBAmO/J8fcFy6NZEkCncn1cM5NsRNOcKee+6ZKm+iWyTp6QYcgQF8VltWyKsTiQI0kBChkJZ1RPm+2gelRtQmBaV7S1qJIxPFITc+I31F2lV0TIkpreR/+MMfopMLOaEcdeXUHDPFyJweilBtxORvxEanlkJlqSvbqm9vNfbe+VJzVN/i3mzYJwoYSV4uv1XptMTwAEKgC4qSaaoxO+oUUKrM1xKA8BPA7pE3vkOAVPwZO5Ia13FpNEWt3bc71PLtvffeYf9PPPHEqGcTicZI0jMGIA06AagIlAs3+U5yCH0BomJpCVEiQtGb4zWMUFcZZQp5GkjYLwSRiiWXr922lZ12ieEBtS9UEeqr1EmnpE4pVWUdKsvK+H9XECzpWFUH1MrGjf5AcOO3uPbaa0ONN1m6NFokEl0hSU8PIEVjwN+UU04ZKaahnj7hTER9CgK17Pc0uhU1UpKQQzUDVKmBhPZ6KbyJJ5642n333SOyTSSaDeoI0mBpk6WWWirU305J/1CqdFdKWXVHZqg/GgAUO3fKsfFTlB0q74orrtiRowUSrUeSnh6AIUktqa9RKKdAsD6lM9TA8VG1pMx6mqISdSmc1u4/kDMynHdETGRK4VGjIKWWSAwUpHXVv7je1Np1yhIn1FDpbunxRjV8BQI5tt7qZXf6Cv5JfaMaJGRUY0cSnkRPkKSnh3BDl65hZNo8tWcPdeLTjnC+KUi6xhSYGo745ptvdivdJxLNAPJgaOdYY40VHY4ffvhh2v8gwDnni63vZ4CstHamtRI9RZKeXqCkb3RGqfE544wzYp5POr7WQNSqINPUZesiSTWUeUWJxECDnUuhSAPNNNNMUbdG8cnrr3Xgg6XgLK8x6aSTxjyyvvjyxPBFkp5eQmGzehVLLLjxmm5sHk6nFDd2MqTbdNLMOuus0XJrDTG/R5LORKtQiLfaPsSH2mD+TaekhToVbNw55nvZvjSjQYsaGXrTaJFIJOnpA6RSFPqK9KaaaqoYiiXFkp1DAwPn+7333ouBiZNMMkncaER7STQTgwU1MGZksX+LdqopMUoiCfjAANG0BuC8884bnVqWycmpy4m+IElPH+GGi/i4Eevq0kFw8803jx7Ql2gOnM+77747ipWnmWaamDlSu9p7IjFYMJ7BUEyFtBocrGdnxEMnFDh3Cti5kQHGYFDWLJFjWSAEM5HoC5L09AOiOvKqtm7FzZaDMMGZkWZhbf/A2UlnHXXUUXFejcsXWesOSyTaBQpoDeo05dw8HLUmJqBnyqV/4FsRG3OGDEoV8Cgep/AO9MDTxNBGkp4mQMR3zz33hOOzLpaWVgt8KnpU5JiSd8/gPCGL5u1wdpbfsICo82lOCok7z2Wi3UDZ0U1koWD1ZtKv1AjzvdL+ewfBDiJpBIXZaAIeQyEFP522DEiiPZGkpwlgiCI7Ts6oemvA/OAHPwgSlJFJz+Acqokye2Prrbeuvve970WHnMJli706v+nwEu0K1yY7t7yDVPc444xTbbTRRtVTTz2V7dQ9BBu3nI7FihUqjz/++LG2H5+Q40ESzUKSniaC0ZJkRSSXXXZZOL0RI0aEE3TzZrymCGfO/+9wvgxMsyaYEfKmqioKNQSS41Mc7nxm/U6iU4C4S8teeeWVEfSMHDkyOj11GlkvL+3/f4HEIIS6X2+88caY5M7+jaJQw2M8iPKBVMsSzUSSngEAA2WohpdZdFOLpY4DUi1jNlvG9w/Xmzmnb5FAI+QtI8HRqYlCDk27thBiOrpEp6LYv/qzc889N4rw1aQJgNi/tms38+Fa9yfY0aBgQWTBYUljKwjfZZddwi+YuJ7BTmIgkKRngMEBcn4mOMv1K8hDgLbddttYKI/hD5eOL1Gd5Ty09+60007VbLPNFsWfzosR/yK+jIITQwns33V94YUXBvmRspW6Yf9XX3112L/5M8OB4CN5gh2F32p0BDk6X62Ovtdee8Xz2f2aGGgk6WkBODSyN/KjwNlCnorzTBRdcsklY7FM8i5ZfKAX6Ww1RHXmaXBoVnA2zXqKKaaIFt/tt98+iJ82X8c9HBx/YvjBdY3MU37ZPzXDEipm/CyxxBLxf8+bRTXUZn05dilstU5S2BtssEHYPt8n2FED+eyzz0Yam69IJAYaSXpaDNEOafvhhx+OFmydSbPPPnsM3RIJ2jedH6+++mp0MVFHSOXt7hCKY0deRGscvDTeKaecUm255ZbVoosuGsfJ0Zlncv/990eBsmNLJIYL2D/fIwhg/9qxKT/UjmL/hvDpXjIAsVPtn7rlGNm/Wh3kjsKtxgnJu+qqq2LeVio7iVYjSc8ggROzEjlyIMePCCy77LJR28IJqv8RFR177LHVfffdF3Uu1vkqTlC+e7CUEd/r++2Hrgr5dwRNoSZnZmAjJyealav3r3SWZSMcL0eXUV1iOIMNSWuxBwEQ+5fuYf/IgfoftS7s/957743mCIoJn0ENQjDayf4FclZyZ/+Ua8XIxf75MoHP5ZdfHsGcYu7hWs+UGHwk6WkDIAAcGVJD6hUBWs1d67tlFyaccMJwhlSSE044ISYUmwuCaJgRxBGKsJpNhmqdm+0jXGRo36s2hzM+++yzw6Fx0hNPPHE8SNeKEqWvyPaiPp8dTKKWSLQj2EOt/QscrORe6v+K/SuE1gVmzS9KkHTRL3/5yyBCggjko5Ah22uGnXVn/6bRC8Y0amy++eZh/xNNNFHY/2STTRb2r25J2l7azhp5g0nUEomCJD1tBA6Bg+HEOBYrOCv6tZIwx6Kle+GFF44CYNHT4osvHu3digC1xCsGvuaaa2JQ4uOPPx4zgrTJK5bkpDifjz76KGZh1D7UEiEx3uf9PufznJqam7POOiu2b3Vp6hMVRzpOuspY+GWWWSak+d122y3eawFG2+SQOTuOM5FIdI9i/5QTBb9GORT732KLLYL0sD22X2xPcGRpFoMR1cxcfPHF1a233hrq0ZNPPhlB1Ouvvx5Bkknx6grr7Z/a5DXvKfavg6rYv8CG4lTsf7HFFvvGPqjTW3PNNUPh4YPYvzq9tP9EOyJJT4eAmiPFdccdd8TMj5133jnqgRRCi6pEgqJC3VA6RMjKZHKvIUvea4w7BykC22abbUY/Nt1003idA1VbYKqs7VGaRG2iN9vzGqfrvRZZRYQoOeoPDGZMyTqRGBiwf0TC7Bpt8Pvvv3/MAZMSFwhJJemEorIqkDYZ3lpVnpdqWnXVVau111476mtqbd+DUus1ozX4C0EVZbnYP7/CHxT7F+Cwf0SI/Zf6Q0pOItHuSNLTgRARkps5GuoNRYi6YyDaBRdcEOmxfffdt9phhx3CyW222WbVJptsEo4NYSGdc4jf+c53qn/+53+O4kLEh5pkGjJi5ByR2c8777zqiiuuiHocUSDH63t9f0rVicTggHoi1US5NcSTMouAWADVWoCUH8qrAIdde1BjdE7+n//zf6rvfve7Yf/+lkYz+dh7+Atp6Vr751fS/hNDBUl6hgg4II9SH6BIUo2ADhBrgJHLi5SNKJGvTYwde+yxo7MKafI+77fGlc/bTqnDSQeXSLQ3iv1TXKWV1PspGqbCSm8jQkW1MSeHYjz11FOHMnzYYYdFiqvW/hGbtP/EUEOSnmEKzlGun0xeFkk0LI3T81oikeh8KHCmzvB5Ul3LL798ddNNN4Wde1CHpL/NzlEkTTnKGpzEUEaSnmEM5MbgQMWKCpNFfYomOcN0fIlEZwPhMStH4bG0lhogqbDa2ht/q8lT7zfBBBOEGqQrjG9IdScxFJGkZ5iDYyvOUc2PwkX1Pbo+yNuJRKKzgLBIa1n6QpeVJgR1fmbpNApmPKery8R0xcs6xRAhfiGRGGpI0pMIqAMQBTo3ujfI4AaNye8nEonOgDo8k461l+veZMdm5Wgf7y5tjfio+zv44IND9VXnp4CZ6ptIDCUk6UmMBtWHc9QBpg1WgaO2dFFgtqMmEu0Nbe0GhurEKoqNmTu9SVNJd7N/resUIsXOZm6l/SeGCpL0JL4BDlK0aGkMzrOkuzjPrPNJJNoPbBbhMR2ZSmNGj4U8+1qUbFta4KW7zf4x7kK7Or+QSHQ6kvQkGoKD0+Yqz2+mjyGIxt9rg+1N5JhIJAYOFBhpadOQdWGajmyKM8WmP3Zqu+xfd6d09yKLLBLpbkpw2n+ik5GkJ9El1ACY8UHu5vQshFrk7py+nEgMHoq6c//994ciIxVtEKE1uczoaQaoRGZ3XXTRRTGNea655or5PhQky2UkEp2IJD2JHsEwwwUWWKAaf/zxQ+4WBWaeP5FoPQQj1ucyV8tyEZaeEIxQYQcC7NxCqFQki4oiWdSlDHwSnYgkPYkeQfu6Sc777bdfDDkz++O6666Lqc8pdycSrQH15bXXXotlZnRnWXsL+bEkRXfdWf0FglPSXdLd1uAy3yvtP9FpSNKT6DE4N/M/FEya/yHdZX2eDz74YNQ7EonEQIDtCTysnr7uuuuG4mKdLAXGrZqnZR+suyXdLd2FdFl01DDDVH0TnYIkPYleQy3BAw88EN1dOkW0xlr0NLs7EonmA9lQW4NsjBgxopp99tmrI488MtbSG0h1pysYWnjfffdV66yzTti/dPeTTz6Z6a5ERyBJT6JP4OCku3R3TTXVVKH8SHflFOdEorlgZ3vssUc1+eSTR1rZ2llqegYT7N+aXuz/Bz/4QQwzlO7KwCfR7kjSk+gzRJnOo3SX6FOhs2GGOcwskegfSrGydNb6668fdTRbbrllFBRTWtsBxf7PO++86O400FB3FzKUqk+iXZGkJ9EvkN6//vrrGF5YWmc333zz6uWXX861exKJPkI66+KLLx6dzjrssMMindVuA0LZvxb5ku62aLF0N3JG9fV6ItFOSNKTaAo4NwrPzjvvHKs1i/xuv/32iFbT8SUSPQOF1BpYBx54YNgR0iOd1azZOwMFqo/lanbdddcospbuuueee6o//vGPg1J3lEh0hSQ9iaZBFGolZ+muhRZaaLTc/eGHH7ZdhJpItBsQBMMGFQjrjCprZyE8nRA4sHGEjf1raS/DDN99991R70gkBh9JehJNByctyitr92yzzTbRWpvEJ5H4NhAak89NPrbQL8IjnUU57UT8+c9/Dvtfc801q0kmmaTabrvtqueffz6KnFP1TQw2kvQkBgQIzltvvVXts88+1YQTThjRq7b2dHqJxP+CnXz88cfV3nvvHQGCtJC0cKevcaWQ+Sc/+UnYvxXfdZ1ZE4yalUgMJpL0JAYMcvmGmV1xxRXVggsuGNNjH3rooWxrTyT+H9jBo48+Wq200krVFFNMUW200UahiFrXaigEB47BMFMK1pxzzhlNDpbL4Hsz+EkMFpL0JAYUnJvuLjN8rNSurf2MM86IOp8scEwMR1B3fv3rXwcZoIAgBKX2Zagt5Mn+rQmmVkl3l7XCtt9++1B9pcGS/CRajSQ9iZZAVHv33XdHV9c444xT7b777jG+Pud5JIYTdGfpcrKGlaGelnO4/vrr2747q78Q4BiyqL5HW/vIkSOru+66K9YMSyRaiSQ9iZaBw7dY4qabblrNMMMM1corrxzzPQZ7umwi0QogNo888ki1wQYbBOHZcMMNY/kGhGA4KB6OUa2S7i6dXXzAiSeeGL44Vd9Eq5CkJ9FScG4fffRRdcopp4Tj8zj99NOj1T2l7sRQhGueoiGdpbZt1llnjYU6KR/DTelk44Ica3fp7ppxxhmju1N3V9b6JVqBJD2JQcFXX31V3XLLLdVyyy0XI/Z1ebz99ts5xTUxpIDU6GI8+OCDY7Ly4osvXl122WVR5zKcr3NE8NVXX6323HPPaNFfYYUVorvrt7/9bdp/YkCRpCcxaJDuev311yPPT+430Ozee+/N5SsSQwZPPfVUtdpqq1Xjjjtutdlmm0V3Vl7ffwfio6AbCZx55pmjtV13V6cMY0x0JpL0JAYViI9018knnxwRn9XazzrrrIj4cphhohPhutWq7WZe0lmHH354dCxm4f43gdzo7jTMcJVVVgnyU8hhprsSA4EkPYlBB8cn3XXzzTdHuksL7x577BFFz+n4Ep0E6oXWc+ks1zH1EvlRwOu1RGOY1kz1NaRRgfPyyy9f3XDDDeEX8rwlmokkPYm2gjy/VdotWmho28MPP5zzPBIdAQoP1RJhH3/88WMK+SuvvDLkZu8MJJDDM888MxQf5MdMLyvOp+qbaBaS9CTaCtJdv/jFL6KVdY455qjmnXfe6txzz62++OKLjPgSbQt1Os8880wsEjr33HNXBx10UKydlTfr3kFw41zecccd1eqrrx7ER82fc5vkMdEMJOlJtCX+9Kc/xdC2pZZaKqK+ku5CihKJdoGbtBZsnUfLLLNMLCehHR1JT/QdCM6bb74Zdj/ZZJNFukv6O7s7E/1Fkp5E20LEp6DR2PpJJ520WmONNaLg0fPp+BKDDSqO6cpHHHFETFYeMWJEdf7551effvrpqHck+gM2bn6XFNf8888f5/j444+Pc54KWqKvSNKTaGtIaemEOe2002J8vZk+Z599dk5xTgwqXJc//vGPq/XWW6/63ve+F51HpeMoCXlz4ZxamJXa8/3vfz8WZjXTK5HoC5L0JNoebiKGuVmrZ5dddqkWXnjhasstt6xuuumm6le/+lXeZBItA5UR2ZHCMlAP2Tn11FNjAGHWnAwcnHfnmNJj+RoPdX9loGki0VMk6Ul0DNTzUH2uuOKKWJ16ttlmqw499NAoGM35J4mBhqUkLJprrII6M8Rbd5YbchbZDzycY4MLLVmx9dZbx0BTxc5WcM8Oz0RPkaQn0XFAcJ544olILUw44YQhd5t8a9ZHItFsuNlSFKVVLSXxwx/+sDrhhBPiucTg4OOPP64OO+ywWLtroYUWiqaHVHwSPUGSnkRHQiHjO++8Ux1yyCHh+HR5XXzxxTHJOZFoFhDsN954o9p1112r6aefPmZH3XnnncN+7azBBiLqN7B+36qrrhqq74UXXhhKcCLRHZL0JDoWHN/nn39eXX755dXSSy8dRc5I0M9+9rNMdyX6hVJHdtttt0XXoCVSdthhh5gXk51D7QN2/thjj1Xrr79+pBzZ/09+8pO0/0SXSNKT6HhIa0lvbbDBBtUkk0wSDtD/s7A00Rcg03/84x+r008/PQZkSmf5m89IwtN+QHAUNG+44YYxJ4kfeOmll7KTLtEQSXoSQwKKnM3vOPDAA6tpp522WmCBBWLtHq3t6fgSPYXrSNrUFOBpppmmWnzxxSOdlYWy7Q1E1ST3Aw44INLdaq+uvvrqWLsrkahFkp7EkIEoXLrr0ksvrZZddtlwfoodU+5OjAkIje6s22+/PdJZUqU77bRT9eyzz0Z3VqL9UezfAq+lu5P9v/fee2n/idFI0pMYkjDMzBwVcrf1kLS55s0r0QhulgpgFcK7UUpnHXPMMXEDTXWn84DgPP3001HgTK3T3fncc89Fu3sikaQnMSQhTfHBBx9EukuBo3TXVVddFXJ33sgSBQiPlf333HPParrppouCeOtoZftz50NDA/vXdbfgggtWV155ZazinvY/vJGkJzFkwblpYTfM0CwPzs8wQ2QokUCMDRvUhj7RRBNVO+644+hhg4nOhzofCt4111wTpMeK7bq7zFfKgvThiyQ9iSEPnTgPPPBADDNU4CjdpbvL8xn1DT8gO7/85S9j2OAiiyySC1kOcUhrsX9dXexfl9cjjzxS/elPfxr1jsRwQpKexLCAm5nVrw866KCo89HhZYqrtvYkPsMDfmcPha2KlCeYYIJQAHRnZTpraIP9W7H94IMPrsYee+xq7rnnDvtX/5P2P7yQpCcxbEDulu665JJLIuKba665qqOOOirW7hL9J4Yu3Ngoew8//HC12mqrRf2O9ZvU82SB6/AA+//iiy9Gp7v5gCOOOCLX7htmSNKTGFZw8zO7xxTXjTfeOFqTN9lkk1jLyyyWxNCEGS7nnntuNXLkyGr++eeP7qyPPvoo01nDDOxfzdaDDz4Y9m+sxaabbhrpLuQ3VZ+hjyQ9iWEJzu2nP/1pXAtTTz11teiii4bcbemBxNABUmNO01577VVNPvnk1RJLLBFDK7/++utR70gMR7gupDn33XffWK3dXJ9yXVCEEkMXSXoSwxrk7osuuqiad955Y8kBw8woAOn4Oh+Uu/vuu2/0vJZtttkmlifI1fgTBdLd7H/hhReuZp111tFr9yWGLpL0JIY91HoYZmiImVoP3R26u/Lm2Jmg4ila1Z0lneVmdtxxx1UffvjhqHckEv8LXVxqvazZN9lkk0W6q9h/pruGHpL0JBL/DwqZLVpo7R7pruWXXz7me4gEU/XpDLhBuVGJ1KWz1GtYjsRK6RS9vIEluoIuTmlQ9o8kL7PMMtW1116b9j8EkaQnkaiBqM9EXlOcDaw79thjY02mRPvDjctyA+qzxhlnnGqdddaJui1kJwlPYkxwjRhdYO0ugwzHG2+8KHg3zDAxdJCkJ5GogaiuDDM0zMw8H7M9ys0z0X7wm5nBdM4558RyI3POOWeks0zezlEEid6Ajevu1M0l3aUWbMsttxy9dlf6gM5Hkp5EogHcSMndu+++e6S7dtlll+qNN97Im2ibwXyVd955J7pw1GMtueSSodS5ceUNKtFXsH+Bzh577FHNMsss0d2lu1OaNNHZSNKTSHQBN01r98jzW3nbqu133HFH3FATgw/dWffee2+11lprRduxiNzq2olEs4DkXHjhhTHbydp9hhkqiE9C3blI0pNIdAPO7fPPP6/OOuusmOCq1ueEE06IdEpicOA3kWrQnSWVZcDkKaecEmtnpRKXaDbU+enmsnbflFNOGd1dRh/kFOfORJKeRKIH0MVB5VlllVWC+JR0l+muGfW1DrqzXnvttbBhy4jostFl9+WXX2aXTWLAgEyzd2lU152uwKuvvjoCorT/zkKSnkSihxDZvfnmm9W2224bUrcb7t13353dXS2AGwuCaZ7K6quvHvNUrJb/wgsv5GKhiZYAqZbu1t01zzzzRIeXtfukwFJh7Bwk6UkkegE3X47vtNNOizkwHJ/UVyoNAwfn1fm9/PLLY4aKc3744YdHK3GunZVoJdi/0QjW6lPjp5bMUFML1+Yw085Akp5EopdwE/7qq6+qW2+9tVp55ZXjRizd9fLLL6fq0GRQ11555ZVqv/32i5qqklZQTJ4kMzFYQHxef/31av/99490N9X3qquuijR4prvaG0l6Eol+4MUXX4x0l3k+q622WnXnnXdmuqsJqE1nrbvuutUUU0xRbbbZZtWzzz6bxDLRFnCNquk577zzorsL+TnxxBOrX/7yl1nk3MZI0pNI9APUho8//jhSXLPNNls8dBKlEtE/qJO44IIL4mZiTorJuBaCzXRWot1A9bn//vtjdILgR3eX0QlJfNoTSXoSiX5CxKetlcqz1FJLhePbeuuto+g5Cxx7B+fSROyTTz45isUXWWSRGDb4u9/9btQ7Eon2A+JjmKGZXorsXbeGGSI+me5qLyTpSSSaBLNjnn/++ajvUWyry8hil6n69AxuEO+++2512GGHVQsvvPDoYYNIUCLR7mDjVveX7kJ6rPBv7T4L4CJFifZAkp5EookQ1SlmpFRYt0eH17nnnhuFz0l8uoabglXurXc27rjjVrvuumv161//OqPkRMdBCvaxxx6L7i6LlqpFU/Scqk97IElPItFkcGzaV2+88cboNqL6WMNHW2tGfN+EcyV1JRWwxBJLRGqQfYqO8waR6FSwc2v37bnnnmH/1oTT7Zlrwg0+kvQkEgME3UfG1e+8886xGKZpzqY66z5Kx/f3dMB7770X6SzD3qS0FC+bv5OqWKLT4Ro208tyKQsttFBMcrb6fxL6wUWSnkRiAMHx6e7i7Dg9eX7pLm2tw/XGzuEjfs8880wUfI8//vjV+uuvXz344IPZjp4YclCTds8991RrrrlmFDkbcaH2L9Ndg4MkPYlEC0DWvv3226vllluumnTSSasddtih+vGPfzzq1eEFNwEDBhdbbLFYwPGggw6q3nnnnVR3EkMWpbvL2l1q/RZddNFIf+v6TLQWSXoSiRZBd5epzdtvv30UOEt3iQC//vrrYRHxad//8MMPY70i05U5/osvvjgGvOX8ncRQBxuXupXuGjFiRCi/J510UtyLUvFpHZL0JBIthJt7SXfNOeec1QILLBDpLoP3hqrSwaGrbyrpLMXKa6+9dvXAAw+E6pMOPzGcoHD/oYceinQX8q+tXat7Ev/WIElPIjEIQAKs0K54d5xxxonurp///OdDcpih1N5dd90Vyo7lJChdFJ9EYjjjF7/4RQQBFi3V5fX+++/nFOcWIElPIjEIoG4o2n3hhRfC8Vm3xzBD6a6hsnaXyPWDDz6IJSTUMajhufDCC6OjJaPaxHAHZZd97L333hEMrLHGGjHVPYdxDiyS9CQSgwydXCRuq7XPO++8kfP/7LPPOjrtY07Rc889V22zzTaRzlp11VWre++9NxSuRCLxv6DwCgzmmGOOSHdbx6/T7b+dkaQnkWgDmNhcurusObXbbrtFR1Onpbs4ajUL1ssybPCHP/xhtd9++8WgthzMmEh8G2yGumPJGlOcJ5988phIbkJ5trU3H0l6Eok2AYJjkdKtttqqmmiiiaqll146Ch47SR2xOvoRRxwRjptydcUVV1RffvlltqMnEt0AsREUvPbaazHHZ4IJJgj7t3p72k5zkaQnkWgjID4mtp566qmhlHj4W9TXrrl+0Sg5XjeW+iS1O9bQUp+UY/cTiZ6DLanzOeWUU6qllloqiM+ZZ55ZvfHGG1nr0yQk6Ukk2gxIgpk+hhdKDc0333wxxv6qq65qO9WEkxadKsacZZZZwklbR4vik50oiUTvwf41OQh0DjjggGhyYFdXXnll2H8GEf1Dkp5Eoo3x5z//ubr00ksjVaQg+Mgjj4x278Gu9eF47dsjjzxSrbjiijFlmsqDqA3FtvtEYjBgcCmyI/DRAXn44YdH4XMGFH1Hkp5Eoo2BXJC1n3jiiWqzzTaLwmCpI2SDGjRYMGPk9NNPj26z+eefvzr55JPDprIVPZFoHti/Wh/2vvnmm8ckd/av1ic7IfuGJD2JRAcAmXj33XerQw45JNJI6mYuv/zymHnTqnQXByzCfP3116vdd989HDCV56abboqOrUQiMTCgnrL/Qw89NAIftX7sn91loNE7JOlJJDoESIfW9muuuSbG1yMdan6MsG8F8TF7R3Gy+gLD1HbaaadsRU8kWgT2j+Rce+211ciRI2O0hVo6hc9eS/QMSXoSiQ6DWpoXX3yx2njjjaupp546Bv89/fTTA0Y+OFTdWYamWS+Ms5XOygFqiUTrIa3F3jfccMNq4oknrtZZZ53qqaeeyuCjh0jSk0h0IKSZFA0ffPDBo7s7yN1WLG+W6oPQ6CJ56623Ip3le1ZbbbUYoiitloQnkRgcUF2prNLdVmtffPHFYyYW+890V/dI0pNIdDB0d3B288wzTygwRx99dCxr0YwOKgXUjz76aLXssstGd9Ymm2wSRCvJTiLRHkB+Lr744lBgLVzK/i1cmgMNu0aSnkSiw8HxISe6OpATaS/dXv1pa/3Vr34V6SzdWTPNNFN13HHHRe0QwpOkJ5FoH0h3Pfnkk9X6668fk5wFJ88880ymu7pAkp5EYgigdHcdeOCBsQTEkksuGQXP0lO9AYVIOsvaP9NNN110Z911111RQJ1kJ5FoT7Bbk9zZv+7ORRZZJNLdhoQmvokkPYnEEAFSQqG55JJLYoT9iBEjqquvvrrHU5x1htx5553V2muvHakyawA9++yzKZUnEh0CNT3SXYsuumg122yzRYu72p8cGPq/SNKTSAwhID5kbWRFV8eUU04ZqSnOsDv4nDV+qDse55xzTnRnJeFJJDoL0l2WhmH/448/frX66qvHbK0scP47kvQkEkMQ6nxeffXVyPNTbbbbbrtYtFC6qzZN5X2el87SnaVo+ZZbbql+//vfJ+FJJDoUZZihOV4UH91dVF9K8HBHkp5EYoiC47No4S677BKOb4UVVqhuvfXW0Xl+K6Cr11lrrbVC3ZHOeu6554IIJRKJzoagBcm57LLLYoK7oOawww5ri7X7BhNJehKJIQ4zdaSuFDia4nzqqadG67ncv8nOnj/22GPDQWaxciIxtCDd/fjjj8eMLenujTbaKIKbP/3pT0F+PIaTqpukJ5HoYCApnJZ0lJZyHRzSWpycIYJWaFbYbHHQlVdeufrud78bbe0KnTnAf/qnf6qWX3756vzzzw8SZObP9ddfHwsaPv/886EUWdX517/+ddQKZMorkWgvFPt3T6u1/zvuuCNSWpSeiy66qNprr71C0f3Od75TLbjggtHpJQA65ZRTqvPOOy/8hPdeddVV1W233RZjL9QG2SbfQhkeCgpRkp5Eoo2B1CAanI20kw4rTkih8o033liddtpp0aGx/fbbV+utt15Ec8stt1y0rJrUWgqTKTzkbX9PO+20ox/+bw6Puh+P8n8rp2t7X2mllao111yz2nTTTat99tmnOuaYY4IcIUUcImdoWQzRpH1MpSiRaB6K/Zu5VWv/5vCwf6Sl3v4FMcX+i03710Kl/AC7n2aaaaoZZpihmnXWWUPp9XfxDf427FAHmG0phFYbuMMOO0R6jGp88803Vy+88ELY/1/+8pfR9t8JQVGSnkSizcBxcCLkZx1U1tn60Y9+FCPnN9tss2qZZZapFlpoodHrYCEphghaeZlzsmTE4YcfXp1wwgnV2WefHWrPddddF+3oDz30UPXwww9/4+F5M31EeOeee244Uh1f+++/f7XNNtvErB6Roe/jEJEnpIhTtO7XbrvtVp1xxhnVfffdV/30pz+NmT5UoSRBiUTvUWv/n376afXSSy+F+orcbL755mH/7LEENexxvvnmi2Jl9s8ei/2zSwqORUqRJMFKsfsHH3yweuCBB+K5G264IXxAUYVPPPHE2IZtIVNsnY9BnPgA373wwgsHyaq1f8XTFKF2tv8kPYlEm6A4u48//jikac7ErB2LCo4zzjjVWGONVU022WRBeHbccceQpO+9997qnXfeifSTJSk4SpGXqNC2RIhaVT1s34Mjqn14rrzH+33O53V62ZbtijAtb1EUpiOPPDIcngLpcccdt/r+978f/4oUESFO8OWXX47P2m47Or9Eop1Q7B/RYf+ClwUWWCDaztn/9773vUhNIzyUnWL/6vPYP7LB/hGOWvtHPop919u+R639e6/PFR/A/m3TttUGSnffc889kQ4XgKkJ/MEPflCNPfbYYf9IGHUYcULW2tH+k/QkEoMEzoZDUTPz2GOPxbIPIjmkZu655w7nRmXh4KSxOEL5euSDA+JQWhVRFefIEUpnUXM4Z+v8qB+gJqkRsPIzxQlZExna/wMOOCAiSbNC7Hd/lsdIJIYS2BN7Vj8jbbTFFluE3dfaP7V1sO0ffAfb9Z2+2+yv9957L+yfSnzQQQeF/VOFau2fYkypLvaPUA0mkvQkEi0G8sD4RULqY6yVQzGZeuqpw1mQk48//viQnj/66KPRjs3n2iliKrBPojkOUUGluT8KKClV5v6oGaBQIUNSdHfffXeQJeSpHY8nkRhIuOZd+wiDERJGRUhRq7Nh/4YKSi8X+0eMOsX+KcJvvvlmkKBa+7cYarF/YzLYP782GMeTpCeRaBFEOGZkcHSka5EQMkDCFs1deOGF1SuvvBLEYSjA8XLanJwCSOkwhZQc4BprrBHRq3SZqJFDTySGMtzgkYKnnnqqOvnkkyMNzBb4ga222qq64IILIhCSShoKqLV/9UHsXw2iFLji6GL/rV7XL0lPIjHAEAHJu8tzM3wRHWWHlK2VlKOj/LRKpm4lShQoqvvggw9GO8Cll146WuYVRO+8886h/gwVspdI1OO3v/1tpKeoOoqOBTs6oyg6SJCBofzEULR/AQ1li/2zc/avGHuKKaaIc2EaPL+A7LXi+JP0JBIDAMZLwSD1imgoG4r+5LvVuDByqk9vV0HvdCBAFkBV5CyyVQMg+tNii/w4LzrW3AASiU4F+6d0uJYpuxoPKLq6n4x/oOqqz6H8DCeV07EigOzfOWD//KI6xp122insX63gQBLAJD2JRJPBYBm2dnEkp3RclUnIIho3/+EOtQocnJZZ6T01Tdph/a1N302jFZFfItFMlIBHc4IOJ6TedW3OjVZx17xre7iD/SuGpv6wecqv9LdUX5kYPRCEMElPItEkMFCRm0nI1rlyE5e+Oemkk6JocbAK99od0npIohlCG2+8caT/DFg0AI3snwQx0Slg4z/5yU+qgw8+OG7gWrilsV3baleGYgq7vxAkUn8feeSR0fbv3KkDNI4DOWomkvQkEk0AZ2fZBteWdlNStty15/74xz/mjXsMcCPg3MwoMkjRFGhD1+T7n3zyyYj6Eol2Bft2T1GjZ3FPPkBX5k033RTXtGs7yU7XcG6oX9rxDWJcd911o+5xlVVWqS6//PI4t83yoUl6Eol+gLFSKTg3xbnUHdEKGdtgr0TfgCyaWaTTwzphHJ8BbMOp/iHRGaBUaEYoa1tRdzUt5D2mb2DjyA+FfOTIkdUkk0xS7bvvvjEKoxk1kEl6Eol+QEcCGZYcq/XUgEEGm1Fd/8DxWfXdHCN1UfL9HJ91h1I1S7QL1O4oVEbMpWXU7WjDpvwm+gfqmJTXlltuGcGPkoFbbrml38QnSU8i0QeI7szU2WCDDaJQ0Zo3ChczDdM8II5uHtJbpdCZ7G16bSo+icEGhVdzgsGC1qKyLIQi5STlzYMaKIuannPOOdHl5eFvNUB9DSyT9CQSvYQbscX1FNtqQdWCbqFNRGgogVNxTI6X8xksyPUrBLfe1xxzzBHzTaz/06q5HolELdiCpWMsuzDPPPOEH7jtttuiiSHRfLBx51ZjA9vnc4844ojqF7/4RZ+CnyQ9iUQPwfhEcVos5e0tAmi9nIFwdoVw9Kdt2+fKoy8gL5szZBV2k1UHE47B/igUlUqcaKKJoo5quM05SgwuXIfS11IuFgKl8FJ3BiMocMN3/Q9mQNJKOF7quuUs1PmYak/x6S3xSdKTSPQQbrpWNTZID+m54oor+iWzdgeEx/AuEQ2n2lvYJ0oIstLXVJBjXXLJJWPWiJTSYMMxSR9ec801IXOLsnV6ZcF4ohVgRxTdXXbZJWpMDNPUUt1X++oP2ALb1uVoRMZwAR9M9d1uu+1iTS/rezkPvfHBSXoSiR5ARGU1YSQA4bGgphvwQBAeoPDst99+sfigYumuQHlSTGmeTe0CnlJSzzzzTHX++efH8g6lzoCD9n4zQ7pKx9mGzx911FEhJ7/77ruja5V8Xgu+z3NA5fv8i3x4zr4PZJu+bUtvGQtg6CMlKhWfxEDC9a22xL3DoEGdWlJcg0F4wPeaBzThhBNW55577qhnG4OdC874gVpVyN9slp16UKzZVv0x+bzn2bXXirpUbL/VsA8aGpBO5PPQQw+Nydc9RZKeRGIMYNwvvPBC5O51aFxyySXhBAYSHIxaIfJ5V6SHE3PzNw9on332qU488cTYT5+Vltp+++2DtFBGdEIhKrofkBn1CNrA5cXryQmHZkryiiuuGKs+K9Z8/fXXR3/fMcccE6slS+0Zpe/7kCIrK+tkQQi1m1pPbKBgH6+99tqo8TEqwATnWoeeSDQL7F9A4ZpWTyK1hfAMJuwT0iPFpoC6EZADvuPKK68Me1UTRxnlC7zmGPgAtvOjH/0oBiryDa+99lrYkve4T/r8CSecEO+h+LLvwSR84LtNt99oo41iTMAZZ5zR47X7kvQkEt2AcxElaUVVR2KBQP8faPSE9HBCWmWtWXPssceG1L3yyivHml5Ij44nC5wiIp7j0Kgjrv+jjz463kseRnxqgQRxbra38MILxxpZcunIk3z6/vvvX51yyimxhpDVkjlNBMcgMSTJBFrnyVydgQTFSpQr8jbTxzEmEs0GNUSwgPCsvfbaYVuDecOHnpAe5IZ9s3P2evzxx4eNGviJIFCuF1988WqttdaKwEkg5P/WCeMTKD98SPm8NQTXW2+9GLz49NNPD5iS21MgZoIuwahBhorJexL4JOlJJLoB53bZZZfFasCUE46Ewxlo9IT0aJFX2EvqJb1TPtS5mG1hTRvKC6KDHFjLRlstKZiz9H6K1YILLhgOvfaY/E3C9tmtt946aoPefvvtWByQEzVh1nMGCCJBImDfRxniEB944IFo522F8kLWRsK0s4tGqVmJRDPhOkf+zeFS59YOiuKYSA9Cwg9Ix6sNZK+CNUECtZrv8JAeRmzYNxu2LcTHcFWBj/lYPoMAeV1aD/lzTgab9IB0uqBOsLXSSisFWRvT75OkJ5HoAhyLiIha4qFosRWEB3pCehAwjgu5MRRRBEf1UONCZaEEIQK25W8Ln+65554x50KtDwKkIJg03Chy9VkKF+f21FNPhQP1XeW9iA1VZ4899gh74nTIzUhRq2Bf3nrrrRhchphy1olEsyCNLXU8+eSTxwLCyEM7YEykR9AiWFtjjTUiXQVsxcwrn5HWevTRR2PJDOmqUg+IKFGPFUf7vJohqk7xe9ReRIk/aAfSA/adEmVekgBoTGn1JD2JRBdQwCeK0CJde7NvBcZEeuyLCM76VMiIoj6rE4vikB5RmTVsSNq2Zf8nnnjiKMLm1DyWXXbZatVVV433NTq2WtLz4IMPxmTk2k4RkaMokRwutYT0SLX1pqiwGbDvN954YzXnnHNGp5nfrVXkNDF04bpyvVNPkYee1oy0AmMiPVJyavE0Qqh9AZ8xLXq88caLoAfBoepQZvkIryM4AgipIttFeqjExZ6owoiS1Fi7kB7Q4Sod//3vfz+Opzv7T9KTSHQBKSATl6kXXaktA4VCenx/fa0Kg+aA5eIRDqqOCJSDduO/66674jnpLrU1tuW1qaaaKmbbIETSQJSi999/v0tnXkt6OL5lllkmloUo8rGICinbe++9Y1ty/0iPv1uJcj6k3hQ2K7YmeycS/QE7YftSJ27y7ZDWKnDNF9KDwNSDzStaVsPDdgGJQ3QQGa8V0qNpoZ708BcCJXWMFCGv8QO+S5qv3UhP8XECOz6ou9lpSXoSiQYoUZ4lJi699NIB79aqRyE9nBang3SVh6gGIVPAJ6Xlbzl53RdkeAWHyAzHpg5Jp4XuK0oNh2DhPmqMIYuiQe9tBMXR2267bTg3szDMxtC5InJkPz6vMFqhMxJlX9UA9WWuUDPAiUtxicrdsBKJvqLW/qVv2215mUJ6xh133OjKEhgV/8DepZ51cure1G1poKLnNTAIDDQmsBeqjenyhfRIf1GAqcUWUdUZZVaY2TjSZBoGPKfep51Ij313zIIwPqm7NHeSnkSiARiQ60SBLONvdZTHCUlNSUeRba3c7iHypMAgFpwZIsMRIST+v8kmm0RxMUWHA1OojAypR5Kqk86yDWRG4TGHiTQ1glofhYucm5SR6E4xs64tqTR1Ts4RQkRpsX+mpLY6vVVAeZJum3TSSauHHnpo1LOJRO+BxCM71FEEAAlqJ7jJIyKKihEXdl98BF9wxx13xDGoQxKMCFbYLFKgnsccLqqO7kvkp5AeqpD17aSzEb2TTz45Ps/HqJdh30iFGWDtRHrAMahxROrULnY1uytJTyLRAKIk6RxOolUdW7XgZEVtjNgNvDw4o5dffjly9lJYiM0NN9wQDsxNHwGhDIn8dG1xaF5DSjgF5EdkV0gRcteVQ9cJIZosr0sZUYV8Xs6f46OoFFJETbL9wRoUaP8UbI811lhBANvNKSc6B9RQZIL9IxftBv5IAS/FpdY/eLB/qo7rX5qHqkO1osxqt2efPo8U8SXFB5TntIEbduo5n2fXfAiFV7eo2j1/d+U3Bgv2nyIvGJO2M1S1kd9O0pNI1IGqYyAXGdcAPlHRYIBTsS/1D86sGLO/6xcE9XdxYv6uLez1r//7zJhIgW2U7dTC5xGMWqfnPbbX6P2tgu/mjGedddZQs1pdW5QYGmAzVNEpppgi7F/w0I5gZ/a10aPWNv3NXouaU1BrswW1zzluA0+NpBD8SKFTkTRNDPQMrr7CvlOvNZ9YoLSRj0vSk0jUQbRAyrW2i0iq1ikk2hvULhK8SI+SlUj0FtQOM6rcOKV0h6v9I0lUXcvhSJHziR7tMqOnEZA26UjzhYzkaBSwJulJJOpAITB5VKFwVxJpoj0h7SfFpYvN/JFEoreQzlK7Jr1N4RjOQPiQH4GgFDmVt91JoNSkRaGNr2ikSCXpSSTqYLievLV8fl4nnQUOmsKjwPP0009PlS7Ra0jjGL+A+LRy0GY7Q+DXKcGfCfU6ONX2qIusR5KeRKIOCngN79Ph1Ip1tvoCN3MS80A5Itsek4Ttu+vrBxrB697XCqfpexRi6rojyYtME4neQGu2DkjjHhT0DgQKiWiFTbQCXdl47XE2em0g/IImDl1sfkOF2/VI0pNI1EHng5oQM226Gtw3mOBgyO6Gig3E/lFL1DLpzpIu6goKHbXG6ujivHSFNCJAZoSYmKyVvdkOrh6ImmUpFKEamphDChO9hW4n6REzsLobctdXsBNpF4/u7KtTwKYRDbU09eMvHJ86O4/6+hrvVWxMTWumX+C/pbaslyYAqkeSnkSiDtq+5fPNtWCs7QbqhYGAVnxuJN/2F+Zz6NAwp6SrIX8UMF0duqTUQCBIlJX6FduBrYm8rOSsPXYggXxpw5122mmji8P/E4neQIv20ksvHTOfmtWlJBhQIH3FFVfEzBwDANUMujmboI4cDHRAMFBQA2me1yGHHBJExnEIcCyTU2ojPcwSMtHd+50PvsDEd6u78yfNOn4+0SR7PrwswVGLJD2JRB1cG4b4WeYBARpIMHQkQ0RJOalPx3AO5nF4rcy/8R6TlO0fkqHI0OdFUrWOg+pRVlf2HfUqjO2U122/pLNsD5lB+roaNKirg3wsUuOwKTkGJSoirIf9Nl9Int37BtK5U3ZMY7UmmdWhB/K7EkMTbpTqQdgX1aAZMExUUGCdPPcfU94NCdx3331j+CgyxEbZIHuqt2XP1aqWyDybRRzK5wrYW1lAFIoPsc3iA7zf54rt1wcH1F6+gV/pjpDZpsnv/KWZYvbRNqmslrPQ7eU4L7nkkjhWs488R93xnYIltZPNXNtQ84mBioLCRv47SU8iUQfRXZlsrKhxoMDokQozQSzuxzmoJ+BkACnhdA0WMzfI0DGOiGNBehRavvjii9GtZHqywWQICwdl2z5rpWQrEHsPR1Oco234LsPGvO59JGqfK6THkhKNZt14D+mfsypEzPbJyY1IT4FWchFY2ceBAEfOwVok0tDGRKK3YDfUGDdoqdL+ws3c6uRGYLBxJKOALVBJzJbyXdQgC2YaBsj+2YmHIIMCBZ73XtsytZ3tUTc8Dwar3nvvvaP/z59Yj06BP/LDB3i/hYb5EeqLdHkhVd5PLbV9fslQw6LO1OOnP/1p+EqEzrbZn67JueeeO4hMLRmzXUGStbtst7xmuR3LZfBtzfAL9p3981+NlOUkPYlEHRguI55pppkiehmoGzTHo1ja2HdREKm3diw8x+U17+EYScTWznHtIjnqjpCPAw88MEiKOgRKCufFKXLcHBKnQmVBOERBnJN6II6GvG4Oh8gWibLkxphIj214P6JUHFdPSA+HJ9LlfGudYTMhHWkRVoTVjSOR6C3UyVmo13BSgUZ/FQjF0NLFbIbiU+tP/E2ZLINQ1aCwQ0pJUWt8P9XJkhD+FtxQVqygXmybn1CL5HW+ix8pNTS+3//5Cr5Dd5OAxTI0vsdnqU3IFrtkp7rXFHJLWfEbPsu2avfdd0nNLbTQQlHb5zXb5wcsVVNfGuB1+8K32GZRkdUCIUnU4ELU+grfYVr8JJNMEun0cg5qkaQnkagDwyc/W3dH7UxRM5oNg8/mmmuuiLQ4WlEJ0iJSU/zLqXGWCoU5QJGZgVvUJ2vqWFxTNMWwOTJ1M2745GWvW7fLshClMFmkybEiRIgUx0T+dXwImDZ9Tk7E1R3pQXAQMJFncYI9IT3erytO2qm/zq0R7Ivz4JyqJehqTbFEoju4NtmhG6dVxQVB/QE1xPWIoNSqPAVsb7bZZovAhu0jJOrp6kkPRVa6yVRkts7WBDhSRIiPBYJ9phHpYdu77LJL+AMLErPDZ599NtQXvmaLLbaI7do/+yloQMD4Dv9Sb+obEfiNs846K9LafIrXpAZ/8IMfRD1dI79pn5ARKlrxFfwZ4mRNwf76Wr7bdpBI/rJRcJWkJ5GoA+OlElBSOINmFTPWgwMSYYmqODSqksJhjoYjE/1wNsV5cWgiRaTEDBo5czd58J599tknojZEhdPk2EqqjOPzfiRKRKdQk1rEoYJ/ESbKkAjNv12RnvLdnGVxgj0hPdJnnPdhhx0Wx9hs2KYob+yxxw5yOBDEKjE8QDWxsCb7d932B4iA697NvhGBYkezzz57LJJpwU/v7Yr02BZComaFGiU9hWAojC41eNSbrkiPdDglacSIEUEOfN6DD+IT2LsgzELFulf5HzZtX+oJBEWYLVOMSgGz97I/abdGBMZzyFkt6RF48YPS38Vf9QW+334KFvmiQsTqkaQnkWgAN36Srnkval8aRQz9hSiN+sH5kKspFBwSwoMAif5uueWWbxEEN/NS01PUDNuSIiukB4Hh+MpnRYgiSESGFC06k7Mv4Fg52iI7d0d6LObpe2rl7p6QHjZHXdptt91G1w80E9Qyv9lEE00UdQiJRF9BLZVupvZKuzS6efYUSI1VyqmranbqQelQeH/EEUfEEg/SYPWkBylAeihBFFwPaix78mCvuikFaMX2a0kPUoP02D5fM8MMM4RaVD7vb11Ugi7HrgZIgMSmqTD2rT69xd4KwSq1Mzo5jYugWpXvr4Vjcv91PM4L8AvF33i9r+AXpedNY/fbNfp+SNKTSDQAkkMe1fos2umvxF0PzkNUw5F4KCRUeKvIz/VJUhYNafss382xGLbFMZGoEZRyHdeTHqqP+plSNOw5LZyiSTUElBpOVFEyOF7yNufse7ojPVJkorveKj0KRHVUSKENhNKDLI4cOTJqlXKSbqI/YBfF/pGB/ti/GzlVhnKkyLaW8LtRU1amn376IBrsm40gKFJN7JINsi32yk9QcNXhIUu6N6W/qRoUE3aFMLGBQiB8xudtEylg29JhVCOf9/C3NBslRoDEB/At7Nl3IRIaLooyDHwL9YqKVIIvn/P90t9UpeJfwN/qAfkevqqc06L0+Fx/lB6EEuHjAzR/1BK0WiTpSSS6gJu0qMu8jkbzZ/oDzu6pp54KaVr0xrFxeKImhuv6FK0oNPa6m7j8uehOtCbFRNIWWUEhPYiQaE9NksLmsm1pnznmmCOeV2MgEhPhcWqUHYoTZ8Q5c7Yiv65a1rWocmo+W0t6RJ+Kr4sjdf44wxJxeT/ipd6o2aknDl4tgmO0L11FeYlET8EG2SOlQ7qrr2ovG0EAKCzsE7lBVNiIomS2RlURzLAXN39+h+2yb4GP9BfSQ11BXtQIqckRMCFS6uSkxpAS6SPdYPwEQqEdHnnzOaTD9vgO+8E32A/ES4cY4mBbujql9Wz/2muvDdW5vhsLQWLLpaYH2DUyJlWmkUIhuO0gVOoKBVZSdf4uvkOa3zb6U9ODUAnmJp100vjeojw1QpKeRKILMCQdSqRgHQ21UU5/YVuUCc6Hg9OBpVtCNCjtxHlwDHL30ljSNkgFlQQROeecc0JtKTU9SI86FkSFPI1wcHJIkm17L2egJsi2fbfnEB9kAYnxOkIkgkP05PQbKT2clJuBNtziBKXhOFr7K5L04MxFid4PiJc6Kam7vt5AGsG2pCCoZKJkhKerKC+R6A2MilBb52btRtrX66rclNk7G0eAXKsIlXQv1ZRPYMdUCrbExhAgdky1VYMHyA3SI10taLIddocE2QZb0OTgM/yGIIpSI9Bhz/yHYEqQwz6pu9QaKWEBj3ocNT3ScdJaVCHfgczUHr/vsq/qg3y2vOZ5HVm2zyapOPaP2kSl0jnqPQXIl2AF6eprMIQw8n0TTDBB+KLa7dcjSU8i0QUYMdWEOsHJ9LegsR4cHEdirowaHUqOyKh0eHCUIkzqjJQSeZnTcpOnzDDuUiPgOUSGQ3HT93+OFGmzXd0oCE8hG77bNny3aE006Ph8J4lcsbPW+UY5dtEYR43Y2FfnSeSKrPmu2gdViK1xZkVdIp/39ebRCKJIaT01UaV1NpFoBtTDUFynnHLKsJH+pF/YAFUFQZB+nnjiiWNQH/uovUmzD9cxm7/pppuCpCAyZUkFNiwdZX8QITZORS2EgU1SkLxGnWHnyIluUSkln7cfbNN7BFBUoRIs8Cm+j1/glxA/KbLiO2pBOWLTAq7it4CPYJd8lsBrmmmmqY466qgIxmpT27YpkEO6+koq7bcuO4sMC9T4ue6QpCeR6AacEecjUnLdNPuGXdBdZNKOMJ+j5M4RqO7AyUnlKabkaJsJjpKcr3iSotWdrJ1I9AWUScPuqJSu4/7aKv+BEBQVly1JIzUiFYMJ+zmmY0UCEStqNQWq/hhsgwJF4aL8CsoQKATNtqXmqEgCu774Vd8nUPTbeFCVx6QWJelJJMYAkRYJWCeHSaLNLmruRIiAyeCcnUiyO6hLIJGbH0KGbgY4SL+DKFSEp05AXUGnkcdE+4OCQVXRySktJAXclxt0LQQKlBdpZEoJwjAQxf2tAGVFGo3620gNp8RQfJw7foACzHbdg6lA1K6+jAXxG/gtqLzSgRpOKNVjQpKeRGIMYFxSR6I9raXUjXaLyloN5ELtkMhN1NodFFM6Z8hjs0iJ7UjBqbdQ6yQC74nDSyR6C/avgFgXl5RUKTruL1yvbIhdUEw6lbDbbzbOFziWRkDoqLDuu47ZZ/wtjdfXVdZ9TjpLHY/aI2m5nmwnSU8i0QMo7lWcp8BPjY+/+9ppMFTAcYnixhShel1tULOIom2RzBVi+z0UVPen1iKRGBNc6xRLBc2URQXEauaGe/BT4Dywwd4EHtJQffULFCUNGNQ3KpOGjp6SxiQ9iUQP4QZvdoflHOSPFQsy2r5EKYm+AdF03nWCaKNVwDjcyWeiNWDnxkqoTZlsssliGrHC3ETrgNhQkxAedXw62BRT98YHJ+lJJHoBJMcMC2kV3UIKc0sHVWJgobbC6AAzPayto+uktmMkkRhouLnqlHKztTaXOhbEp6cqQ6LvoAjpWjPaY/LJJ4/uUYXLvQ06k/QkEr2Eta+0kpqxoavLQD/XUyo+AweFjqZQK1g0dJHips4iz3mi1Sg3X/UkyLdC2ieffLJjC5E7AdRcXXTIproq63QZ99EXspmkJ5HoA3QfmGVh8JYbsVkepq6WWReJ5sD5tPaZDg+1FAaeGXLoBpPnOTGYUEdiTIKuTvVlassUOKfq0zwgmNr5zSIy5dmwQ/N+zAXrSy0QJOlJJPoIzk3LpImp44wzTqyVZQkESlDekPsH569Mp1U4LpWg5VV7fEbUiXaAa9QN2Zp5JiAjPxbg1FXU1xty4n/hHJrpI4VoeQmEx5IYUtr98a9JehKJfgDx4eTUl3B8Fg40eZixZpFz36ADRHGiFuEZZ5wxRgVYQVq3TLalJ9oJ7JsaKfUizYX4UCNNQDfLKlWf3oONGwIrhW2ooXMqrWUshQ6x/vrUJD2JRD/BsVF3rK1jiKECZ6qPSc4K7bKdumcoUrZFSxUpqpcqE2ud37yBJNoVVEmqr0Uz1ZzxAdbNMi24HacttyPYt9o99m+9MIusWj9MLZ9ZYM1SeJP0JBJNhLWxqD4WFdRhYNFAEYvhXZmW6RqKkq0qffjhh4e6g/BQd5zPJDuJToGCW0RHKlaRs2vZTJ+XXnqp32mZoQr27dyoibSGlxpJa3UJIClozUaSnkSiyUButLUyYNOCzZMgfVtfRtomo76/ww3AdFYLm0plWa25SNkWZRzTml6JRLtCQbM1qSy74Abu2kbon3jiiVwfbhTYv3EfFHKLjjpHiCL7Fyg6TwMR8CTpSSQGCFIy8tCcnXqfaaedNro8tLhb1diU5+EW+Tlek1jVQSkAtfYQVUctlKFvOmCsAD2mRQMTiXaHa9gMH+t2rbfeerFSu2Jcre633HLLsFQx2b+aHfdfdU/sX82eYMc6XNbPcs4GsnYvSU8iMYDg1KgZ5ngcffTR1RJLLFHNMMMM1VJLLRVr+Oj20n6JIHGSQ5EEUbYUe6ptePrpp6uTTz45lC83AHn7LbfcMsiO85DqTmKoQcpLe7vFcdWqzTHHHHHts4EzzjgjpjyzfwrxUCRBtfZv+ZhTTjkljt2A15lmmukb9t+K6epJehKJFgCZcUNXqGeKsw6P733ve9X3v//9WE7BHBrqTzO6E9oNVB1OzYrsE044YfXP//zPIfmzQ7UOZh5lV1ZiqMM17lq3eLEiZ8rPd7/73SD+++67bxACrw8l8GXutVJ97H/ccccN+3fs7P/VV18NwocYtcrvJelJJFoIhq2VXQrHqsRqWag+JF7kZ7nllot1ZeS0EQJt2to3RYHtTIY4LcclmtOuL0+ve01Bp9SeFJYJ1ooTLeOh5kk+f6iqW4lEV2DL6lUM3Tz77LOj7qeonoIh9i8wUtirAUKRf7s3QRT7F9TpYrM+Hvtn746N/VscmNJ14YUXxrytwbL/JD2JxCCAoYv8OArtmHL8++yzT7X88ssHSdD1Qf7lJI455phwgiJEDkWRpIiQoxkskKE5LaRMtKbN1OKf5RjI1jPPPHOsk4X4cIDPPfdczC6heA23WoZEoh5sgB1ZMdyUcfellVZaabT9C4TUubF/QVCt/asHbKU6Uoviuyg07B95u++++0bbv2GiFmX2YP+bbrpppPHYP5/hmAfT/pP0JBJtAk5MZHfPPfdUxx57bBAe837UAJlIrJVTC7wJpccff3xMJ6UWvfLKK0GcPv3001CFmuVURGHIFfWGczNzSGH2nXfeGQ7OCH75eCueK0Q0NdV8klVWWSX28eKLL4594xxTzUkkugciwf4FEJodkAX2rwHC+Av2L0VUa//ey8bUw9Tbf39tjj9Si2Obn3zySXzHyy+/HATHdx9xxBFh/+YSsX8rz7N/xK3Yv/e3W6t+kp5Eoo3AOXiQs5ENRY7at88777wYcW9Yn9ZOjlBeHCFCOlZeeeXoENENoT6IUzz99NPD8VCRDPjTGi5arH2oI/C85R5uvfXWaKsnuZ966qnh1HbdddeINq0xJoLj1LTgc3LUHKqOVY8Vaeu8ULAtckWWmuF4E4nhBPbCbor9SwOz3XPPPTfsX4dTae1m//6VNmb/ioPZ/3777RdDEtm/4ARBYd8IkqCl3gd4CLS8h6LsuygzfIhao6222iq2jcxIUfE5xfewf+sOWg9L3U6x/8FUosaEJD2JRJuD46C6SA2999574aQ4wgsuuCAGnymKRIZ0hpHGERPSMqfkX7OCDEsUNVq0r/7h+ZEjR4YzVVdEWre4py4TKTavcarbbbddECpDAzlSeXu5eVGgaG4w022JxFCGlDD7p7aw/zvuuCPsX2DC/pGhRvYvMCk2jByZcFxv/2oKveY93sv2+QDb8H81ObYt+PFdCI66PIpPJ9p/kp5EogOBCHGEUkecoQ4p+f633norcucckjoAzolyI+qjxnCStQ8zhNQMqLnxPpGhuSJqDB5//PGQzt9+++1In3322WeRk1eHlN1WicTggRrUE/u/5JJLQiU+66yzIlipt//yMEbCe6g8PuOzDzzwQExJpzbbtu/wXQiO7+5UFTdJTyIxhMAReXCKIi/kxINSRDLv6lHeVx4+W9JTnercEonhiEb279GdD/Ba7Xtr7X+oIUlPIpFIJBKJYYEkPYlEIpFIJIYFkvQkEolEIpEYFkjSk0gkEolEYlhgWJIeg5NUuBu4lo985CMf+chHPobHw71/9913H8UGBhctIz177bVXzCQx1C0f+chHPvKRj3wMj4d7Pw7QDmgZ6UkkEolEIpEYTCTpSSQSiUQiMSyQpCeRSCQSicSwQJKeRCKRSCQSwwJJehKJRCKRSAwLJOlJJBKJRCIxLJCkJ5FIJBKJxLBAkp5EIpFIJBLDAkl6EolEIpFIDAsk6UkkEolEIjEskKQnkUgkEonEsECSnkQikUgkEsMCSXoSiUQikUgMCyTpSXQM/uM//qP67//+71H/aw/Yn//8z/8c9b/mwDb/8Ic/NH27ia7xt7/9rfqv//qvUf/rHv/+7/+ev00f4TznuUsMJpL0tAB/+ctfqieeeKJ65JFHvvV48skn4wbH4b733nvVv/3bv436VO/x1VdfVc8991z11ltv9cqx/PKXv6z+9Kc/jfrf32F/XnnlldjHxx9/PI6hEf7nf/6nev/99+N9jz32WL/2vyt8/PHH1YUXXljtvvvu1S9+8YtRzw4u/vjHP1Y/+tGPYp8cd7Pg/J1zzjnVyiuvXL388sujnv07/K61147H888/X/3ud78b9Y7Ww+//wQcfVL/97W9HPdNZ+Nd//dfq7LPPrjbYYIM4ju7wm9/8Jq7DjTbaqHr77bdHPZvoCT7//PPq/PPPrzbZZJPqJz/5yahnv4m//vWv8Ru4pnoLvrPeNsqDT+QPkdWf/exnPSa39RCMfPjhh9VTTz0VPqkr/PnPf/6Wv+cj+IzE4CNJTwuAMNxwww3VRBNNVC200ELVtddeW91zzz3VBRdcUK244orVO++8U3322WfVLLPMUp155pmjPtU73HjjjdXUU09djT/++NU///M/V8svv3w49K7AgH/84x9X22yzTXX00UdXX3zxxahX/g6OwU3XzeAf//Efq+uuu66hMxK5rbLKKtV3vvOdOB6Oq9ngME866aRq2mmnDafVDuDYrr766jjfN91006hn+wfn17ZcG7/61a+qX//616Ne+TteffXVatVVV60mnXTSONdI12qrrRb/bybx6g1cNwsvvHC1+eabhxLXaXCeDzzwwGqcccap3n333VHPNsaXX34ZtuJaryekwwFIg8CqL3CdHHPMMWEvb7zxxqhnv4lLLrmkmnnmmftEoJEe2//e974XPu3222+v7rjjjvhtl1lmmQgm2Mv0008/RnLbCPzc3nvvXU088cTVeOONV4099tjVUUcd1TDIEwSyyQknnHD0Y6qpphrj9ZVoDZL0tAiUlBEjRlRbb711GFDBrbfeGoTHc/fee2+3EUR32GeffaqHHnqo+ulPfxqkavLJJ68OPfTQUa9+E5zXxRdfXO28887x/u5w6aWXxrYoD7///e9HPfu/eOaZZ6p55pmnmmSSSapPP/101LPNxwsvvFDNOuusfXJYA4VPPvkkiCbn2gz8/Oc/D1LcVSQMp59+etwYynXipj3ddNNV++67b/y/1XAtue5ee+21PkXo7YDbbrstbkxuVmOCqP373/9+lzfuoQyBz5prrjnqf73Ho48+Gr5EkNcI7Om+++7rc/rLbzLZZJNV119//ahnqiBQAiZBnuDp7rvv7lNgJuDYbLPN4jqnuCJA3/3ud2N79XAcO+ywQ1xPH330UTyo6WwlMfhI0tMiUAYWWWSRarvttvvGxV97o2CY9TcO/6e6eJTX69/jNYZe6yy23377UAUa4f7776/mmmuuIFtjAkcnohG5kHVr4TjI1bvssks4GzfgWtjfsu/1+1yOpbynoKvPvPjii9Xss88exKAr1G6vbL9so7wG5fWC2s/UovYzjd7jeKlPHF9X22iE8l6Psn8gjTjjjDNG1Fr7fC3OPffcIH9FxZNymWGGGaqzzjor/g8+W7/9cizlUf9c7ff5f6NjKc/X73fZTi262kZ5r38bbasetduuf39X3wHlta62X7brdYEHFbb22qp9vXb7btxUoa7SW/X7W/vZsr36ffJ3eXT1us+W13u6zfJ87fuhq8+U76j9bO3r0oCCn9rnoKvtgf+X1x9++OFqiimm6DLQKu8tKP+v3Ubt6/VARpCqW265ZdQzf99GLRp9vmy77H/9Z4BtSlkVuFYmmGCC6rTTTvvW+5GeAw44oCOVz+GAJD0tQiPSI2pAJL7++uvq8ssvr9Zbb71QaQo4B4qM57bccstqnXXWCfXmqquuGvWOruF79txzz1H/+18w7LXXXrs677zzQi1QE0KhaWTogPSI5H1m4403/gZhcwMgKYukakkP1ermm2+OVN2VV15Z/cu//Eu13377xQ3ad3IUjpUTdEwcKSXM/x2v95Okyd3FSSE9c8wxR5ekh6NRC0PCdtwI30EHHRTPSRfZpuhLJDn//PPHvokCkcUzzjgjJPG11lorIjrk0b7suuuuoaBdc8011VZbbVUtsMAC8R61TlBIzymnnBIyuuNYbLHFqrvuuquhc3XufJ/aBr83pe3www+PmhxpgyOPPDIcqe9UO1JfZwVIzzTTTBNpsDvvvDOcq2tC6gVcM64PaRi/mWNw3u3r/vvvX6200kpx85JyRa78LjvttFNEpa5Rvzd1z+/gGqJiuTZcJ8cee2xs+5BDDom/7Z8bjHNj264tUbTfvpzT1VdfvXr22WdjG35DEbL9uuyyy+J1NkH99PvVwvnzfsdn+46XDVAVfbf98dqSSy4Z11BJHfjtnH8kkN04PnVX5bqxH1KkiCqFx7W71FJLhdIjIgfny/H73R2H7y/prEJ6pIZr4diffvrphteZ390++U3Zwx577BHn2G/get10002r4447rjr11FOrDTfcMI7RNhBb6oVry3n02Xnnnbc64ogj4vy4EV900UXxmzjGk08+OX4TioZtOX7PUShKykh9i/1wbH4L15xrw3t9t2vDZ9mntKVr1TmlPtrObLPNFjbvWKGrfXCe1b84z64h21xhhRWCXNYrat7rfAqu+Bj+EIE5+OCDo37qiiuuqHbcccdq0UUXjf93pcjVkx6/ie9HPlzrxx9/fBxjUaR9L+VOmtrvTcViC/ZjTOlLx+aaUVZQD9fRtttuGz7Wb8fftUtaPpGkp2UopEeKy03DTWKJJZYYfYNUoDvnnHOGARZwMkgR4+TURUmMs9HNsBYUHN8j9VQPDoOaYB+QCDdZ6ZHixOrhJsix2U/5bIXXIJfNOXCmbvq1pOfBBx8MB6dAG9yQl1122XCkzgMH5DvXWGONcJacm5s+p4QwuUkgKpx/2UZ3pIdzQ3QQCefK+XH8hx12WDhQ38mZy6tLA7khuonaJufPKbpZuwkjIrbhMxwXUuM82qbz6ga5+OKLx/sdLydrm4oUpf8c43LLLdewaNFNttS++A7HZj+RFsfgmJ0XxMvnvaceSI+6BM7cw/aku5xz73f9ID6+w817vvnmi2P1GqKgpqLcFFx3SIF6M3+7qbqpOP/eTxG0f256zo3zBX4jNzc3bTcQ54Sy6DPIixu6bTj36667btSFea8HouLGh1Q6x667H/zgB0FO64/XOXbjcG35br+BY1ZTgSzaPmJAAUQE4IEHHvhG+s85kDK0Dz7vhuTmVoi+886m7FMhPX7PkhLxcJ37XaEr0gOOr9F15rcZOXLk6Bqt119/Per33nzzzbiGEAk3dNe2fRQMSZsiv8414uUcucaRJCTAb8ymnG/HwaZ++MMfxrXqXJ544onxvN8OGfHdbtSu3UIQfZ/rjW2zUdctH+Wc2g/XmmPxvrIfashc5+zfjbzRPiC5/ML6668fv4PXnEcEgb00Ii227zpk464L/0e4EAt2YX/sN3t0bI1QSA9iw6aQS7+173Y9unZcG4X0IJTOu330HscndSmV7v1dwfGwFWp5fS0k+G0WXHDB+J34N0RVoJLEpz2QpKdFYMgciqiu5HgZGUME0T5DKZGDaG3uuece7VwZvddF0d3BjYCzVPvRyHCpNoiOSJtD5HQ5O46iEQrpYdxIGudvX+TlOUUOoJ70iFLtQwGHUooYOTw3dDcqNUy1cJNzvPaRs/CeogB0R3o4SOdWdF0g7SbCKpDCcD7dmArsF7LFyblZIjxu0gVurFQE56nAdqaccsq4gTheTljRZIHzhSjUF3z6LRSXUylqIRKUrnIjcUOVqnLz6Ar16S3khhLhOx2b/ztnpHikhVN38wD74PhEs8D5i6xLrZYbBPJCDfAQ/c8000yxTb87hcb1h5S5ifrt/ZZUNYpSgRsoguX7qTOOu5DXE044IX5HZAQ8X0gLAlIPN3nXXQE78fnaVMMWW2wR3+/4XHtUkdptsQXn1bVD5WCDtUBGEXp26XdDQigT5TwgPWwPuiM90Og6o/5QAMv2vEfg4Vy6dv1GbtKuxwIKjGvauUeckDIkqcB1g8zZH9tEIl0XCBZSYH/ZEAIioPJbUZOcO7+Lz1A5HKtr1jXu92WnBdQON+uiejh33lPQ1T6wXwSm9r3gfUhUV0qNYnwkvRQHO0/2t1aZobR2Vb9WSA/SzQaQDzZczisfIrDkWwFxR0YLcUGu+Kju7A+cT+qk72sEv31tEwKSa7v2KzH4SNLTIhTSU5ve4mCL7MyZk5MZOrgZcEgcFyjglfIZU8u2myJC04jwgJSIG1kxfKCQSN1wsPVw40N6OByqSKnt4fA4w0akRwpFdFkLx6GzQi0E0kT6L2ki4CjI7W7gnndjdfMo0Xd3pMexLr300hEJ2x/kyc291im5sXlPLThF51QKgiMW3VOfCtwAkMFa0kPp4tg54kJ6CnEFvx9HWk96EAvRvRtoLSgZtoEE9IX0gHPr/HP0UgmuM78zYu14kOsC5M555Oi9xw0QnEO/CeWH0iAK9luV6NQN17lwU0EQnF/kppCevfbaK95nu16jeLhmqW3Oe2mrd0P2u5Z0nM+70bk5NSI9bp5IeQE7sp9usgVqypAe1xDiZn9qr2XH7ObtvLphIsS1QD4K6XG8SK3UajkPCH6xuzGRnkbXGfWMQmJ7boDOK9XCsTvvSJ10pGu3QMpIZ6fn7B/lp+yD8+Tm79p1Hso2paCcHz6FokbFEeC4Xtgq23JtuoZ9hn34jECpkB5EoMB7bOOll16K/9eSnjHtg+PxW9QCGXJuuyI9/Iz9K6THuXStFL8CSDoS2QiF9BQl07krhAmcA9srhISfRMJ8znspZPU1l/VwbqmrjVT0rsDfUa3ZemLwkaSnReAIkJqujKooPbVFeJyMyIRMPqY8M4fPUbspdme0bl7IFKWiQEqkyPf14BhEhMA5ikqlrigCyAVnwVG66ZbCaK9x/KJY8B4G76bP4ZQbXS3p4VjJxUXZccOsJTnUmPr9LrB9N3DSuvMkTUZFqr2JOq8cdC2oC467RIKie3U5BY1IDxIo7WXbjUgPYshxl5t8gXPhnHCY9rfAufOdHL3zLHXVHelxLdSSHttCLBAd59WNshBl+0j1QEoLkA3XoXNkW0WRsB2/q+uzVnEAryHJ/rWf0iF+G2TAdxpZUOrHKBRuTM6Z7fi/m3ohgZQev3Mh+z7vRuR9tb9XgRooKZQCwYAbCCWpQL0Hku26d+1JYdSmHainfhPHgHQhTUV5ckxudiW95fpEPKW8GsFv1F0hc6PrbLfddouggg+oh31Wl1RLevwr5Wu/APFD2grp8brj5S/KeayFG73fyfv4DHaH+EppU9WQ4XogiUiM36cASSvpVqAYFiIzpn0wUoHvqrWDEjR1RXqcW4plIT3OpW3UNlxIUyoNaIRCerpSw/kQ114hPfwZxQZJF/g5R41+owL2TpGzna7geqau1dqQ341dFz+aGFwk6WkRGBjnTlovRl0LNyO531pn62+SdHFi3cHN082BY3Pj9+BIqRluor5XNFacW0l5uDlJCXTVdk0FKeoTcFza00ukw/khByLKQlDIxOqP3BwBOfIdUhWcASfpxlTqg4C0zbGLpO0zx8bhFqVBOqMrFcQ+ID0IBQfTyHHJwXOotc7IjZo8j0BIjTkvtVG64/KbFbWJs3QzKvvgeZGriLQAufM7FiWjFo5fWqOoBM69WpkyY8dvYHtdtfSC39W5c+Ny3M6hfUS8ECvHQ62xr0izfXENFfhOx0DZsK+2UeB687s5HgTEg9LhmvFaIX8IjBsFgkrBosRQEZxbBESNj9+Yk3eTRLL83+uIJsJU0ltFAXPdNiI9SLfUUIHzivzWRtpuXFJ2jsW1py4DUfB/1x5lRzBg+xRD0b39dBNzY1c7J/2AaNtHqpGbY1EK2V75zVwnY4011mgiUI9G15nfRm1KSTl7TfDh2P0fKXTtUQRAAODmWsiEc4AssIsC+4ZwIyklyHE9InvIbCEWSK3fh9pFhXHzda7LZ/yG/IvfGHnlMwrsh+ux3OSpT84LEuLm3t0+ULLYq3PLvpw/wQJyWWqK6uE8+W35ShCMuVZq1RoqHkW4EfwmrmvnqxEoSQKjUu/l3FAJ+SnXY7m+G8ExqVFC6It/9WBDPmffqYh+M/snZYhY8xWIOF8yJh+eaA2S9LQADIr8Lyri4BhHiTZABKqexA1LlEgGBvUfnADH4ebops4h16amQNTpxiCCrX1wvgy9pGTcEMBNlZPl4KSpOOp6g+cE3SioENJV1APvcaOgLLiBuKlwhN7j+zg1kV25SSJh1BMGX4iBm4waDJG3G2epJ3AzQ8w4JTcxN3UOjvKAdHE4PuMc1MN+iNTczESCzpXvcN44QgWF9tH5d55LbYQ0nXMk+nUcJTXh5sRB2W9O2rH5XioBZw9+A0TO56kpRe1xnvyOfqf6FJcbgzoj3yGqdO7dRN0EFfRSnSgC6mCQv3pw1m5MVB2OVKTtWio3Q9vxmyFFFDk3Ld9h/2rrp6gkbqLlpl5Q0hKUFLVMyILj8Xv6bR2T8yR1Ipp1jqSlfJfrD8lxc7N/fkeE2ecVzzqnfkf7jwS58fq8cyT14/epJd6uL++XnnM+nWvnxE3KOSrn3G9vfxCt0j6MXPoeN382ROkpJMS15qboZirNK1Xid7dN1xoi4rd1vAij1JTf3ne7WVP+XA9+o1oVw3bZUaPrrHxnuVZsj104r64J58e161/fyybK/vrdnJ9yXSChBfabTaiZcjNGKJ1P16399FshvLXHr+bH7+Ma9BnBhRszIsw3UfuomfaZrTqv7FFAw2/47dhL8VFd7YPfz+9AqXEt+N0QL9eK469Vb/xmXnNubMt2bJ+P8n0Kkvkd2/Qb+S7HVgtBj+vV5/0GbL4WbF1qzm/AR4D9dLyO2zHyG86b68bxF/jbeSx+tfbBhwk22LPt8OuuFeQQ6fO7OZ+J9kGSnjaFSE30TOGgXni4gXManFpvwOFx5LWGzFBFUCWq6ilsq6RExgSRjkiyRLBjgptgT1SterhRIQFInfSXcyWqpTIgUiXNVg/O1o2Loyo3hVqUm4fXEddG7+ktfCdn25fj7AncGOyvc+K7GsENTKG5m249yv65KdX+zs6hG49Hieq7gt/d+5pxvvoK1zWSWEhqPfzubKKrffS88+g9jc5TX2Cf2IN9Kr+Ncym9hSw45859V79bI9iWbTrn5XP2nTJBYWlke54rKl1vvqtcG2yh9nON9qHAdxTC0k6wPwKEQk6Lj0XcKaeNUoDdgS3XkmDH7Zz01FcmWockPW0KhaDUDfJ8AQNyE67tSkr8ffYICb+W3HD8VBDR25hu0l3BjUhUWEsWOx1uSiL/2lRJYvDgmqWSSZX0hoAk+gekhDKD+NQCMaVQ16bUEkMLSXraFIp8yd2lc0JkojVaLUJtkWbi7wWG5HqdSCWiJGeTybsqOO0Obj6iV4SJA+xKCeokiESRHY+SBkoMLvwG1ADpIukfSkmiNRAISf1Kn1LzQIpd6l59ZLspU4nmIUlPG0M6S52HXLcbuLqVgUiJDAVIa6njUQdEDVMz0VVqY0zgEBUBuxF5KAwm63cySO/qU9RJlELOxOBCmkkNVbnO1D0NJVWx3SGQUT/FZ1DV1Y111yGbGBpI0pNIJBKJRGJYIElPIpFIJBKJYYEkPYlEIpFIJIYFkvQkEolEIpEYFkjSk0gkEolEYlggSU8ikUgkEolhgSQ9iUQikUgkhgWS9CQSiUQikRgWSNKTSCQSiURiWCBJTyKRSCQSiWGAqvr/AU3+w+lIL0tiAAAAAElFTkSuQmCC)"
      ],
      "metadata": {
        "id": "f9tBGYlhlrre"
      }
    },
    {
      "cell_type": "code",
      "source": [
        "# Conversion from BayesianModel to MarkovModel is accomplished by\n",
        "mm = model.to_markov_model()\n",
        "mm.edges()"
      ],
      "metadata": {
        "colab": {
          "base_uri": "https://localhost:8080/"
        },
        "id": "pCgPcc1u2QHd",
        "outputId": "63690d82-2f33-4828-aa7f-a3be29b7d4c2"
      },
      "execution_count": 24,
      "outputs": [
        {
          "output_type": "execute_result",
          "data": {
            "text/plain": [
              "EdgeView([('rain', 'traffic_jam'), ('rain', 'accident'), ('traffic_jam', 'long_queues'), ('traffic_jam', 'late_for_school'), ('traffic_jam', 'accident'), ('traffic_jam', 'getting_up_late'), ('late_for_school', 'getting_up_late')])"
            ]
          },
          "metadata": {},
          "execution_count": 24
        }
      ]
    },
    {
      "cell_type": "code",
      "source": [
        ""
      ],
      "metadata": {
        "id": "Cz80893KoKc_"
      },
      "execution_count": null,
      "outputs": []
    }
  ]
}